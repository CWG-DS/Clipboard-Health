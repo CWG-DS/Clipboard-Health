{
 "cells": [
  {
   "cell_type": "markdown",
   "metadata": {},
   "source": [
    "# Data Preprocessing"
   ]
  },
  {
   "cell_type": "markdown",
   "metadata": {},
   "source": [
    "**Importing and Exploring** <br/>\n",
    "We import the data and print it in order to get a sense of the type of data we are dealing with. Additionally we explore basic information such as the mean distribution of the \"PAY\" values based on if they were \"Accepted\" or \"Declined\" rides. "
   ]
  },
  {
   "cell_type": "code",
   "execution_count": 2,
   "metadata": {},
   "outputs": [
    {
     "data": {
      "text/html": [
       "<div>\n",
       "<style scoped>\n",
       "    .dataframe tbody tr th:only-of-type {\n",
       "        vertical-align: middle;\n",
       "    }\n",
       "\n",
       "    .dataframe tbody tr th {\n",
       "        vertical-align: top;\n",
       "    }\n",
       "\n",
       "    .dataframe thead th {\n",
       "        text-align: right;\n",
       "    }\n",
       "</style>\n",
       "<table border=\"1\" class=\"dataframe\">\n",
       "  <thead>\n",
       "    <tr style=\"text-align: right;\">\n",
       "      <th></th>\n",
       "      <th>PAY</th>\n",
       "      <th>ACCEPTED</th>\n",
       "    </tr>\n",
       "  </thead>\n",
       "  <tbody>\n",
       "    <tr>\n",
       "      <th>0</th>\n",
       "      <td>29.358732</td>\n",
       "      <td>0</td>\n",
       "    </tr>\n",
       "    <tr>\n",
       "      <th>1</th>\n",
       "      <td>22.986847</td>\n",
       "      <td>0</td>\n",
       "    </tr>\n",
       "    <tr>\n",
       "      <th>2</th>\n",
       "      <td>18.020348</td>\n",
       "      <td>0</td>\n",
       "    </tr>\n",
       "    <tr>\n",
       "      <th>3</th>\n",
       "      <td>45.730717</td>\n",
       "      <td>1</td>\n",
       "    </tr>\n",
       "    <tr>\n",
       "      <th>4</th>\n",
       "      <td>14.642845</td>\n",
       "      <td>0</td>\n",
       "    </tr>\n",
       "  </tbody>\n",
       "</table>\n",
       "</div>"
      ],
      "text/plain": [
       "         PAY  ACCEPTED\n",
       "0  29.358732         0\n",
       "1  22.986847         0\n",
       "2  18.020348         0\n",
       "3  45.730717         1\n",
       "4  14.642845         0"
      ]
     },
     "execution_count": 2,
     "metadata": {},
     "output_type": "execute_result"
    }
   ],
   "source": [
    "# Importing the data and observing a sample of it\n",
    "import pandas as pd\n",
    "data = pd.read_csv('driverAcceptanceData - driverAcceptanceData.csv')\n",
    "data = data.drop(['Unnamed: 0'], axis=1)\n",
    "data.head()"
   ]
  },
  {
   "cell_type": "code",
   "execution_count": 3,
   "metadata": {},
   "outputs": [
    {
     "data": {
      "text/html": [
       "<div>\n",
       "<style scoped>\n",
       "    .dataframe tbody tr th:only-of-type {\n",
       "        vertical-align: middle;\n",
       "    }\n",
       "\n",
       "    .dataframe tbody tr th {\n",
       "        vertical-align: top;\n",
       "    }\n",
       "\n",
       "    .dataframe thead tr th {\n",
       "        text-align: left;\n",
       "    }\n",
       "</style>\n",
       "<table border=\"1\" class=\"dataframe\">\n",
       "  <thead>\n",
       "    <tr>\n",
       "      <th></th>\n",
       "      <th>Rejected</th>\n",
       "      <th>Accepted</th>\n",
       "    </tr>\n",
       "  </thead>\n",
       "  <tbody>\n",
       "    <tr>\n",
       "      <th>PAY</th>\n",
       "      <td>18.624636</td>\n",
       "      <td>32.076048</td>\n",
       "    </tr>\n",
       "  </tbody>\n",
       "</table>\n",
       "</div>"
      ],
      "text/plain": [
       "      Rejected   Accepted\n",
       "PAY  18.624636  32.076048"
      ]
     },
     "execution_count": 3,
     "metadata": {},
     "output_type": "execute_result"
    }
   ],
   "source": [
    "# Checking means\n",
    "data_mean = data['PAY'].groupby(data['ACCEPTED']).mean()\n",
    "df = pd.DataFrame(data_mean)\n",
    "dfmean = df.T\n",
    "dfmean.columns = [['Rejected', 'Accepted']]\n",
    "dfmean"
   ]
  },
  {
   "cell_type": "markdown",
   "metadata": {},
   "source": [
    "**Raw Data Visualization** <br/>\n",
    "We then proceed to visualize the data in order to get a better sense of the shape of the distribution."
   ]
  },
  {
   "cell_type": "code",
   "execution_count": 4,
   "metadata": {},
   "outputs": [
    {
     "data": {
      "text/plain": [
       "[Text(0.5, 0, '')]"
      ]
     },
     "execution_count": 4,
     "metadata": {},
     "output_type": "execute_result"
    },
    {
     "data": {
      "image/png": "[encoded data removed]",
      "text/plain": [
       "<Figure size 640x480 with 1 Axes>"
      ]
     },
     "metadata": {},
     "output_type": "display_data"
    }
   ],
   "source": [
    "import matplotlib.pyplot as plt\n",
    "import seaborn as sns\n",
    "\n",
    "ax = sns.boxplot(x=data['ACCEPTED'], y=data['PAY'])\n",
    "sns.despine(top=True, right=True)\n",
    "ax.set_xticklabels(['Declined','Accepted'])\n",
    "ax.set(xlabel=None)"
   ]
  },
  {
   "cell_type": "markdown",
   "metadata": {},
   "source": [
    "At first glance it seems that both Accepted and Declined payment distributions adhere to a Gaussian/Normal distribution. However, there seems to be some outliers that should be dealt with before continuing our analysis."
   ]
  },
  {
   "cell_type": "code",
   "execution_count": 5,
   "metadata": {},
   "outputs": [],
   "source": [
    "# Getting rid of Outliers using the Interquartile method\n",
    "import numpy as np\n",
    "Declined = data[data['ACCEPTED']==0].reset_index(drop=True)\n",
    "q75,q25 = np.percentile(Declined['PAY'], [75,25])\n",
    "intr_qr = q75-q25\n",
    "max = q75+(1.5*intr_qr)\n",
    "min = q25-(1.5*intr_qr)\n",
    "Declined[Declined[\"PAY\"] < min] = np.nan\n",
    "Declined[Declined[\"PAY\"] > max] = np.nan\n",
    "\n",
    "Accepted = data[data['ACCEPTED']==1].reset_index(drop=True)\n",
    "q75,q25 = np.percentile(Accepted['PAY'], [75,25])\n",
    "intr_qr = q75-q25\n",
    "max = q75+(1.5*intr_qr)\n",
    "min = q25-(1.5*intr_qr)\n",
    "Accepted[Accepted[\"PAY\"] < min] = np.nan\n",
    "Accepted[Accepted[\"PAY\"] > max] = np.nan\n"
   ]
  },
  {
   "cell_type": "code",
   "execution_count": 6,
   "metadata": {},
   "outputs": [
    {
     "name": "stderr",
     "output_type": "stream",
     "text": [
      "C:\\Users\\chiaw\\AppData\\Local\\Temp\\ipykernel_17088\\92208927.py:2: FutureWarning: The frame.append method is deprecated and will be removed from pandas in a future version. Use pandas.concat instead.\n",
      "  data_clean = Accepted.append(Declined)\n"
     ]
    },
    {
     "data": {
      "text/plain": [
       "<AxesSubplot: xlabel='ACCEPTED', ylabel='PAY'>"
      ]
     },
     "execution_count": 6,
     "metadata": {},
     "output_type": "execute_result"
    },
    {
     "data": {
      "image/png": "[encoded data removed]",
      "text/plain": [
       "<Figure size 640x480 with 1 Axes>"
      ]
     },
     "metadata": {},
     "output_type": "display_data"
    }
   ],
   "source": [
    "# Visualizaing new distributions\n",
    "data_clean = Accepted.append(Declined)\n",
    "sns.boxplot(x=data_clean['ACCEPTED'], y=data_clean['PAY'])"
   ]
  },
  {
   "cell_type": "markdown",
   "metadata": {},
   "source": [
    "Once we have gotten rid of the outliers using an interquartile approach we can proceed to check our assumption of normal distribution. In order to do so we will employ a Shapiro-Wilks Test"
   ]
  },
  {
   "cell_type": "code",
   "execution_count": 7,
   "metadata": {},
   "outputs": [
    {
     "name": "stdout",
     "output_type": "stream",
     "text": [
      "ShapiroResult(statistic=0.9954842329025269, pvalue=0.13742683827877045)\n",
      "ShapiroResult(statistic=0.9946429133415222, pvalue=0.10058016330003738)\n"
     ]
    }
   ],
   "source": [
    "from scipy.stats import shapiro \n",
    "\n",
    "#Shapiro-Wilk test for normality\n",
    "print(shapiro(data_clean[data_clean['ACCEPTED']==1]['PAY']))\n",
    "print(shapiro(data_clean[data_clean['ACCEPTED']==0]['PAY']))\n"
   ]
  },
  {
   "cell_type": "markdown",
   "metadata": {},
   "source": [
    "The results from this test show a p-value of 0.14 and 0.10 for our Accepted and Declined distributions, values above our 0.05 threshold. Therefore we can assume that both distributions adhere to the characteristics of a normal distribution going forward with our analysis."
   ]
  },
  {
   "cell_type": "markdown",
   "metadata": {},
   "source": [
    "**Percentage of Ride Decline x Amount Payed**"
   ]
  },
  {
   "cell_type": "markdown",
   "metadata": {},
   "source": [
    " In order to asses the % of Driver Acceptance we must compare the proportion of\n",
    " Accepted vs Declined requests at every PAY point. Due to PAY being a continuous\n",
    " variable we will need to group them based on intervals. The smaller these intervals\n",
    " the more precise our measurements will be. However, given our small sample size of 1000\n",
    "data points we wont be able to be very precise and will opt for an interval size of 1 $"
   ]
  },
  {
   "cell_type": "code",
   "execution_count": 8,
   "metadata": {},
   "outputs": [],
   "source": [
    "# Distribution range\n",
    "Min = int(data_clean['PAY'].min())\n",
    "Max = int(round(data_clean['PAY'].max(), 0))\n",
    "# Range of our distribution [0,51]"
   ]
  },
  {
   "cell_type": "code",
   "execution_count": null,
   "metadata": {},
   "outputs": [],
   "source": [
    "# Creating the intervals\n",
    "import numpy as np\n",
    "Accepted = data_clean[data_clean['ACCEPTED']==1]\n",
    "Declined = data_clean[data_clean['ACCEPTED']==0]\n",
    "\n",
    "# Set up\n",
    "Intervals = []\n",
    "start = 0\n",
    "for i in range(0, 51):\n",
    "    Intervals.append(start)\n",
    "    start = start + 1\n",
    "\n",
    "Accepted.loc[:,'Counter'] = 1\n",
    "Declined.loc[:,'Counter'] = 1\n",
    "\n",
    "\n",
    "Int_Accepted = Accepted.groupby(pd.cut(Accepted['PAY'], Intervals)).sum()\n",
    "Int_Declined = Declined.groupby(pd.cut(Declined['PAY'], Intervals)).sum()\n"
   ]
  },
  {
   "cell_type": "markdown",
   "metadata": {},
   "source": [
    "Recreating our initial dataframe with our intervals as indexes and grouping PAY values based on these indexes. Additionally, adding an extra column \"% Declined\" which is calculated by: [Number of Declined Rides] * 100 / [Total Rides Requested] within each [PAY] interval."
   ]
  },
  {
   "cell_type": "code",
   "execution_count": 10,
   "metadata": {},
   "outputs": [
    {
     "data": {
      "text/html": [
       "<div>\n",
       "<style scoped>\n",
       "    .dataframe tbody tr th:only-of-type {\n",
       "        vertical-align: middle;\n",
       "    }\n",
       "\n",
       "    .dataframe tbody tr th {\n",
       "        vertical-align: top;\n",
       "    }\n",
       "\n",
       "    .dataframe thead th {\n",
       "        text-align: right;\n",
       "    }\n",
       "</style>\n",
       "<table border=\"1\" class=\"dataframe\">\n",
       "  <thead>\n",
       "    <tr style=\"text-align: right;\">\n",
       "      <th></th>\n",
       "      <th>Accepted</th>\n",
       "      <th>Declined</th>\n",
       "      <th>% Declined</th>\n",
       "    </tr>\n",
       "    <tr>\n",
       "      <th>PAY</th>\n",
       "      <th></th>\n",
       "      <th></th>\n",
       "      <th></th>\n",
       "    </tr>\n",
       "  </thead>\n",
       "  <tbody>\n",
       "    <tr>\n",
       "      <th>(0, 1]</th>\n",
       "      <td>0</td>\n",
       "      <td>3</td>\n",
       "      <td>100.0</td>\n",
       "    </tr>\n",
       "    <tr>\n",
       "      <th>(1, 2]</th>\n",
       "      <td>0</td>\n",
       "      <td>1</td>\n",
       "      <td>100.0</td>\n",
       "    </tr>\n",
       "    <tr>\n",
       "      <th>(2, 3]</th>\n",
       "      <td>0</td>\n",
       "      <td>0</td>\n",
       "      <td>NaN</td>\n",
       "    </tr>\n",
       "    <tr>\n",
       "      <th>(3, 4]</th>\n",
       "      <td>0</td>\n",
       "      <td>3</td>\n",
       "      <td>100.0</td>\n",
       "    </tr>\n",
       "    <tr>\n",
       "      <th>(4, 5]</th>\n",
       "      <td>0</td>\n",
       "      <td>4</td>\n",
       "      <td>100.0</td>\n",
       "    </tr>\n",
       "  </tbody>\n",
       "</table>\n",
       "</div>"
      ],
      "text/plain": [
       "        Accepted  Declined  % Declined\n",
       "PAY                                   \n",
       "(0, 1]         0         3       100.0\n",
       "(1, 2]         0         1       100.0\n",
       "(2, 3]         0         0         NaN\n",
       "(3, 4]         0         3       100.0\n",
       "(4, 5]         0         4       100.0"
      ]
     },
     "execution_count": 10,
     "metadata": {},
     "output_type": "execute_result"
    }
   ],
   "source": [
    "Clean_df = Int_Accepted.drop(['ACCEPTED', 'PAY'], axis=1).rename(columns={\"Counter\":\"Accepted\"})\n",
    "Clean_df['Declined'] = Int_Declined.drop(['ACCEPTED', 'PAY'], axis=1)\n",
    "\n",
    "Clean_df['% Declined'] = round(Clean_df['Declined'] * 100 / (Clean_df['Accepted'] + Clean_df['Declined']), 2)\n",
    "Clean_df.head()"
   ]
  },
  {
   "cell_type": "markdown",
   "metadata": {},
   "source": [
    "We then proceed to visualize the % of Declined rides by each price point."
   ]
  },
  {
   "cell_type": "code",
   "execution_count": 14,
   "metadata": {},
   "outputs": [
    {
     "data": {
      "text/plain": [
       "(array([ 0,  1,  2,  3,  4,  5,  6,  7,  8,  9, 10, 11, 12, 13, 14, 15, 16,\n",
       "        17, 18, 19, 20, 21, 22, 23, 24, 25, 26, 27, 28, 29, 30, 31, 32, 33,\n",
       "        34, 35, 36, 37, 38, 39, 40, 41, 42, 43, 44, 45, 46, 47, 48, 49]),\n",
       " [Text(0, 0, '(0, 1]'),\n",
       "  Text(1, 0, '(1, 2]'),\n",
       "  Text(2, 0, '(2, 3]'),\n",
       "  Text(3, 0, '(3, 4]'),\n",
       "  Text(4, 0, '(4, 5]'),\n",
       "  Text(5, 0, '(5, 6]'),\n",
       "  Text(6, 0, '(6, 7]'),\n",
       "  Text(7, 0, '(7, 8]'),\n",
       "  Text(8, 0, '(8, 9]'),\n",
       "  Text(9, 0, '(9, 10]'),\n",
       "  Text(10, 0, '(10, 11]'),\n",
       "  Text(11, 0, '(11, 12]'),\n",
       "  Text(12, 0, '(12, 13]'),\n",
       "  Text(13, 0, '(13, 14]'),\n",
       "  Text(14, 0, '(14, 15]'),\n",
       "  Text(15, 0, '(15, 16]'),\n",
       "  Text(16, 0, '(16, 17]'),\n",
       "  Text(17, 0, '(17, 18]'),\n",
       "  Text(18, 0, '(18, 19]'),\n",
       "  Text(19, 0, '(19, 20]'),\n",
       "  Text(20, 0, '(20, 21]'),\n",
       "  Text(21, 0, '(21, 22]'),\n",
       "  Text(22, 0, '(22, 23]'),\n",
       "  Text(23, 0, '(23, 24]'),\n",
       "  Text(24, 0, '(24, 25]'),\n",
       "  Text(25, 0, '(25, 26]'),\n",
       "  Text(26, 0, '(26, 27]'),\n",
       "  Text(27, 0, '(27, 28]'),\n",
       "  Text(28, 0, '(28, 29]'),\n",
       "  Text(29, 0, '(29, 30]'),\n",
       "  Text(30, 0, '(30, 31]'),\n",
       "  Text(31, 0, '(31, 32]'),\n",
       "  Text(32, 0, '(32, 33]'),\n",
       "  Text(33, 0, '(33, 34]'),\n",
       "  Text(34, 0, '(34, 35]'),\n",
       "  Text(35, 0, '(35, 36]'),\n",
       "  Text(36, 0, '(36, 37]'),\n",
       "  Text(37, 0, '(37, 38]'),\n",
       "  Text(38, 0, '(38, 39]'),\n",
       "  Text(39, 0, '(39, 40]'),\n",
       "  Text(40, 0, '(40, 41]'),\n",
       "  Text(41, 0, '(41, 42]'),\n",
       "  Text(42, 0, '(42, 43]'),\n",
       "  Text(43, 0, '(43, 44]'),\n",
       "  Text(44, 0, '(44, 45]'),\n",
       "  Text(45, 0, '(45, 46]'),\n",
       "  Text(46, 0, '(46, 47]'),\n",
       "  Text(47, 0, '(47, 48]'),\n",
       "  Text(48, 0, '(48, 49]'),\n",
       "  Text(49, 0, '(49, 50]')])"
      ]
     },
     "execution_count": 14,
     "metadata": {},
     "output_type": "execute_result"
    },
    {
     "data": {
      "image/png": "[encoded data removed]",
      "text/plain": [
       "<Figure size 640x480 with 1 Axes>"
      ]
     },
     "metadata": {},
     "output_type": "display_data"
    }
   ],
   "source": [
    "# Quick Visualization of likelyhood of rejection\n",
    "ax = sns.barplot(x=Clean_df.index, y=Clean_df['% Declined'])\n",
    "sns.despine(top=True, right=True)\n",
    "plt.tick_params(axis='both', which='major', labelsize=5)\n",
    "plt.xticks(rotation = -45)\n",
    "\n"
   ]
  },
  {
   "cell_type": "markdown",
   "metadata": {},
   "source": [
    "As expected there is a reduction in the % of declined rides as we increase the pay offered to drivers. However, even with a low sensitivity (1$ intervals) we dont have enough data to plot a smooth transition between intervals. As we can see, there is noticeable sudden \"jumps\" within the (31, 32] and (37,38] intervals mostlikely caused by our low number of samples."
   ]
  },
  {
   "cell_type": "markdown",
   "metadata": {},
   "source": [
    "**Data Generation**"
   ]
  },
  {
   "cell_type": "markdown",
   "metadata": {},
   "source": [
    "Given that both Decline and Accepted ride request both exhibit a Gaussian/Normal distribution we are able to generate further data points based on the characteristics (mean and standard deviation) of their respective distributions. We will therefore recreate these distributions with a sample size of 100.000.000 data points which will enable us to generate a more accurate estimate of which rides were accepted/declined for every driver offer range."
   ]
  },
  {
   "cell_type": "code",
   "execution_count": 31,
   "metadata": {},
   "outputs": [],
   "source": [
    "from numpy.random import normal\n",
    "\n",
    "# Declined Data Generation\n",
    "mean_d = data_clean[data_clean['ACCEPTED']==0]['PAY'].mean()\n",
    "std_d = data_clean[data_clean['ACCEPTED']==0]['PAY'].std()\n",
    "Dec_Pay = normal(loc=mean_d, scale=std_d, size=100000000)\n",
    "\n",
    "# Accepted Data Generation\n",
    "mean_a = data_clean[data_clean['ACCEPTED']==1]['PAY'].mean()\n",
    "std_a = data_clean[data_clean['ACCEPTED']==1]['PAY'].std()\n",
    "Ac_Pay = normal(loc=mean_a, scale=std_a, size=100000000)\n"
   ]
  },
  {
   "cell_type": "code",
   "execution_count": null,
   "metadata": {},
   "outputs": [],
   "source": [
    "import matplotlib.pyplot as plt\n",
    "\n",
    "fig = plt.figure()\n",
    "ax = fig.add_subplot(111)   \n",
    "ax1 = fig.add_subplot(211)\n",
    "ax2 = plt.subplot(212, sharex = ax1, sharey = ax1)\n",
    "\n",
    "ax.spines['top'].set_color('none')\n",
    "ax.spines['bottom'].set_color('none')\n",
    "ax.spines['left'].set_color('none')\n",
    "ax.spines['right'].set_color('none')\n",
    "ax.tick_params(labelcolor='w', top=False, bottom=False, left=False, right=False)\n",
    "\n",
    "# Declined\n",
    "sns.histplot(data=Dec_Pay, ax=ax1)\n",
    "\n",
    "ax1.spines['top'].set_color('none')\n",
    "ax1.spines['right'].set_color('none')\n",
    "ax1.set_xlim(0,60)\n",
    "\n",
    "# Accepted\n",
    "sns.histplot(data=Ac_Pay, ax=ax2)\n",
    "\n",
    "ax2.spines['top'].set_color('none')\n",
    "ax2.spines['right'].set_color('none')\n",
    "\n",
    "# Common Title\n",
    "ax.set_xlabel('100 Million Data Points')\n",
    "\n",
    "# Subplot Titles\n",
    "ax1.set_title('Declined', fontsize=10)\n",
    "ax2.set_title('Accepted', fontsize=10)\n",
    "ax2.set_xlabel('Driver Pay')\n",
    "\n",
    "plt.subplots_adjust(hspace=0.4)"
   ]
  },
  {
   "cell_type": "markdown",
   "metadata": {},
   "source": [
    "We can see in the above plots that the extreme values on the left side of out new Declined data set go beyond the 0 PAY point. Since we are not interested in unrealistic values we proceed to get rid of them:"
   ]
  },
  {
   "cell_type": "code",
   "execution_count": 39,
   "metadata": {},
   "outputs": [
    {
     "name": "stdout",
     "output_type": "stream",
     "text": [
      "Our sample size of accepted rides is now equal 99999639\n",
      "Our sample size of declined rides is now equal 99477697\n"
     ]
    }
   ],
   "source": [
    "# Getting rid of values under 0\n",
    "Ac_Pay = Ac_Pay[Ac_Pay >= 0]\n",
    "len(Ac_Pay)\n",
    "Dec_Pay = Dec_Pay[Dec_Pay >= 0]\n",
    "len(Dec_Pay)\n",
    "print(\"Our sample size of accepted rides is now equal \" + str(len(Ac_Pay)))\n",
    "print(\"Our sample size of declined rides is now equal \" + str(len(Dec_Pay)))\n"
   ]
  },
  {
   "cell_type": "markdown",
   "metadata": {},
   "source": [
    "The datramatic increase in sample size will enable us to both increase our precision in [% Decline] estimates and decrease our [PAY] intervals, effectively increasing our sensitivity. <br/>\n",
    "We once again proceed to group our newly generated data into intervals. This time with 0.01 $ sizes. "
   ]
  },
  {
   "cell_type": "code",
   "execution_count": 40,
   "metadata": {},
   "outputs": [],
   "source": [
    "# Grouping Accepted/Declined data in 0.01 width intervals\n",
    "Max = int(round(Ac_Pay.max(), 0))\n",
    "Min = int(round(Dec_Pay.min(), 0))\n",
    "# Creating intervals with 0.01 width\n",
    "Intervals = []\n",
    "start = 0\n",
    "for i in range(Min, Max*100):                          \n",
    "    Intervals.append(start)\n",
    "    start = start + 0.01\n",
    "Intervals = np.round(Intervals[:], 2)\n",
    "\n",
    "\n",
    "Accepted = pd.DataFrame(Ac_Pay)\n",
    "Declined = pd.DataFrame(Dec_Pay)\n",
    "\n",
    "Accepted.rename(columns={0:'PAY'}, inplace=True)\n",
    "Declined.rename(columns={0:'PAY'}, inplace=True)\n",
    "\n",
    "Accepted.loc[:,'Counter'] = 1\n",
    "Declined.loc[:,'Counter'] = 1\n",
    "\n",
    "C_Accepted = Accepted.groupby(pd.cut(Accepted['PAY'], Intervals)).sum()\n",
    "C_Declined = Declined.groupby(pd.cut(Declined['PAY'], Intervals)).sum()\n"
   ]
  },
  {
   "cell_type": "code",
   "execution_count": 45,
   "metadata": {},
   "outputs": [
    {
     "data": {
      "text/plain": [
       "(0.0, 60.0)"
      ]
     },
     "execution_count": 45,
     "metadata": {},
     "output_type": "execute_result"
    },
    {
     "data": {
      "image/png": "[encoded data removed]",
      "text/plain": [
       "<Figure size 640x480 with 1 Axes>"
      ]
     },
     "metadata": {},
     "output_type": "display_data"
    }
   ],
   "source": [
    "# Recreating our dataframe of interest \n",
    "Percent_df = C_Accepted.drop('PAY', axis=1).rename(columns={\"Counter\":\"Accepted\"})\n",
    "Percent_df['Declined'] = C_Declined['Counter']\n",
    "\n",
    "# Defining our [% Declined] column \n",
    "Percent_df['% Declined'] = round(Percent_df['Declined'] * 100 / (Percent_df['Accepted'] + Percent_df['Declined']), 2)\n",
    "#Percent_df = Percent_df.dropna()\n",
    "\n",
    "\n",
    "\n",
    "plt.bar(Intervals[1:], Percent_df['% Declined'][0:])\n",
    "plt.gca().spines['top'].set_color('none')\n",
    "plt.gca().spines['right'].set_color('none')\n",
    "\n",
    "plt.title('Likelihood of Rejection')\n",
    "plt.xlabel('Driver Pay')\n",
    "plt.ylabel('% of Declined Rides')\n",
    "\n",
    "plt.xlim(0,60)\n",
    "# Our result is an inverse sigmoid function as shown below"
   ]
  },
  {
   "cell_type": "markdown",
   "metadata": {},
   "source": [
    "As seen above, our resulting [% Decline] describes an inverse sigmoid distribution. We can also appreciate some deviance from this distribution at the right tail end. This should be revised. However, since the 30$ marks our break even point it will be irrelevant for our specific case and therefore will be ignored going forward."
   ]
  },
  {
   "cell_type": "markdown",
   "metadata": {},
   "source": [
    "# Fixed Price Strategy"
   ]
  },
  {
   "cell_type": "markdown",
   "metadata": {},
   "source": [
    "**Rejection function**"
   ]
  },
  {
   "cell_type": "markdown",
   "metadata": {},
   "source": [
    "Now that we have our data cleaned and expanded we can proceed to our next step, creating functions that will optimize our profits given our problem restrictions. "
   ]
  },
  {
   "cell_type": "code",
   "execution_count": 47,
   "metadata": {},
   "outputs": [],
   "source": [
    "# This function will result in a float which when multipled by the amount\n",
    "# of Ride Requests will output the total number of ACCEPTED Ride Requests\n",
    "# given the parameter X which is the amount paid to the DRIVER\n",
    "def Acceptance_Rate(x):\n",
    "    Percent = 1 - Percent_df.loc[x]['% Declined']/100\n",
    "    return Percent"
   ]
  },
  {
   "cell_type": "markdown",
   "metadata": {},
   "source": [
    "1. Function Set Up\n",
    "We import the necessary libraries and set up our initial parameters which are:\n",
    "- Lambda Value: 1\n",
    "- Number of Riders: 1.000\n",
    "- Maximun Possible Riders: 10.000\n",
    "- Exhausted Riders: 0 \n",
    "- Empty Profit List: []\n",
    "\n",
    "2. Main For Loop\n",
    "Since our program will last for a total of 12 months we will itterate the process of calculating our profits 12 times, once per month. There is a trigger set in place to stop the process if the number of Exhausted Riders goes over our preestablished 10.000 mark, this would mean that we have exhausted all of our possible riders and the program ends. \n",
    "\n",
    "2.1 Calculating our Poisson Distribution\n",
    "The number of rides per rider is described by a Poisson Distribution. For our first run, the number of samples of this distribution will be 1.000 and our lambda will be 1. The resulting distribution is saved within TotalLamb_Dist list. This list is then used in order to extract two essential components:\n",
    "- Unique_Values: A list containing the unique number of ride requests within TotalLamb_Dist.\n",
    "- NRi_NRe: A list containing the number of riders per unique number of ride requets.\n",
    "Example:\n",
    "        Unique_Values = [0, 1, 2, 3, 4, 6]\n",
    "        NRi_NRe = [300, 200, 100, 50, 10, 1]\n",
    "\n",
    "        300 Riders have requested 0 Rides\n",
    "        200 Riders have requested 1 Ride\n",
    "        100 Riders have requested 2 Rides\n",
    "        50  Riders have requested 3 Rides\n",
    "        10  Riders have Requested 4 Rides\n",
    "        1   Rider  has  Requested 6 Rides\n",
    "\n",
    "2.2 Number of Requests Accepted per Number of Requests Made\n",
    "We then proceed to calculate the number of requests accepted per Unique_Value. This is achieved through a costum function \"rider_lambda\" which requieres our previous lists as inputs. The function begins by dumping the initial element of each list as it corresponds with the number of users who have not requests any rides. Then it goes through each element within our NRi_NRe list and calculates the number of accepted rides per rider per number of requests given the probability of acceptance based on the Driver Pay amount as follows:\n",
    "        Given a 20% Acceptance rate and\n",
    "        Lambda_Values = [1, 2, 3, 4, 6]\n",
    "        NRi_NRe_Values = [200, 100, 50, 10, 1]\n",
    "\n",
    "        Results:\n",
    "        200*0.2^1 = 40.00; Out of the 200 people which requested a ride 1 time 40 were Accepted\n",
    "\n",
    "        100*0.2^1 = 20.00 \n",
    "        100*0.2^2 =  4.00\n",
    "\n",
    "        20 - 4    = 16.00; Out of the 100 people which requested a ride 2 times 16 were Accepted 1 time\n",
    "                     4.00; Out of the 100 people which requested a ride 2 times  4 were Accepted 2 times\n",
    "    \n",
    "        50*0.2^1  = 10.00\n",
    "        50*0.2^2  =  2.00\n",
    "        50*0.2^3  =  0.04\n",
    "\n",
    "        10 - 2    =  8.00; Out of the  50 people which requested a ride 3 times 8 were accepted 1 time\n",
    "        2 - 0.04  =  1.96; Out of the  50 people which requested a ride 3 times 1.96 were accepted 2 times\n",
    "                     0.04; Out of the  50 people which requested a ride 3 times 0.04 were accepted 3 times\n",
    "        (...)\n",
    "\n",
    "Once the function goes through each element it groups riders by the amount of requests accepted, regardless of the amount of requests made and rounded to the closest whole number. Finally, it drops values which are equal to zero. The final result is a list of accepted riders (Rider_Lamb) whose element position indicates the number of rides accepted, much like our previous Unique_Values and NRi_NRe List.\n",
    "Example for x = 20:\n",
    "        Rider_Lamb = [113.0, 9.0, 1.0]\n",
    "\n",
    "        113 riders have been Accepted 1 time\n",
    "          9 riders have been Accepted 2 times\n",
    "          1 rider  has  been Accpeted 3 times\n",
    "\n",
    "2.3 Calculating Profit\n",
    "Now that we have a list which describes the number of accepted rides we can easily calculate our profit as the difference between our earnings, defined as number of total rides accepted x 30, and costs, defined as total of rides accepted x Driver Pay.\n",
    "\n",
    "2.4 Next Loop Set Up\n",
    "Our final step is to determine the parameters for our next loop which are:\n",
    "Exhausted Riders: Number of riders who exit the program because either they did not use the service or were not accepted once. \n",
    "New Rider Pool: Established by our Accepted Ride list (Rider_Lamb) previously described and an additional 1000 new users added to the initial element of the list.\n",
    "New Lambda Values: A list which contains the values of our new lambda values which is determined by the element positions of our Accepted Ride list. \n",
    "\n",
    "After these elements are established the program itterates the process another 11 times before outputing a final profit value which is equal to the sum of the profits generated throughout the 12 months.\n"
   ]
  },
  {
   "cell_type": "markdown",
   "metadata": {},
   "source": [
    "After some exploration it is expected that the Attrition rate given current restrictions is so high that we exhaust our pool of 10.000 riders before the 12th month mark. "
   ]
  },
  {
   "cell_type": "code",
   "execution_count": null,
   "metadata": {},
   "outputs": [],
   "source": [
    "\n",
    "import numpy as np\n",
    "from scipy.stats import poisson\n",
    "import itertools\n",
    "\n",
    "# Initial Parameters\n",
    "x=20\n",
    "lamb = [1]                                                                           # Initial lambda value for our poisson distributions\n",
    "Ri_Retention = [1000]                                                                # Initial number of riders for first month\n",
    "Max_Riders = 10000                                                                   # Max. number of possible customers\n",
    "\n",
    "Exhausted_Riders = 0                                                                 # Exhausted Rider counter set at 0\n",
    "Profit = []                                                                          # Profit per itteration (month)\n",
    "\n",
    "# Poisson Distribution of every previous Lambda\n",
    "for month in range(0, 12):\n",
    "\n",
    "# Halting if Riders are exhausted\n",
    "    if Max_Riders <= Exhausted_Riders:\n",
    "        break\n",
    "\n",
    "    Total_LambDist = []                                                                  # List of lists containing all the distributions of each given lambda\n",
    "    for ele in range(0, len(lamb)):\n",
    "        Total_LambDist.append(poisson.rvs(mu=lamb[ele], size=int(round(Ri_Retention[ele],0))))\n",
    "\n",
    "    Total_LambDist = [item for sublist in Total_LambDist for item in sublist]            # Our complete new distribution\n",
    "    Unique_Values = list(set(Total_LambDist))                                            # Unique Number of Requests (0 Requests, 1 Request, 2 Requests...) \n",
    "\n",
    "# Number of Riders per Number of Requests\n",
    "    NRi_NRe = []                                                                         # Initializing list which will contain the amount of riders per number of requests\n",
    "    for i in range(0, len(Unique_Values)):                                               # Declaring for loop to iterate over every element of our Unique Values\n",
    "        NRi_NRe.append(np.count_nonzero(Total_LambDist == Unique_Values[i]))             # Appending total amount of every unique number of requests\n",
    "\n",
    "# We calculate the number of riders per lambda\n",
    "        Lambda_Values = Unique_Values[1:]\n",
    "        NRi_NRe_Values = NRi_NRe[1:] \n",
    "\n",
    "        Probability = []\n",
    "\n",
    "        for i in range(0, len(NRi_NRe_Values)):\n",
    "            Inner_List = []\n",
    "            Exp = Lambda_Values[i]\n",
    "            for e in range(1, 1+Exp):\n",
    "                Inner_List.append(NRi_NRe_Values[i]*Acceptance_Rate(x)**e)\n",
    "            for u in range(0, len(Inner_List)-1):\n",
    "                Inner_List[u] = Inner_List[u] - Inner_List[u+1]\n",
    "            Probability.append(Inner_List)\n",
    "\n",
    "    Rider_Lamb = [round(sum(i),0) for i in itertools.zip_longest(*Probability, fillvalue=0)]\n",
    "\n",
    "    Rider_Lamb = [i for i in Rider_Lamb if i != 0]\n",
    "    print(Rider_Lamb)\n",
    "# We calculate profits\n",
    "    # Earings\n",
    "    Earn = []\n",
    "    for i in Rider_Lamb:\n",
    "        Earn.append(i * (Rider_Lamb.index(i) + 1) * 30)\n",
    "    Earn = sum(Earn)\n",
    "\n",
    "    #Spending\n",
    "    Spen = []\n",
    "    for i in Rider_Lamb:\n",
    "        Spen.append(i * (Rider_Lamb.index(i) + 1) * x)\n",
    "    Spen = sum(Spen)\n",
    "\n",
    "    #Profit\n",
    "    Profit.append(Earn - Spen)\n",
    "\n",
    "# We calculate our new parametters (Rider_Retention, New Lambdas and Exhausted Riders)\n",
    "    Attrition = sum(Ri_Retention) - sum(Rider_Lamb)\n",
    "    \n",
    "    Ri_Retention = Rider_Lamb\n",
    "    if  len(Ri_Retention) == 0:\n",
    "        Ri_Retention = [0] \n",
    "    Ri_Retention[0] = Ri_Retention[0] + 1000\n",
    "\n",
    "    lamb = list(range(1, len(Rider_Lamb)+1))\n",
    "\n",
    "    Exhausted_Riders = Exhausted_Riders + Attrition                 # New Exhausted Riders\n",
    "    \n",
    " \n",
    "\n",
    "\n"
   ]
  },
  {
   "cell_type": "code",
   "execution_count": 62,
   "metadata": {},
   "outputs": [],
   "source": [
    "# Creating a function based on the previously described loop\n",
    "def profit(x):\n",
    "\n",
    "    import numpy as np\n",
    "    from scipy.stats import poisson\n",
    "    import itertools\n",
    "\n",
    "    # Initial Parameters\n",
    "    lamb = [1]                                                                           # Initial lambda value for our poisson distributions\n",
    "    Ri_Retention = [1000]                                                                # Initial number of riders for first month\n",
    "    Max_Riders = 10000                                                                   # Max. number of possible customers\n",
    "\n",
    "    Exhausted_Riders = 0                                                                 # Exhausted Rider counter set at 0\n",
    "    Profit = []                                                                          # Profit per itteration (month)\n",
    "\n",
    "    # Poisson Distribution of every previous Lambda\n",
    "    for month in range(0, 12):\n",
    "\n",
    "    # Halting if Riders are exhausted\n",
    "        if Max_Riders <= Exhausted_Riders:\n",
    "            break\n",
    "\n",
    "        Total_LambDist = []                                                                  # List of lists containing all the distributions of each given lambda\n",
    "        for ele in range(0, len(lamb)):\n",
    "            Total_LambDist.append(poisson.rvs(mu=lamb[ele], size=int(round(Ri_Retention[ele],0))))\n",
    "\n",
    "        Total_LambDist = [item for sublist in Total_LambDist for item in sublist]            # Our complete new distribution\n",
    "        Unique_Values = list(set(Total_LambDist))                                            # Unique Number of Requests (0 Requests, 1 Request, 2 Requests...) \n",
    "\n",
    "    # Number of Riders per Number of Requests\n",
    "        NRi_NRe = []                                                                         # Initializing list which will contain the amount of riders per number of requests\n",
    "        for i in range(0, len(Unique_Values)):                                               # Declaring for loop to iterate over every element of our Unique Values\n",
    "            NRi_NRe.append(np.count_nonzero(Total_LambDist == Unique_Values[i]))             # Appending total amount of every unique number of requests\n",
    "\n",
    "    # We calculate the number of riders per lambda\n",
    "            Lambda_Values = Unique_Values[1:]\n",
    "            NRi_NRe_Values = NRi_NRe[1:] \n",
    "\n",
    "            Probability = []\n",
    "\n",
    "            for i in range(0, len(NRi_NRe_Values)):\n",
    "                Inner_List = []\n",
    "                Exp = Lambda_Values[i]\n",
    "                for e in range(1, 1+Exp):\n",
    "                    Inner_List.append(NRi_NRe_Values[i]*Acceptance_Rate(x)**e)\n",
    "                for u in range(0, len(Inner_List)-1):\n",
    "                    Inner_List[u] = Inner_List[u] - Inner_List[u+1]\n",
    "                Probability.append(Inner_List)\n",
    "\n",
    "        Rider_Lamb = [round(sum(i),0) for i in itertools.zip_longest(*Probability, fillvalue=0)]\n",
    "\n",
    "        Rider_Lamb = [i for i in Rider_Lamb if i != 0]\n",
    "    # We calculate profits\n",
    "        # Earings\n",
    "        Earn = []\n",
    "        for i in Rider_Lamb:\n",
    "            Earn.append(i * (Rider_Lamb.index(i) + 1) * 30)\n",
    "        Earn = sum(Earn)\n",
    "\n",
    "        #Spending\n",
    "        Spen = []\n",
    "        for i in Rider_Lamb:\n",
    "            Spen.append(i * (Rider_Lamb.index(i) + 1) * x)\n",
    "        Spen = sum(Spen)\n",
    "\n",
    "        #Profit\n",
    "        Profit.append(Earn - Spen)\n",
    "\n",
    "    # We calculate our new parametters (Rider_Retention, New Lambdas and Exhausted Riders)\n",
    "        Attrition = sum(Ri_Retention) - sum(Rider_Lamb)\n",
    "    \n",
    "        Ri_Retention = Rider_Lamb\n",
    "        if  len(Ri_Retention) == 0:\n",
    "            Ri_Retention = [0] \n",
    "        Ri_Retention[0] = Ri_Retention[0] + 1000\n",
    "\n",
    "        lamb = list(range(1, len(Rider_Lamb)+1))\n",
    "\n",
    "        Exhausted_Riders = Exhausted_Riders + Attrition                 # New Exhausted Riders\n",
    "    return sum(Profit)"
   ]
  },
  {
   "cell_type": "markdown",
   "metadata": {},
   "source": [
    "Now that we have our fuction defined we can itterate over all our interval values of interest ([0.01, 30.00]) in order to observe the distribution of proffits across price ranges."
   ]
  },
  {
   "cell_type": "code",
   "execution_count": 155,
   "metadata": {},
   "outputs": [
    {
     "name": "stderr",
     "output_type": "stream",
     "text": [
      "100%|██████████| 3000/3000 [07:29<00:00,  6.68it/s]\n"
     ]
    }
   ],
   "source": [
    "from tqdm import tqdm\n",
    "# Itterating our function over every price interval\n",
    "List_Profit = []\n",
    "\n",
    "# We can limit the itterations from 0 up until 30 since its the break-even point\n",
    "for i in tqdm(Intervals[np.where(Intervals == 0.01)[0][0]:np.where(Intervals == 30.01)[0][0]]):\n",
    "    List_Profit.append(profit(i))\n",
    "\n",
    "\n"
   ]
  },
  {
   "cell_type": "code",
   "execution_count": 156,
   "metadata": {},
   "outputs": [
    {
     "data": {
      "text/plain": [
       "(0.0, 31.0)"
      ]
     },
     "execution_count": 156,
     "metadata": {},
     "output_type": "execute_result"
    },
    {
     "data": {
      "image/png": "[encoded data removed]",
      "text/plain": [
       "<Figure size 640x480 with 1 Axes>"
      ]
     },
     "metadata": {},
     "output_type": "display_data"
    }
   ],
   "source": [
    "Profit_df = pd.DataFrame(List_Profit)\n",
    "Profit_df = Profit_df.set_index([Intervals[1:3001]])\n",
    "Profit_df.columns = ['Profit']\n",
    "\n",
    "\n",
    "\n",
    "plt.bar(Intervals[1:3001], Profit_df['Profit'][0:], width=0.01)\n",
    "plt.gca().spines['top'].set_color('none')\n",
    "plt.gca().spines['right'].set_color('none')\n",
    "\n",
    "plt.title('Profit x Driver Pay')\n",
    "plt.xlabel('Driver Pay')\n",
    "plt.ylabel('Total Profit')\n",
    "\n",
    "plt.xlim(0,31)"
   ]
  },
  {
   "cell_type": "markdown",
   "metadata": {},
   "source": [
    "The figure above seems to represent a log normal distribution. However, this is taken from just one sample per Driver Pay. We could further itterate throughout the whole range of intervals but since we are only interested in maximizing our profits we can set a cut of point at 27.500$. We then obtain the min and max intervals that satisfy this condition and itterate over this smaller sample, saving computing time.\n"
   ]
  },
  {
   "cell_type": "code",
   "execution_count": 195,
   "metadata": {},
   "outputs": [
    {
     "name": "stdout",
     "output_type": "stream",
     "text": [
      "Minimun Interval: 24.15\n",
      "Maximun Interval: 26.82\n"
     ]
    }
   ],
   "source": [
    "Min_Interval = Profit_df[Profit_df['Profit']>=29000].index.min()\n",
    "Max_Interval = Profit_df[Profit_df['Profit']>=29000].index.max()\n",
    "print(\"Minimun Interval: \" + str(Min_Interval))\n",
    "print(\"Maximun Interval: \" + str(Max_Interval))"
   ]
  },
  {
   "cell_type": "code",
   "execution_count": 207,
   "metadata": {},
   "outputs": [
    {
     "name": "stderr",
     "output_type": "stream",
     "text": [
      "100%|██████████| 100/100 [1:40:42<00:00, 60.43s/it]\n"
     ]
    }
   ],
   "source": [
    "# Selecting only the interval [24.15, 26.99] and itterating 1000 times\n",
    "from tqdm import tqdm\n",
    "# Itterating our function over every price interval\n",
    "T_LP_Interval = []\n",
    "\n",
    "for u in tqdm(range(0, 100)):\n",
    "    List_Profit_Interval = []\n",
    "    for i in Intervals[np.where(Intervals == Min_Interval)[0][0]:np.where(Intervals == Max_Interval)[0][0]]:\n",
    "        List_Profit_Interval.append(profit(i))\n",
    "    T_LP_Interval.append(List_Profit_Interval)\n",
    "    \n",
    "Total = np.mean(T_LP_Interval, axis=0)\n",
    "\n"
   ]
  },
  {
   "cell_type": "code",
   "execution_count": 210,
   "metadata": {},
   "outputs": [
    {
     "data": {
      "text/html": [
       "<div>\n",
       "<style scoped>\n",
       "    .dataframe tbody tr th:only-of-type {\n",
       "        vertical-align: middle;\n",
       "    }\n",
       "\n",
       "    .dataframe tbody tr th {\n",
       "        vertical-align: top;\n",
       "    }\n",
       "\n",
       "    .dataframe thead th {\n",
       "        text-align: right;\n",
       "    }\n",
       "</style>\n",
       "<table border=\"1\" class=\"dataframe\">\n",
       "  <thead>\n",
       "    <tr style=\"text-align: right;\">\n",
       "      <th></th>\n",
       "      <th>Profit</th>\n",
       "    </tr>\n",
       "  </thead>\n",
       "  <tbody>\n",
       "    <tr>\n",
       "      <th>24.15</th>\n",
       "      <td>28804.4640</td>\n",
       "    </tr>\n",
       "    <tr>\n",
       "      <th>24.16</th>\n",
       "      <td>28575.2368</td>\n",
       "    </tr>\n",
       "    <tr>\n",
       "      <th>24.17</th>\n",
       "      <td>28491.0934</td>\n",
       "    </tr>\n",
       "    <tr>\n",
       "      <th>24.18</th>\n",
       "      <td>28633.8180</td>\n",
       "    </tr>\n",
       "    <tr>\n",
       "      <th>24.19</th>\n",
       "      <td>28574.9744</td>\n",
       "    </tr>\n",
       "    <tr>\n",
       "      <th>...</th>\n",
       "      <td>...</td>\n",
       "    </tr>\n",
       "    <tr>\n",
       "      <th>26.77</th>\n",
       "      <td>28942.2535</td>\n",
       "    </tr>\n",
       "    <tr>\n",
       "      <th>26.78</th>\n",
       "      <td>29024.4682</td>\n",
       "    </tr>\n",
       "    <tr>\n",
       "      <th>26.79</th>\n",
       "      <td>28962.9312</td>\n",
       "    </tr>\n",
       "    <tr>\n",
       "      <th>26.80</th>\n",
       "      <td>28613.8240</td>\n",
       "    </tr>\n",
       "    <tr>\n",
       "      <th>26.81</th>\n",
       "      <td>29007.4675</td>\n",
       "    </tr>\n",
       "  </tbody>\n",
       "</table>\n",
       "<p>267 rows × 1 columns</p>\n",
       "</div>"
      ],
      "text/plain": [
       "           Profit\n",
       "24.15  28804.4640\n",
       "24.16  28575.2368\n",
       "24.17  28491.0934\n",
       "24.18  28633.8180\n",
       "24.19  28574.9744\n",
       "...           ...\n",
       "26.77  28942.2535\n",
       "26.78  29024.4682\n",
       "26.79  28962.9312\n",
       "26.80  28613.8240\n",
       "26.81  29007.4675\n",
       "\n",
       "[267 rows x 1 columns]"
      ]
     },
     "execution_count": 210,
     "metadata": {},
     "output_type": "execute_result"
    }
   ],
   "source": [
    "Total = np.mean(T_LP_Interval, axis=0)\n",
    "Total_df = pd.DataFrame(Total)\n",
    "Total_df = Total_df.set_index([Intervals[\n",
    "    int(str(Min_Interval).replace('.', '')):int(str(Max_Interval).replace('.', ''))]])\n",
    "Total_df.columns = ['Profit']\n",
    "Total_df\n",
    "\n"
   ]
  },
  {
   "cell_type": "code",
   "execution_count": 222,
   "metadata": {},
   "outputs": [
    {
     "data": {
      "text/plain": [
       "(0.0, 31000.0)"
      ]
     },
     "execution_count": 222,
     "metadata": {},
     "output_type": "execute_result"
    },
    {
     "data": {
      "image/png": "[encoded data removed]",
      "text/plain": [
       "<Figure size 640x480 with 1 Axes>"
      ]
     },
     "metadata": {},
     "output_type": "display_data"
    }
   ],
   "source": [
    "Profit_df = pd.DataFrame(List_Profit)\n",
    "Profit_df = Profit_df.set_index([Intervals[1:3001]])\n",
    "Profit_df.columns = ['Profit']\n",
    "\n",
    "plt.bar(Total_df.index, Total_df['Profit'][0:], width=0.01)\n",
    "plt.gca().spines['top'].set_color('none')\n",
    "plt.gca().spines['right'].set_color('none')\n",
    "\n",
    "plt.title('Profit x Driver Pay')\n",
    "plt.xlabel('Driver Pay')\n",
    "plt.ylabel('Total Profit')\n",
    "\n",
    "plt.xlim(Min_Interval,Max_Interval)\n",
    "plt.ylim(0, 31000)"
   ]
  },
  {
   "cell_type": "code",
   "execution_count": 227,
   "metadata": {},
   "outputs": [
    {
     "name": "stdout",
     "output_type": "stream",
     "text": [
      "The average maximun value for a fixed price strategy is: 29758.484297003746\n",
      "Which can be achieved by charging drivers anywhere between: 24.15 and 26.82\n"
     ]
    }
   ],
   "source": [
    "Total_df['Profit'].mean()\n",
    "print(\"The average maximun value for a fixed price strategy is: \" + str(Total_df['Profit'].mean()))\n",
    "print(\"Which can be achieved by charging drivers anywhere between: \" + str(Min_Interval) + \" and \" + str(Max_Interval))"
   ]
  },
  {
   "cell_type": "markdown",
   "metadata": {},
   "source": [
    "We can now check if our Ideal Range describes a normal distribution"
   ]
  },
  {
   "cell_type": "code",
   "execution_count": 225,
   "metadata": {},
   "outputs": [
    {
     "name": "stdout",
     "output_type": "stream",
     "text": [
      "ShapiroResult(statistic=0.9433750510215759, pvalue=1.2597637599753853e-08)\n",
      "Mean: 29758.484297003746\n",
      "STD : 544.9538969836499\n"
     ]
    }
   ],
   "source": [
    "from scipy.stats import shapiro \n",
    "\n",
    "#Shapiro-Wilk test for normality\n",
    "print(shapiro(Total_df['Profit']))\n",
    "print(\"Mean: \" + str(Total_df['Profit'].mean()))\n",
    "print(\"STD : \" + str(Total_df['Profit'].std()))\n",
    "# Not a normal distribution therefore we would need bootstrap methods to estimate confidence intervals"
   ]
  },
  {
   "cell_type": "code",
   "execution_count": null,
   "metadata": {},
   "outputs": [],
   "source": [
    "#NOT-USED\n",
    "Percentile_Min = np.percentile(Profit_Range, 2.5)\n",
    "Percentile_Max = np.percentile(Profit_Range, 97.5)\n",
    "print(\"When using a fixed priced strategy that pays anywhere between our established range [\" + str(Min) \n",
    "      + \",\" + str(Max) + \"] we can assert with 95% confidence that our profits will fall within the following\"\n",
    "      \" range : [\" + str(round(Percentile_Min, 2)) + \",\" + str(round(Percentile_Max,2)) + \"] $\") "
   ]
  },
  {
   "cell_type": "markdown",
   "metadata": {},
   "source": [
    "# Flexible Price Strategy"
   ]
  },
  {
   "cell_type": "markdown",
   "metadata": {},
   "source": [
    "A flexible price strategy means that for each month we will vary the amount payed to our drivers. We will focus on two types of increases. A linear increase where there will be a pre established initial pay, say x, and then an increase as described by X + a fixed amount per month. Our second approach will be an exponential approach, where the increase will be determined by X to the power of a fixed amount per month. \n",
    "\n",
    "The main goal is to establish if it is more beneficial to incur losses early in our opperation but make up for it in the later stages due to an increased number of concurrent riders given by our preestablished distribution. "
   ]
  },
  {
   "cell_type": "markdown",
   "metadata": {},
   "source": [
    "**Linear Increase**"
   ]
  },
  {
   "cell_type": "code",
   "execution_count": 836,
   "metadata": {},
   "outputs": [],
   "source": [
    "# UN-USED function which goes through every possible combination of linear increase of X defined by Y\n",
    "def Linear_profit(x, y):                                                                 # x is the initial fixed amount while y is the rate of increase \n",
    "\n",
    "    import numpy as np\n",
    "    from scipy.stats import poisson\n",
    "    import itertools\n",
    "\n",
    "    # Initial Parameters\n",
    "    lamb = [1]                                                                           # Initial lambda value for our poisson distributions\n",
    "    Ri_Retention = [1000]                                                                # Initial number of riders for first month\n",
    "    Max_Riders = 10000                                                                   # Max. number of possible customers\n",
    "\n",
    "    Exhausted_Riders = 0                                                                 # Exhausted Rider counter set at 0\n",
    "    Profit = []                                                                          # Profit per itteration (month)\n",
    "\n",
    "    # Poisson Distribution of every previous Lambda\n",
    "    for month in range(0, 12):\n",
    "\n",
    "    # Halting if Riders are exhausted\n",
    "        if Max_Riders <= Exhausted_Riders:\n",
    "            break\n",
    "\n",
    "        Total_LambDist = []                                                                  # List of lists containing all the distributions of each given lambda\n",
    "        for ele in range(0, len(lamb)):\n",
    "            Total_LambDist.append(poisson.rvs(mu=lamb[ele], size=int(round(Ri_Retention[ele],0))))\n",
    "\n",
    "        Total_LambDist = [item for sublist in Total_LambDist for item in sublist]            # Our complete new distribution\n",
    "        Unique_Values = list(set(Total_LambDist))                                            # Unique Number of Requests (0 Requests, 1 Request, 2 Requests...) \n",
    "\n",
    "    # Number of Riders per Number of Requests\n",
    "        NRi_NRe = []                                                                         # Initializing list which will contain the amount of riders per number of requests\n",
    "        for i in range(0, len(Unique_Values)):                                               # Declaring for loop to iterate over every element of our Unique Values\n",
    "            NRi_NRe.append(np.count_nonzero(Total_LambDist == Unique_Values[i]))             # Appending total amount of every unique number of requests\n",
    "\n",
    "    # We calculate the number of riders per lambda\n",
    "            Lambda_Values = Unique_Values[1:]\n",
    "            NRi_NRe_Values = NRi_NRe[1:] \n",
    "\n",
    "            Probability = []\n",
    "\n",
    "            for i in range(0, len(NRi_NRe_Values)):\n",
    "                Inner_List = []\n",
    "                Exp = Lambda_Values[i]\n",
    "                for e in range(1, 1+Exp):\n",
    "                    Inner_List.append(NRi_NRe_Values[i]*Acceptance_Rate(x)**e)\n",
    "                for u in range(0, len(Inner_List)-1):\n",
    "                    Inner_List[u] = Inner_List[u] - Inner_List[u+1]\n",
    "                Probability.append(Inner_List)\n",
    "\n",
    "        Rider_Lamb = [round(sum(i),0) for i in itertools.zip_longest(*Probability, fillvalue=0)]\n",
    "\n",
    "        Rider_Lamb = [i for i in Rider_Lamb if i != 0]\n",
    "    # We calculate profits\n",
    "        # Earings\n",
    "        Earn = []\n",
    "        for i in Rider_Lamb:\n",
    "            Earn.append(i * (Rider_Lamb.index(i) + 1) * 30)\n",
    "        Earn = sum(Earn)\n",
    "\n",
    "        #Spending\n",
    "        Spen = []\n",
    "        for i in Rider_Lamb:\n",
    "            Spen.append(i * (Rider_Lamb.index(i) + 1) * x)\n",
    "        Spen = sum(Spen)\n",
    "\n",
    "        #Profit\n",
    "        Profit.append(Earn - Spen)\n",
    "\n",
    "    # We calculate our new parametters (Rider_Retention, New Lambdas and Exhausted Riders)\n",
    "        Attrition = sum(Ri_Retention) - sum(Rider_Lamb)\n",
    "    \n",
    "        Ri_Retention = Rider_Lamb\n",
    "        if  len(Ri_Retention) == 0:\n",
    "            Ri_Retention = [0] \n",
    "        Ri_Retention[0] = Ri_Retention[0] + 1000\n",
    "\n",
    "        lamb = list(range(1, len(Rider_Lamb)+1))\n",
    "\n",
    "        Exhausted_Riders = Exhausted_Riders + Attrition                 # New Exhausted Riders\n",
    "        x = x + y\n",
    "    return sum(Profit)"
   ]
  },
  {
   "cell_type": "markdown",
   "metadata": {},
   "source": [
    "In order to explore the viability of a variable price strategy we should first study the progression of ride requests based on the amount payed to drivers. The basis of a variable price strategy resides in incurring losses early on in order to increase our user base to the point that those initial losses are ofset by a later increase of reveneu. The increase of our user base is determined by our inverse sigmoid function (% of driver decline basde on payment) and the additional users per month."
   ]
  },
  {
   "cell_type": "code",
   "execution_count": 1053,
   "metadata": {},
   "outputs": [
    {
     "name": "stdout",
     "output_type": "stream",
     "text": [
      "[903.0, 1598.0, 2236.0, 2798.0, 3265.0, 3608.0, 4017.0, 4310.0, 4462.0, 4540.0, 4534.0, 4624.0]\n"
     ]
    }
   ],
   "source": [
    "import numpy as np\n",
    "from scipy.stats import poisson\n",
    "import itertools\n",
    "\n",
    "# Initial Parameters\n",
    "x = 35\n",
    "\n",
    "lamb = [1]                                                                           # Initial lambda value for our poisson distributions\n",
    "Ri_Retention = [1000]                                                                # Initial number of riders for first month\n",
    "Max_Riders = 10000                                                                   # Max. number of possible customers\n",
    "\n",
    "Exhausted_Riders = 0                                                                 # Exhausted Rider counter set at 0\n",
    "Profit = []                                                                          # Profit per itteration (month)\n",
    "\n",
    "Total_Rides = [0, 0, 0, 0, 0, 0, 0, 0, 0, 0, 0, 0]\n",
    "Percentage_Dif = []\n",
    "\n",
    "# Poisson Distribution of every previous Lambda\n",
    "for month in range(0, 12):\n",
    "\n",
    "# Halting if Riders are exhausted\n",
    "    if Max_Riders <= Exhausted_Riders:\n",
    "        break\n",
    "\n",
    "    Total_LambDist = []                                                                  # List of lists containing all the distributions of each given lambda\n",
    "    for ele in range(0, len(lamb)):\n",
    "        Total_LambDist.append(poisson.rvs(mu=lamb[ele], size=int(round(Ri_Retention[ele],0))))\n",
    "\n",
    "    Total_LambDist = [item for sublist in Total_LambDist for item in sublist]            # Our complete new distribution\n",
    "    Unique_Values = list(set(Total_LambDist))                                            # Unique Number of Requests (0 Requests, 1 Request, 2 Requests...) \n",
    "\n",
    "# Number of Riders per Number of Requests\n",
    "    NRi_NRe = []                                                                         # Initializing list which will contain the amount of riders per number of requests\n",
    "    for i in range(0, len(Unique_Values)):                                               # Declaring for loop to iterate over every element of our Unique Values\n",
    "        NRi_NRe.append(np.count_nonzero(Total_LambDist == Unique_Values[i]))             # Appending total amount of every unique number of requests\n",
    "\n",
    "# We calculate the number of riders per lambda\n",
    "        Lambda_Values = Unique_Values[1:]\n",
    "        NRi_NRe_Values = NRi_NRe[1:] \n",
    "\n",
    "        Probability = []\n",
    "\n",
    "        for i in range(0, len(NRi_NRe_Values)):\n",
    "            Inner_List = []\n",
    "            Exp = Lambda_Values[i]\n",
    "            for e in range(1, 1+Exp):\n",
    "                Inner_List.append(NRi_NRe_Values[i]*Acceptance_Rate(x)**e)\n",
    "            for u in range(0, len(Inner_List)-1):\n",
    "                Inner_List[u] = Inner_List[u] - Inner_List[u+1]\n",
    "            Probability.append(Inner_List)\n",
    "\n",
    "    Rider_Lamb = [round(sum(i),0) for i in itertools.zip_longest(*Probability, fillvalue=0)]\n",
    "\n",
    "    Rider_Lamb = [i for i in Rider_Lamb if i != 0]\n",
    "\n",
    "# We calculate our new parametters (Rider_Retention, New Lambdas and Exhausted Riders)\n",
    "    Attrition = sum(Ri_Retention) - sum(Rider_Lamb)\n",
    "    \n",
    "    Ri_Retention = Rider_Lamb\n",
    "    if  len(Ri_Retention) == 0:\n",
    "        Ri_Retention = [0] \n",
    "    \n",
    "    lamb = list(range(1, len(Rider_Lamb)+1))  \n",
    "\n",
    "# Difference of number of rides accepted based on previous loop.\n",
    "    Retention_Array = np.array(Ri_Retention)\n",
    "    Lamb_Array = np.array(lamb)\n",
    "    Total_Rides[month] = sum(Retention_Array*Lamb_Array)\n",
    "\n",
    "    if month > 0:\n",
    "        Percentage_Dif.append(round((Total_Rides[month]*100/Total_Rides[month-1])-100, 2))\n",
    "    else:\n",
    "        Percentage_Dif.append(0)\n",
    "\n",
    "    Ri_Retention[0] = Ri_Retention[0] + 1000\n",
    "    \n",
    "\n",
    "\n",
    "\n",
    "    Exhausted_Riders = Exhausted_Riders + Attrition                 # New Exhausted Riders\n",
    "\n",
    "\n",
    "print(Total_Rides)"
   ]
  },
  {
   "cell_type": "code",
   "execution_count": 340,
   "metadata": {},
   "outputs": [],
   "source": [
    "# Modification of our previously used function which outputs our variables of interest\n",
    "def Rider_Progression(x):\n",
    "    import numpy as np\n",
    "    from scipy.stats import poisson\n",
    "    import itertools\n",
    "\n",
    "    # Initial Parameters\n",
    "    lamb = [1]                                                                           # Initial lambda value for our poisson distributions\n",
    "    Ri_Retention = [1000]                                                                # Initial number of riders for first month\n",
    "    Max_Riders = 10000                                                                   # Max. number of possible customers\n",
    "\n",
    "    Exhausted_Riders = 0                                                                 # Exhausted Rider counter set at 0\n",
    "    Profit = []                                                                          # Profit per itteration (month)\n",
    "\n",
    "    Total_Rides = [0, 0, 0, 0, 0, 0, 0, 0, 0, 0, 0, 0]\n",
    "    Percentage_Dif = []\n",
    "\n",
    "    # Poisson Distribution of every previous Lambda\n",
    "    for month in range(0, 12):\n",
    "\n",
    "    # Halting if Riders are exhausted\n",
    "        if Max_Riders <= Exhausted_Riders:\n",
    "            break\n",
    "\n",
    "        Total_LambDist = []                                                                  # List of lists containing all the distributions of each given lambda\n",
    "        for ele in range(0, len(lamb)):\n",
    "            Total_LambDist.append(poisson.rvs(mu=lamb[ele], size=int(round(Ri_Retention[ele],0))))\n",
    "\n",
    "        Total_LambDist = [item for sublist in Total_LambDist for item in sublist]            # Our complete new distribution\n",
    "        Unique_Values = list(set(Total_LambDist))                                            # Unique Number of Requests (0 Requests, 1 Request, 2 Requests...) \n",
    "\n",
    "    # Number of Riders per Number of Requests\n",
    "        NRi_NRe = []                                                                         # Initializing list which will contain the amount of riders per number of requests\n",
    "        for i in range(0, len(Unique_Values)):                                               # Declaring for loop to iterate over every element of our Unique Values\n",
    "            NRi_NRe.append(np.count_nonzero(Total_LambDist == Unique_Values[i]))             # Appending total amount of every unique number of requests\n",
    "\n",
    "    # We calculate the number of riders per lambda\n",
    "            Lambda_Values = Unique_Values[1:]\n",
    "            NRi_NRe_Values = NRi_NRe[1:] \n",
    "\n",
    "            Probability = []\n",
    "\n",
    "            for i in range(0, len(NRi_NRe_Values)):\n",
    "                Inner_List = []\n",
    "                Exp = Lambda_Values[i]\n",
    "                for e in range(1, 1+Exp):\n",
    "                    Inner_List.append(NRi_NRe_Values[i]*Acceptance_Rate(x)**e)\n",
    "                for u in range(0, len(Inner_List)-1):\n",
    "                    Inner_List[u] = Inner_List[u] - Inner_List[u+1]\n",
    "                Probability.append(Inner_List)\n",
    "\n",
    "        Rider_Lamb = [round(sum(i),0) for i in itertools.zip_longest(*Probability, fillvalue=0)]\n",
    "\n",
    "        Rider_Lamb = [i for i in Rider_Lamb if i != 0]\n",
    "\n",
    "    # We calculate our new parametters (Rider_Retention, New Lambdas and Exhausted Riders)\n",
    "        Attrition = sum(Ri_Retention) - sum(Rider_Lamb)\n",
    "    \n",
    "        Ri_Retention = Rider_Lamb\n",
    "        if  len(Ri_Retention) == 0:\n",
    "            Ri_Retention = [0] \n",
    "    \n",
    "        lamb = list(range(1, len(Rider_Lamb)+1))  \n",
    "\n",
    "    # Difference of number of rides accepted based on previous loop.\n",
    "        Retention_Array = np.array(Ri_Retention)\n",
    "        Lamb_Array = np.array(lamb)\n",
    "        Total_Rides[month] = sum(Retention_Array*Lamb_Array)\n",
    "\n",
    "        if month > 0:\n",
    "            Percentage_Dif.append(round((Total_Rides[month]*100/Total_Rides[month-1])-100, 2))\n",
    "        else:\n",
    "            Percentage_Dif.append(0)\n",
    "\n",
    "    # We calculate profits\n",
    "        # Earings\n",
    "        Earn = []\n",
    "        for i in Rider_Lamb:\n",
    "            Earn.append(i * (Rider_Lamb.index(i) + 1) * 30)\n",
    "        Earn = sum(Earn)\n",
    "\n",
    "        #Spending\n",
    "        Spen = []\n",
    "        for i in Rider_Lamb:\n",
    "            Spen.append(i * (Rider_Lamb.index(i) + 1) * x)\n",
    "        Spen = sum(Spen)\n",
    "\n",
    "        #Profit\n",
    "        Profit.append(Earn - Spen)\n",
    "\n",
    "\n",
    "        Ri_Retention[0] = Ri_Retention[0] + 1000\n",
    "\n",
    "\n",
    "        Exhausted_Riders = Exhausted_Riders + Attrition                 # New Exhausted Riders\n",
    "\n",
    "    return(Percentage_Dif, Total_Rides, Profit)"
   ]
  },
  {
   "cell_type": "code",
   "execution_count": 341,
   "metadata": {},
   "outputs": [
    {
     "name": "stderr",
     "output_type": "stream",
     "text": [
      "100%|██████████| 100/100 [07:15<00:00,  4.36s/it]\n"
     ]
    }
   ],
   "source": [
    "# Selecting only the values [25.00, 30.00, 35.00, 40.00] and itterating 100 times\n",
    "from tqdm import tqdm\n",
    "# Itterating our function over every price interval\n",
    "T_R_Interval = []\n",
    "\n",
    "for u in tqdm(range(0, 100)):\n",
    "    List_Rider_Interval = []\n",
    "    for i in [25, 30, 35, 40]:\n",
    "        List_Rider_Interval.append(Rider_Progression(i))\n",
    "    T_R_Interval.append(List_Rider_Interval)\n",
    "\n"
   ]
  },
  {
   "cell_type": "code",
   "execution_count": 342,
   "metadata": {},
   "outputs": [],
   "source": [
    "# Separating and averaging the values of our variables per month\n",
    "Total_Percent_DIF = []\n",
    "\n",
    "for i in range(0, len(T_R_Interval[0])):\n",
    "    Avg_T_R = []\n",
    "    for u in range(0, len(T_R_Interval)):\n",
    "        Avg_T_R.append(np.array(T_R_Interval[u][i][0]))\n",
    "    Total_Percent_DIF.append(list(np.mean(Avg_T_R, axis=0)))\n",
    "\n",
    "Total_DIF = []\n",
    "for i in range(0, len(T_R_Interval[0])):\n",
    "    Avg_T_R = []\n",
    "    for u in range(0, len(T_R_Interval)):\n",
    "        Avg_T_R.append(np.array(T_R_Interval[u][i][1]))\n",
    "    Total_DIF.append(list(np.mean(Avg_T_R, axis=0)))\n",
    "\n",
    "Total_Profit = []\n",
    "for i in range(0, len(T_R_Interval[0])):\n",
    "    Avg_T_R = []\n",
    "    for u in range(0, len(T_R_Interval)):\n",
    "        Avg_T_R.append(np.array(T_R_Interval[u][i][2]))\n",
    "    Total_Profit.append(list(np.mean(Avg_T_R, axis=0)))"
   ]
  },
  {
   "cell_type": "code",
   "execution_count": 343,
   "metadata": {},
   "outputs": [
    {
     "data": {
      "image/png": "[encoded data removed]",
      "text/plain": [
       "<Figure size 640x480 with 4 Axes>"
      ]
     },
     "metadata": {},
     "output_type": "display_data"
    }
   ],
   "source": [
    "# Plotting our variables in a single figure\n",
    "import matplotlib.pyplot as plt\n",
    "a = np.array([0, 1, 2, 3, 4, 5, 6, 7, 8, 9, 10, 11])\n",
    "fig = plt.figure()\n",
    "ax = fig.add_subplot(111)   \n",
    "ax1 = fig.add_subplot(311)\n",
    "ax2 = fig.add_subplot(312)\n",
    "ax3 = fig.add_subplot(313)\n",
    "\n",
    "ax.spines['top'].set_color('none')\n",
    "ax.spines['bottom'].set_color('none')\n",
    "ax.spines['left'].set_color('none')\n",
    "ax.spines['right'].set_color('none')\n",
    "ax.tick_params(labelcolor='w', top=False, bottom=False, left=False, right=False)\n",
    "\n",
    "# Total Rider Progression\n",
    "ax1.plot(Total_DIF[0], '-r', label='25$')\n",
    "ax1.plot(Total_DIF[1], '-.g', label='30$')\n",
    "ax1.plot(Total_DIF[2],':b', label='35$')\n",
    "ax1.plot(Total_DIF[3],'-y', label='40$')\n",
    "ax1.set_xlim(0,11)\n",
    "ax1.set_ylim(0,10000)\n",
    "ax1.spines['top'].set_color('none')\n",
    "ax1.spines['right'].set_color('none')\n",
    "ax1.grid(axis='y')\n",
    "ax1.set_xticks(a, a+1)\n",
    "\n",
    "# Percentage of Rides Change\n",
    "ax2.plot(Total_Percent_DIF[0], '-r')\n",
    "ax2.plot(Total_Percent_DIF[1], '-.g')\n",
    "ax2.plot(Total_Percent_DIF[2],':b')\n",
    "ax2.plot(Total_Percent_DIF[3],'-y')\n",
    "ax2.set_xlim(0,11)\n",
    "ax2.set_ylim(0,100)\n",
    "ax2.spines['top'].set_color('none')\n",
    "ax2.spines['right'].set_color('none')\n",
    "ax2.grid(axis='y')\n",
    "ax2.set_xticks(a, a+1)\n",
    "\n",
    "# Profit\n",
    "ax3.plot(Total_Profit[0], '-r')\n",
    "ax3.plot(Total_Profit[1], '-.g')\n",
    "ax3.plot(Total_Profit[2],':b')\n",
    "ax3.plot(Total_Profit[3],'-y')\n",
    "ax3.set_xlim(0,11)\n",
    "ax3.set_ylim(-100000,10000)\n",
    "ax3.spines['top'].set_color('none')\n",
    "ax3.spines['right'].set_color('none')\n",
    "ax3.grid(axis='y')\n",
    "ax3.set_xticks(a, a+1)\n",
    "\n",
    "plt.subplots_adjust(hspace=0.7)\n",
    "\n",
    "# Common Title\n",
    "ax.set_xlabel('Month')\n",
    "\n",
    "# Subplot Titles\n",
    "ax1.set_title('Total Rides', fontsize=10)\n",
    "ax1.set_ylabel('Rides Accepted')\n",
    "ax1.yaxis.set_label_coords(-0.15,0.5)\n",
    "\n",
    "ax2.set_title('Percentage Change', fontsize=10)\n",
    "ax2.set_ylabel('% Increase')\n",
    "ax2.yaxis.set_label_coords(-0.15,0.5)\n",
    "\n",
    "ax3.set_title('Revenue Progression', fontsize=10)\n",
    "ax3.set_ylabel('Revenue')\n",
    "ax3.yaxis.set_label_coords(-0.15,0.5)\n",
    "\n",
    "lgd = ax1.legend(loc=9, bbox_to_anchor=(1.1,1))\n",
    "plt.show()"
   ]
  },
  {
   "cell_type": "code",
   "execution_count": 328,
   "metadata": {},
   "outputs": [],
   "source": [
    "def Rider_Progression_HalfPoint(x):\n",
    "    import numpy as np\n",
    "    from scipy.stats import poisson\n",
    "    import itertools\n",
    "\n",
    "    # Initial Parameters\n",
    "    lamb = [1]                                                                           # Initial lambda value for our poisson distributions\n",
    "    Ri_Retention = [1000]                                                                # Initial number of riders for first month\n",
    "    Max_Riders = 10000                                                                   # Max. number of possible customers\n",
    "\n",
    "    Exhausted_Riders = 0                                                                 # Exhausted Rider counter set at 0\n",
    "    Profit = []                                                                          # Profit per itteration (month)\n",
    "\n",
    "    Total_Rides = [0, 0, 0, 0, 0, 0, 0, 0, 0, 0, 0, 0]\n",
    "    Percentage_Dif = []\n",
    "\n",
    "    # Poisson Distribution of every previous Lambda\n",
    "    for month in range(0, 12):\n",
    "        if month >= 3:\n",
    "            x = 25\n",
    "\n",
    "    # Halting if Riders are exhausted\n",
    "        if Max_Riders <= Exhausted_Riders:\n",
    "            break\n",
    "\n",
    "        Total_LambDist = []                                                                  # List of lists containing all the distributions of each given lambda\n",
    "        for ele in range(0, len(lamb)):\n",
    "            Total_LambDist.append(poisson.rvs(mu=lamb[ele], size=int(round(Ri_Retention[ele],0))))\n",
    "\n",
    "        Total_LambDist = [item for sublist in Total_LambDist for item in sublist]            # Our complete new distribution\n",
    "        Unique_Values = list(set(Total_LambDist))                                            # Unique Number of Requests (0 Requests, 1 Request, 2 Requests...) \n",
    "\n",
    "    # Number of Riders per Number of Requests\n",
    "        NRi_NRe = []                                                                         # Initializing list which will contain the amount of riders per number of requests\n",
    "        for i in range(0, len(Unique_Values)):                                               # Declaring for loop to iterate over every element of our Unique Values\n",
    "            NRi_NRe.append(np.count_nonzero(Total_LambDist == Unique_Values[i]))             # Appending total amount of every unique number of requests\n",
    "\n",
    "    # We calculate the number of riders per lambda\n",
    "            Lambda_Values = Unique_Values[1:]\n",
    "            NRi_NRe_Values = NRi_NRe[1:] \n",
    "\n",
    "            Probability = []\n",
    "\n",
    "            for i in range(0, len(NRi_NRe_Values)):\n",
    "                Inner_List = []\n",
    "                Exp = Lambda_Values[i]\n",
    "                for e in range(1, 1+Exp):\n",
    "                    Inner_List.append(NRi_NRe_Values[i]*Acceptance_Rate(x)**e)\n",
    "                for u in range(0, len(Inner_List)-1):\n",
    "                    Inner_List[u] = Inner_List[u] - Inner_List[u+1]\n",
    "                Probability.append(Inner_List)\n",
    "\n",
    "        Rider_Lamb = [round(sum(i),0) for i in itertools.zip_longest(*Probability, fillvalue=0)]\n",
    "\n",
    "        Rider_Lamb = [i for i in Rider_Lamb if i != 0]\n",
    "\n",
    "    # We calculate our new parametters (Rider_Retention, New Lambdas and Exhausted Riders)\n",
    "        Attrition = sum(Ri_Retention) - sum(Rider_Lamb)\n",
    "    \n",
    "        Ri_Retention = Rider_Lamb\n",
    "        if  len(Ri_Retention) == 0:\n",
    "            Ri_Retention = [0] \n",
    "    \n",
    "        lamb = list(range(1, len(Rider_Lamb)+1))  \n",
    "\n",
    "    # Difference of number of rides accepted based on previous loop.\n",
    "        Retention_Array = np.array(Ri_Retention)\n",
    "        Lamb_Array = np.array(lamb)\n",
    "        Total_Rides[month] = sum(Retention_Array*Lamb_Array)\n",
    "\n",
    "        if month > 0:\n",
    "            Percentage_Dif.append(round((Total_Rides[month]*100/Total_Rides[month-1])-100, 2))\n",
    "        else:\n",
    "            Percentage_Dif.append(0)\n",
    "\n",
    "    # We calculate profits\n",
    "        # Earings\n",
    "        Earn = []\n",
    "        for i in Rider_Lamb:\n",
    "            Earn.append(i * (Rider_Lamb.index(i) + 1) * 30)\n",
    "        Earn = sum(Earn)\n",
    "\n",
    "        #Spending\n",
    "        Spen = []\n",
    "        for i in Rider_Lamb:\n",
    "            Spen.append(i * (Rider_Lamb.index(i) + 1) * x)\n",
    "        Spen = sum(Spen)\n",
    "\n",
    "        #Profit\n",
    "        Profit.append(Earn - Spen)\n",
    "\n",
    "\n",
    "        Ri_Retention[0] = Ri_Retention[0] + 1000\n",
    "\n",
    "\n",
    "        Exhausted_Riders = Exhausted_Riders + Attrition                 # New Exhausted Riders\n",
    "\n",
    "    return(Percentage_Dif, Total_Rides, Profit)"
   ]
  },
  {
   "cell_type": "code",
   "execution_count": 332,
   "metadata": {},
   "outputs": [
    {
     "name": "stderr",
     "output_type": "stream",
     "text": [
      "100%|██████████| 100/100 [01:40<00:00,  1.00s/it]\n"
     ]
    }
   ],
   "source": [
    "# Selecting only the interval [25.00, 30.00, 35.00, 40.00] and itterating 100 times\n",
    "from tqdm import tqdm\n",
    "# Itterating our function over every price interval\n",
    "T_R_Interval_HP = []\n",
    "\n",
    "for u in tqdm(range(0, 100)):\n",
    "    List_Rider_Interval_HP = []\n",
    "    for i in [25, 30, 35, 40]:\n",
    "        List_Rider_Interval_HP.append(Rider_Progression_HalfPoint(i))\n",
    "    T_R_Interval_HP.append(List_Rider_Interval_HP)"
   ]
  },
  {
   "cell_type": "code",
   "execution_count": 333,
   "metadata": {},
   "outputs": [],
   "source": [
    "# Separating and averaging the values of our variables per month\n",
    "Total_Percent_DIF = []\n",
    "\n",
    "for i in range(0, len(T_R_Interval_HP[0])):\n",
    "    Avg_T_R = []\n",
    "    for u in range(0, len(T_R_Interval_HP)):\n",
    "        Avg_T_R.append(np.array(T_R_Interval_HP[u][i][0]))\n",
    "    Total_Percent_DIF.append(list(np.mean(Avg_T_R, axis=0)))\n",
    "\n",
    "Total_DIF = []\n",
    "for i in range(0, len(T_R_Interval_HP[0])):\n",
    "    Avg_T_R = []\n",
    "    for u in range(0, len(T_R_Interval_HP)):\n",
    "        Avg_T_R.append(np.array(T_R_Interval_HP[u][i][1]))\n",
    "    Total_DIF.append(list(np.mean(Avg_T_R, axis=0)))\n",
    "\n",
    "Total_Profit = []\n",
    "for i in range(0, len(T_R_Interval_HP[0])):\n",
    "    Avg_T_R = []\n",
    "    for u in range(0, len(T_R_Interval_HP)):\n",
    "        Avg_T_R.append(np.array(T_R_Interval_HP[u][i][2]))\n",
    "    Total_Profit.append(list(np.mean(Avg_T_R, axis=0)))"
   ]
  },
  {
   "cell_type": "code",
   "execution_count": 338,
   "metadata": {},
   "outputs": [
    {
     "data": {
      "image/png": "[encoded data removed]",
      "text/plain": [
       "<Figure size 640x480 with 4 Axes>"
      ]
     },
     "metadata": {},
     "output_type": "display_data"
    }
   ],
   "source": [
    "import matplotlib.pyplot as plt\n",
    "\n",
    "a = np.array([0, 1, 2, 3, 4, 5, 6, 7, 8, 9, 10, 11])\n",
    "\n",
    "fig = plt.figure()\n",
    "ax = fig.add_subplot(111)   \n",
    "ax1 = fig.add_subplot(311)\n",
    "ax2 = fig.add_subplot(312)\n",
    "ax3 = fig.add_subplot(313)\n",
    "\n",
    "ax.spines['top'].set_color('none')\n",
    "ax.spines['bottom'].set_color('none')\n",
    "ax.spines['left'].set_color('none')\n",
    "ax.spines['right'].set_color('none')\n",
    "ax.tick_params(labelcolor='w', top=False, bottom=False, left=False, right=False)\n",
    "\n",
    "# Total Rider Progression\n",
    "ax1.plot(Total_DIF[0], '-r', label='25$')\n",
    "ax1.plot(Total_DIF[1], '-.g', label='30$')\n",
    "ax1.plot(Total_DIF[2],':b', label='35$')\n",
    "ax1.plot(Total_DIF[3],'-y', label='40$')\n",
    "ax1.set_xlim(0,11)\n",
    "ax1.set_ylim(0,10000)\n",
    "ax1.spines['top'].set_color('none')\n",
    "ax1.spines['right'].set_color('none')\n",
    "ax1.grid(axis='y')\n",
    "\n",
    "# Percentage of Rides Change\n",
    "ax2.plot(Total_Percent_DIF[0], '-r', label='25$')\n",
    "ax2.plot(Total_Percent_DIF[1], '-.g', label='30$')\n",
    "ax2.plot(Total_Percent_DIF[2],':b', label='35$')\n",
    "ax2.plot(Total_Percent_DIF[3],'-y', label='40$')\n",
    "ax2.set_xlim(0,11)\n",
    "ax2.set_ylim(-100,100)\n",
    "ax2.spines['top'].set_color('none')\n",
    "ax2.spines['right'].set_color('none')\n",
    "ax2.grid(axis='y')\n",
    "\n",
    "# Profit\n",
    "ax3.plot(Total_Profit[0], '-r', label='25$')\n",
    "ax3.plot(Total_Profit[1], '-.g', label='30$')\n",
    "ax3.plot(Total_Profit[2],':b', label='35$')\n",
    "ax3.plot(Total_Profit[3],'-y', label='40$')\n",
    "ax3.set_xlim(0,11)\n",
    "ax3.set_ylim(-100000,10000)\n",
    "ax3.spines['top'].set_color('none')\n",
    "ax3.spines['right'].set_color('none')\n",
    "ax3.grid(axis='y')\n",
    "\n",
    "plt.subplots_adjust(hspace=0.5)\n",
    "# Common Title\n",
    "ax.set_xlabel('Month')\n",
    "\n",
    "# Subplot Titles\n",
    "ax1.set_title('Total Rides', fontsize=10)\n",
    "ax1.set_ylabel('Rides Accepted')\n",
    "ax1.yaxis.set_label_coords(-0.15,0.5)\n",
    "ax1.set_xticks(a, a+1)\n",
    "\n",
    "ax2.set_title('Percentage Change', fontsize=10)\n",
    "ax2.set_ylabel('% Increase')\n",
    "ax2.yaxis.set_label_coords(-0.15,0.5)\n",
    "ax2.set_xticks(a, a+1)\n",
    "\n",
    "ax3.set_title('Revenue Progression', fontsize=10)\n",
    "ax3.set_ylabel('Revenue')\n",
    "ax3.yaxis.set_label_coords(-0.15,0.5)\n",
    "ax3.set_xticks(a, a+1)\n",
    "\n",
    "lgd = ax1.legend(loc=9, bbox_to_anchor=(1.1,1))\n",
    "plt.show()"
   ]
  }
 ],
 "metadata": {
  "kernelspec": {
   "display_name": "Python 3.10.8 64-bit (microsoft store)",
   "language": "python",
   "name": "python3"
  },
  "language_info": {
   "codemirror_mode": {
    "name": "ipython",
    "version": 3
   },
   "file_extension": ".py",
   "mimetype": "text/x-python",
   "name": "python",
   "nbconvert_exporter": "python",
   "pygments_lexer": "ipython3",
   "version": "3.10.8"
  },
  "orig_nbformat": 4,
  "vscode": {
   "interpreter": {
    "hash": "58916f457dcb34b9456eccbbe92e4d02cea8419b04911ae413e3e2240c7b33b6"
   }
  }
 },
 "nbformat": 4,
 "nbformat_minor": 2
}
