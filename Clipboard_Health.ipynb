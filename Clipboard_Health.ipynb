{
 "cells": [
  {
   "cell_type": "markdown",
   "metadata": {},
   "source": [
    "**Importing and Exploring** <br/>\n",
    "We import the data and print it in order to get a sense of the type of data we are dealing with. Additionally we explore basic information such as the mean distribution of the \"PAY\" values based on if they were \"Accepted\" or \"Declined\" rides. "
   ]
  },
  {
   "cell_type": "code",
   "execution_count": 1,
   "metadata": {},
   "outputs": [
    {
     "data": {
      "text/html": [
       "<div>\n",
       "<style scoped>\n",
       "    .dataframe tbody tr th:only-of-type {\n",
       "        vertical-align: middle;\n",
       "    }\n",
       "\n",
       "    .dataframe tbody tr th {\n",
       "        vertical-align: top;\n",
       "    }\n",
       "\n",
       "    .dataframe thead th {\n",
       "        text-align: right;\n",
       "    }\n",
       "</style>\n",
       "<table border=\"1\" class=\"dataframe\">\n",
       "  <thead>\n",
       "    <tr style=\"text-align: right;\">\n",
       "      <th></th>\n",
       "      <th>PAY</th>\n",
       "      <th>ACCEPTED</th>\n",
       "    </tr>\n",
       "  </thead>\n",
       "  <tbody>\n",
       "    <tr>\n",
       "      <th>0</th>\n",
       "      <td>29.358732</td>\n",
       "      <td>0</td>\n",
       "    </tr>\n",
       "    <tr>\n",
       "      <th>1</th>\n",
       "      <td>22.986847</td>\n",
       "      <td>0</td>\n",
       "    </tr>\n",
       "    <tr>\n",
       "      <th>2</th>\n",
       "      <td>18.020348</td>\n",
       "      <td>0</td>\n",
       "    </tr>\n",
       "    <tr>\n",
       "      <th>3</th>\n",
       "      <td>45.730717</td>\n",
       "      <td>1</td>\n",
       "    </tr>\n",
       "    <tr>\n",
       "      <th>4</th>\n",
       "      <td>14.642845</td>\n",
       "      <td>0</td>\n",
       "    </tr>\n",
       "    <tr>\n",
       "      <th>...</th>\n",
       "      <td>...</td>\n",
       "      <td>...</td>\n",
       "    </tr>\n",
       "    <tr>\n",
       "      <th>995</th>\n",
       "      <td>17.382310</td>\n",
       "      <td>0</td>\n",
       "    </tr>\n",
       "    <tr>\n",
       "      <th>996</th>\n",
       "      <td>20.855120</td>\n",
       "      <td>0</td>\n",
       "    </tr>\n",
       "    <tr>\n",
       "      <th>997</th>\n",
       "      <td>42.122166</td>\n",
       "      <td>1</td>\n",
       "    </tr>\n",
       "    <tr>\n",
       "      <th>998</th>\n",
       "      <td>10.853923</td>\n",
       "      <td>0</td>\n",
       "    </tr>\n",
       "    <tr>\n",
       "      <th>999</th>\n",
       "      <td>22.310536</td>\n",
       "      <td>0</td>\n",
       "    </tr>\n",
       "  </tbody>\n",
       "</table>\n",
       "<p>1000 rows × 2 columns</p>\n",
       "</div>"
      ],
      "text/plain": [
       "           PAY  ACCEPTED\n",
       "0    29.358732         0\n",
       "1    22.986847         0\n",
       "2    18.020348         0\n",
       "3    45.730717         1\n",
       "4    14.642845         0\n",
       "..         ...       ...\n",
       "995  17.382310         0\n",
       "996  20.855120         0\n",
       "997  42.122166         1\n",
       "998  10.853923         0\n",
       "999  22.310536         0\n",
       "\n",
       "[1000 rows x 2 columns]"
      ]
     },
     "execution_count": 1,
     "metadata": {},
     "output_type": "execute_result"
    }
   ],
   "source": [
    "import pandas as pd\n",
    "data = pd.read_csv('driverAcceptanceData - driverAcceptanceData.csv')\n",
    "data = data.drop(['Unnamed: 0'], axis=1)\n",
    "data"
   ]
  },
  {
   "cell_type": "code",
   "execution_count": 2,
   "metadata": {},
   "outputs": [
    {
     "data": {
      "text/html": [
       "<div>\n",
       "<style scoped>\n",
       "    .dataframe tbody tr th:only-of-type {\n",
       "        vertical-align: middle;\n",
       "    }\n",
       "\n",
       "    .dataframe tbody tr th {\n",
       "        vertical-align: top;\n",
       "    }\n",
       "\n",
       "    .dataframe thead tr th {\n",
       "        text-align: left;\n",
       "    }\n",
       "</style>\n",
       "<table border=\"1\" class=\"dataframe\">\n",
       "  <thead>\n",
       "    <tr>\n",
       "      <th></th>\n",
       "      <th>Rejected</th>\n",
       "      <th>Accepted</th>\n",
       "    </tr>\n",
       "  </thead>\n",
       "  <tbody>\n",
       "    <tr>\n",
       "      <th>PAY</th>\n",
       "      <td>18.624636</td>\n",
       "      <td>32.076048</td>\n",
       "    </tr>\n",
       "  </tbody>\n",
       "</table>\n",
       "</div>"
      ],
      "text/plain": [
       "      Rejected   Accepted\n",
       "PAY  18.624636  32.076048"
      ]
     },
     "execution_count": 2,
     "metadata": {},
     "output_type": "execute_result"
    }
   ],
   "source": [
    "# Checking means\n",
    "data_mean = data['PAY'].groupby(data['ACCEPTED']).mean()\n",
    "df = pd.DataFrame(data_mean)\n",
    "dfmean = df.T\n",
    "dfmean.columns = [['Rejected', 'Accepted']]\n",
    "dfmean"
   ]
  },
  {
   "cell_type": "markdown",
   "metadata": {},
   "source": [
    "**Raw Data Visualization** <br/>\n",
    "We then proceed to visualize the data in order to get a better sense of the shape of the distribution."
   ]
  },
  {
   "cell_type": "code",
   "execution_count": 3,
   "metadata": {},
   "outputs": [
    {
     "data": {
      "text/plain": [
       "<AxesSubplot: xlabel='ACCEPTED', ylabel='PAY'>"
      ]
     },
     "execution_count": 3,
     "metadata": {},
     "output_type": "execute_result"
    },
    {
     "data": {
      "image/png": "[encoded data removed]",
      "text/plain": [
       "<Figure size 640x480 with 1 Axes>"
      ]
     },
     "metadata": {},
     "output_type": "display_data"
    }
   ],
   "source": [
    "import matplotlib.pyplot as plt\n",
    "import seaborn as sns\n",
    "sns.boxplot(x=data['ACCEPTED'], y=data['PAY'])"
   ]
  },
  {
   "cell_type": "markdown",
   "metadata": {},
   "source": [
    "At first glance it seems that both Accepted and Declined payment distributions adhere to a Gaussian/Normal distribution. However, there seems to be some outliers that should be dealt with before continuing our analysis."
   ]
  },
  {
   "cell_type": "code",
   "execution_count": 4,
   "metadata": {},
   "outputs": [],
   "source": [
    "# Getting rid of Outliers using the Interquartile method\n",
    "import numpy as np\n",
    "Declined = data[data['ACCEPTED']==0].reset_index(drop=True)\n",
    "q75,q25 = np.percentile(Declined['PAY'], [75,25])\n",
    "intr_qr = q75-q25\n",
    "max = q75+(1.5*intr_qr)\n",
    "min = q25-(1.5*intr_qr)\n",
    "Declined[Declined[\"PAY\"] < min] = np.nan\n",
    "Declined[Declined[\"PAY\"] > max] = np.nan\n",
    "\n",
    "Accepted = data[data['ACCEPTED']==1].reset_index(drop=True)\n",
    "q75,q25 = np.percentile(Accepted['PAY'], [75,25])\n",
    "intr_qr = q75-q25\n",
    "max = q75+(1.5*intr_qr)\n",
    "min = q25-(1.5*intr_qr)\n",
    "Accepted[Accepted[\"PAY\"] < min] = np.nan\n",
    "Accepted[Accepted[\"PAY\"] > max] = np.nan\n"
   ]
  },
  {
   "cell_type": "code",
   "execution_count": 5,
   "metadata": {},
   "outputs": [
    {
     "name": "stderr",
     "output_type": "stream",
     "text": [
      "C:\\Users\\chiaw\\AppData\\Local\\Temp\\ipykernel_18420\\92208927.py:2: FutureWarning: The frame.append method is deprecated and will be removed from pandas in a future version. Use pandas.concat instead.\n",
      "  data_clean = Accepted.append(Declined)\n"
     ]
    },
    {
     "data": {
      "text/plain": [
       "<AxesSubplot: xlabel='ACCEPTED', ylabel='PAY'>"
      ]
     },
     "execution_count": 5,
     "metadata": {},
     "output_type": "execute_result"
    },
    {
     "data": {
      "image/png": "[encoded data removed]",
      "text/plain": [
       "<Figure size 640x480 with 1 Axes>"
      ]
     },
     "metadata": {},
     "output_type": "display_data"
    }
   ],
   "source": [
    "# Visualizaing new distributions\n",
    "data_clean = Accepted.append(Declined)\n",
    "sns.boxplot(x=data_clean['ACCEPTED'], y=data_clean['PAY'])"
   ]
  },
  {
   "cell_type": "markdown",
   "metadata": {},
   "source": [
    "Once we have gotten rid of the outliers using an interquartile approach we can proceed to check our assumption of normal distribution. In order to do so we will employ a Shapiro-Wilks Test"
   ]
  },
  {
   "cell_type": "code",
   "execution_count": 6,
   "metadata": {},
   "outputs": [
    {
     "name": "stdout",
     "output_type": "stream",
     "text": [
      "ShapiroResult(statistic=0.9954842329025269, pvalue=0.13742683827877045)\n",
      "ShapiroResult(statistic=0.9946429133415222, pvalue=0.10058016330003738)\n"
     ]
    }
   ],
   "source": [
    "from scipy.stats import shapiro \n",
    "\n",
    "#Shapiro-Wilk test for normality\n",
    "print(shapiro(data_clean[data_clean['ACCEPTED']==1]['PAY']))\n",
    "print(shapiro(data_clean[data_clean['ACCEPTED']==0]['PAY']))\n"
   ]
  },
  {
   "cell_type": "markdown",
   "metadata": {},
   "source": [
    "The results from this test show a p-value of 0.14 and 0.10 for our Accepted and Declined distributions, values above our 0.05 threshold. Therefore we can assume that both distributions adhere to the characteristics of a normal distribution going forward with our analysis."
   ]
  },
  {
   "cell_type": "markdown",
   "metadata": {},
   "source": [
    "**Percentage of Ride Decline x Amount Payed**"
   ]
  },
  {
   "cell_type": "markdown",
   "metadata": {},
   "source": [
    " In order to asses the % of Driver Acceptance we must compare the proportion of\n",
    " Accepted vs Declined requests at every PAY point. Due to PAY being a continuous\n",
    " variable we will need to group them based on intervals. The smaller these intervals\n",
    " the more precise our measurements will be. However, given our small sample size of 1000\n",
    "data points we wont be able to be very precise and will opt for an interval size of 1 $"
   ]
  },
  {
   "cell_type": "code",
   "execution_count": 7,
   "metadata": {},
   "outputs": [],
   "source": [
    "# Distribution range\n",
    "Min = int(data_clean['PAY'].min())\n",
    "Max = int(round(data_clean['PAY'].max(), 0))\n",
    "# Range of our distribution [0,51]"
   ]
  },
  {
   "cell_type": "code",
   "execution_count": 8,
   "metadata": {},
   "outputs": [
    {
     "name": "stderr",
     "output_type": "stream",
     "text": [
      "C:\\Users\\chiaw\\AppData\\Local\\Temp\\ipykernel_18420\\860165478.py:13: SettingWithCopyWarning: \n",
      "A value is trying to be set on a copy of a slice from a DataFrame.\n",
      "Try using .loc[row_indexer,col_indexer] = value instead\n",
      "\n",
      "See the caveats in the documentation: https://pandas.pydata.org/pandas-docs/stable/user_guide/indexing.html#returning-a-view-versus-a-copy\n",
      "  Accepted.loc[:,'Counter'] = 1\n",
      "C:\\Users\\chiaw\\AppData\\Local\\Temp\\ipykernel_18420\\860165478.py:14: SettingWithCopyWarning: \n",
      "A value is trying to be set on a copy of a slice from a DataFrame.\n",
      "Try using .loc[row_indexer,col_indexer] = value instead\n",
      "\n",
      "See the caveats in the documentation: https://pandas.pydata.org/pandas-docs/stable/user_guide/indexing.html#returning-a-view-versus-a-copy\n",
      "  Declined.loc[:,'Counter'] = 1\n"
     ]
    }
   ],
   "source": [
    "# Creating the intervals\n",
    "import numpy as np\n",
    "Accepted = data_clean[data_clean['ACCEPTED']==1]\n",
    "Declined = data_clean[data_clean['ACCEPTED']==0]\n",
    "\n",
    "# Set up\n",
    "Intervals = []\n",
    "start = 0\n",
    "for i in range(0, 51):\n",
    "    Intervals.append(start)\n",
    "    start = start + 1\n",
    "\n",
    "Accepted.loc[:,'Counter'] = 1\n",
    "Declined.loc[:,'Counter'] = 1\n",
    "\n",
    "\n",
    "Int_Accepted = Accepted.groupby(pd.cut(Accepted['PAY'], Intervals)).sum()\n",
    "Int_Declined = Declined.groupby(pd.cut(Declined['PAY'], Intervals)).sum()\n"
   ]
  },
  {
   "cell_type": "markdown",
   "metadata": {},
   "source": [
    "Recreating our initial dataframe with our intervals as indexes and grouping PAY values based on these indexes. Additionally, adding an extra column \"% Declined\" which is calculated by: [Number of Declined Rides] * 100 / [Total Rides Requested] within each [PAY] interval."
   ]
  },
  {
   "cell_type": "code",
   "execution_count": 9,
   "metadata": {},
   "outputs": [
    {
     "data": {
      "text/html": [
       "<div>\n",
       "<style scoped>\n",
       "    .dataframe tbody tr th:only-of-type {\n",
       "        vertical-align: middle;\n",
       "    }\n",
       "\n",
       "    .dataframe tbody tr th {\n",
       "        vertical-align: top;\n",
       "    }\n",
       "\n",
       "    .dataframe thead th {\n",
       "        text-align: right;\n",
       "    }\n",
       "</style>\n",
       "<table border=\"1\" class=\"dataframe\">\n",
       "  <thead>\n",
       "    <tr style=\"text-align: right;\">\n",
       "      <th></th>\n",
       "      <th>Accepted</th>\n",
       "      <th>Declined</th>\n",
       "      <th>% Declined</th>\n",
       "    </tr>\n",
       "    <tr>\n",
       "      <th>PAY</th>\n",
       "      <th></th>\n",
       "      <th></th>\n",
       "      <th></th>\n",
       "    </tr>\n",
       "  </thead>\n",
       "  <tbody>\n",
       "    <tr>\n",
       "      <th>(0, 1]</th>\n",
       "      <td>0</td>\n",
       "      <td>3</td>\n",
       "      <td>100.0</td>\n",
       "    </tr>\n",
       "    <tr>\n",
       "      <th>(1, 2]</th>\n",
       "      <td>0</td>\n",
       "      <td>1</td>\n",
       "      <td>100.0</td>\n",
       "    </tr>\n",
       "    <tr>\n",
       "      <th>(2, 3]</th>\n",
       "      <td>0</td>\n",
       "      <td>0</td>\n",
       "      <td>NaN</td>\n",
       "    </tr>\n",
       "    <tr>\n",
       "      <th>(3, 4]</th>\n",
       "      <td>0</td>\n",
       "      <td>3</td>\n",
       "      <td>100.0</td>\n",
       "    </tr>\n",
       "    <tr>\n",
       "      <th>(4, 5]</th>\n",
       "      <td>0</td>\n",
       "      <td>4</td>\n",
       "      <td>100.0</td>\n",
       "    </tr>\n",
       "  </tbody>\n",
       "</table>\n",
       "</div>"
      ],
      "text/plain": [
       "        Accepted  Declined  % Declined\n",
       "PAY                                   \n",
       "(0, 1]         0         3       100.0\n",
       "(1, 2]         0         1       100.0\n",
       "(2, 3]         0         0         NaN\n",
       "(3, 4]         0         3       100.0\n",
       "(4, 5]         0         4       100.0"
      ]
     },
     "execution_count": 9,
     "metadata": {},
     "output_type": "execute_result"
    }
   ],
   "source": [
    "Clean_df = Int_Accepted.drop(['ACCEPTED', 'PAY'], axis=1).rename(columns={\"Counter\":\"Accepted\"})\n",
    "Clean_df['Declined'] = Int_Declined.drop(['ACCEPTED', 'PAY'], axis=1)\n",
    "\n",
    "Clean_df['% Declined'] = round(Clean_df['Declined'] * 100 / (Clean_df['Accepted'] + Clean_df['Declined']), 2)\n",
    "Clean_df.head()"
   ]
  },
  {
   "cell_type": "markdown",
   "metadata": {},
   "source": [
    "We then proceed to visualize the % of Declined rides by each price point."
   ]
  },
  {
   "cell_type": "code",
   "execution_count": 10,
   "metadata": {},
   "outputs": [
    {
     "data": {
      "text/plain": [
       "(array([ 0,  1,  2,  3,  4,  5,  6,  7,  8,  9, 10, 11, 12, 13, 14, 15, 16,\n",
       "        17, 18, 19, 20, 21, 22, 23, 24, 25, 26, 27, 28, 29, 30, 31, 32, 33,\n",
       "        34, 35, 36, 37, 38, 39, 40, 41, 42, 43, 44, 45, 46, 47, 48, 49]),\n",
       " [Text(0, 0, '(0, 1]'),\n",
       "  Text(1, 0, '(1, 2]'),\n",
       "  Text(2, 0, '(2, 3]'),\n",
       "  Text(3, 0, '(3, 4]'),\n",
       "  Text(4, 0, '(4, 5]'),\n",
       "  Text(5, 0, '(5, 6]'),\n",
       "  Text(6, 0, '(6, 7]'),\n",
       "  Text(7, 0, '(7, 8]'),\n",
       "  Text(8, 0, '(8, 9]'),\n",
       "  Text(9, 0, '(9, 10]'),\n",
       "  Text(10, 0, '(10, 11]'),\n",
       "  Text(11, 0, '(11, 12]'),\n",
       "  Text(12, 0, '(12, 13]'),\n",
       "  Text(13, 0, '(13, 14]'),\n",
       "  Text(14, 0, '(14, 15]'),\n",
       "  Text(15, 0, '(15, 16]'),\n",
       "  Text(16, 0, '(16, 17]'),\n",
       "  Text(17, 0, '(17, 18]'),\n",
       "  Text(18, 0, '(18, 19]'),\n",
       "  Text(19, 0, '(19, 20]'),\n",
       "  Text(20, 0, '(20, 21]'),\n",
       "  Text(21, 0, '(21, 22]'),\n",
       "  Text(22, 0, '(22, 23]'),\n",
       "  Text(23, 0, '(23, 24]'),\n",
       "  Text(24, 0, '(24, 25]'),\n",
       "  Text(25, 0, '(25, 26]'),\n",
       "  Text(26, 0, '(26, 27]'),\n",
       "  Text(27, 0, '(27, 28]'),\n",
       "  Text(28, 0, '(28, 29]'),\n",
       "  Text(29, 0, '(29, 30]'),\n",
       "  Text(30, 0, '(30, 31]'),\n",
       "  Text(31, 0, '(31, 32]'),\n",
       "  Text(32, 0, '(32, 33]'),\n",
       "  Text(33, 0, '(33, 34]'),\n",
       "  Text(34, 0, '(34, 35]'),\n",
       "  Text(35, 0, '(35, 36]'),\n",
       "  Text(36, 0, '(36, 37]'),\n",
       "  Text(37, 0, '(37, 38]'),\n",
       "  Text(38, 0, '(38, 39]'),\n",
       "  Text(39, 0, '(39, 40]'),\n",
       "  Text(40, 0, '(40, 41]'),\n",
       "  Text(41, 0, '(41, 42]'),\n",
       "  Text(42, 0, '(42, 43]'),\n",
       "  Text(43, 0, '(43, 44]'),\n",
       "  Text(44, 0, '(44, 45]'),\n",
       "  Text(45, 0, '(45, 46]'),\n",
       "  Text(46, 0, '(46, 47]'),\n",
       "  Text(47, 0, '(47, 48]'),\n",
       "  Text(48, 0, '(48, 49]'),\n",
       "  Text(49, 0, '(49, 50]')])"
      ]
     },
     "execution_count": 10,
     "metadata": {},
     "output_type": "execute_result"
    },
    {
     "data": {
      "image/png": "[encoded data removed]",
      "text/plain": [
       "<Figure size 640x480 with 1 Axes>"
      ]
     },
     "metadata": {},
     "output_type": "display_data"
    }
   ],
   "source": [
    "# Quick Visualization of likelyhood of rejection\n",
    "sns.barplot(x=Clean_df.index, y=Clean_df['% Declined'])\n",
    "plt.tick_params(axis='both', which='major', labelsize=5)\n",
    "plt.xticks(rotation = -45)"
   ]
  },
  {
   "cell_type": "markdown",
   "metadata": {},
   "source": [
    "As expected there is a reduction in the % of declined rides as we increase the pay offered to drivers. However, even with a low sensitivity (1$ intervals) we dont have enough data to plot a smooth transition between intervals. As we can see, there is noticeable sudden \"jumps\" within the (32, 33] and (39,39] intervals mostlikely caused by our low number of samples."
   ]
  },
  {
   "cell_type": "markdown",
   "metadata": {},
   "source": [
    "**Data Generation**"
   ]
  },
  {
   "cell_type": "markdown",
   "metadata": {},
   "source": [
    "Given that both Decline and Accepted ride request both exhibit a Gaussian/Normal distribution we are able to generate further data points based on the characteristics (mean and standard deviation) of their respective distributions. We will therefore recreate these distributions with a sample size of 100.000.000 data points which will enable us to generate a more accurate estimate of which rides were accepted/declined for every driver offer range."
   ]
  },
  {
   "cell_type": "code",
   "execution_count": 11,
   "metadata": {},
   "outputs": [
    {
     "data": {
      "text/plain": [
       "<AxesSubplot: ylabel='Count'>"
      ]
     },
     "execution_count": 11,
     "metadata": {},
     "output_type": "execute_result"
    },
    {
     "data": {
      "image/png": "[encoded data removed]",
      "text/plain": [
       "<Figure size 640x480 with 1 Axes>"
      ]
     },
     "metadata": {},
     "output_type": "display_data"
    }
   ],
   "source": [
    "# Declined Data Generation\n",
    "from numpy.random import normal\n",
    "mean = data_clean[data_clean['ACCEPTED']==0]['PAY'].mean()\n",
    "std = data_clean[data_clean['ACCEPTED']==0]['PAY'].std()\n",
    "Dec_Pay = normal(loc=mean, scale=std, size=100000000)\n",
    "sns.histplot(Dec_Pay)"
   ]
  },
  {
   "cell_type": "code",
   "execution_count": 12,
   "metadata": {},
   "outputs": [
    {
     "data": {
      "text/plain": [
       "<AxesSubplot: ylabel='Count'>"
      ]
     },
     "execution_count": 12,
     "metadata": {},
     "output_type": "execute_result"
    },
    {
     "data": {
      "image/png": "[encoded data removed]",
      "text/plain": [
       "<Figure size 640x480 with 1 Axes>"
      ]
     },
     "metadata": {},
     "output_type": "display_data"
    }
   ],
   "source": [
    "# Accepted Data Generation\n",
    "from numpy.random import normal\n",
    "mean = data_clean[data_clean['ACCEPTED']==1]['PAY'].mean()\n",
    "std = data_clean[data_clean['ACCEPTED']==1]['PAY'].std()\n",
    "Ac_Pay = normal(loc=mean, scale=std, size=100000000)\n",
    "sns.histplot(Ac_Pay)"
   ]
  },
  {
   "cell_type": "markdown",
   "metadata": {},
   "source": [
    "We can see in the above plots that the extreme values on the left side of out new Declined data set go beyond the 0 PAY point. Since we are not interested in unrealistic values we proceed to get rid of them:"
   ]
  },
  {
   "cell_type": "code",
   "execution_count": 16,
   "metadata": {},
   "outputs": [
    {
     "name": "stdout",
     "output_type": "stream",
     "text": [
      "Our sample size of accepted rides is now equal 99999633\n",
      "Our sample size of declined rides is now equal 99477085\n"
     ]
    }
   ],
   "source": [
    "# Getting rid of values under 0\n",
    "Ac_Pay = Ac_Pay[Ac_Pay >= 0]\n",
    "len(Ac_Pay)\n",
    "Dec_Pay = Dec_Pay[Dec_Pay >= 0]\n",
    "len(Dec_Pay)\n",
    "print(\"Our sample size of accepted rides is now equal \" + str(len(Ac_Pay)))\n",
    "print(\"Our sample size of declined rides is now equal \" + str(len(Dec_Pay)))\n"
   ]
  },
  {
   "cell_type": "markdown",
   "metadata": {},
   "source": [
    "The datramatic increase in sample size will enable us to both increase our precision in [% Decline] estimates and decrease our [PAY] intervals, effectively increasing our sensitivity. <br/>\n",
    "We once again proceed to group our newly generated data into intervals. This time with 0.01 $ sizes. "
   ]
  },
  {
   "cell_type": "code",
   "execution_count": 17,
   "metadata": {},
   "outputs": [],
   "source": [
    "# Grouping Accepted/Declined data in 0.01 width intervals\n",
    "Max = int(round(Ac_Pay.max(), 0))\n",
    "Min = int(round(Dec_Pay.min(), 0))\n",
    "# Creating intervals with 0.01 width\n",
    "Intervals = []\n",
    "start = 0\n",
    "for i in range(Min, Max*100):                          \n",
    "    Intervals.append(start)\n",
    "    start = start + 0.01\n",
    "Intervals = np.round(Intervals[:], 2)\n",
    "\n",
    "\n",
    "Accepted = pd.DataFrame(Ac_Pay)\n",
    "Declined = pd.DataFrame(Dec_Pay)\n",
    "\n",
    "Accepted.rename(columns={0:'PAY'}, inplace=True)\n",
    "Declined.rename(columns={0:'PAY'}, inplace=True)\n",
    "\n",
    "Accepted.loc[:,'Counter'] = 1\n",
    "Declined.loc[:,'Counter'] = 1\n",
    "\n",
    "C_Accepted = Accepted.groupby(pd.cut(Accepted['PAY'], Intervals)).sum()\n",
    "C_Declined = Declined.groupby(pd.cut(Declined['PAY'], Intervals)).sum()\n"
   ]
  },
  {
   "cell_type": "code",
   "execution_count": 53,
   "metadata": {},
   "outputs": [
    {
     "data": {
      "text/plain": [
       "<BarContainer object of 7099 artists>"
      ]
     },
     "execution_count": 53,
     "metadata": {},
     "output_type": "execute_result"
    },
    {
     "data": {
      "image/png": "[encoded data removed]",
      "text/plain": [
       "<Figure size 640x480 with 1 Axes>"
      ]
     },
     "metadata": {},
     "output_type": "display_data"
    }
   ],
   "source": [
    "# Recreating our dataframe of interest \n",
    "Percent_df = C_Accepted.drop('PAY', axis=1).rename(columns={\"Counter\":\"Accepted\"})\n",
    "Percent_df['Declined'] = C_Declined['Counter']\n",
    "\n",
    "# Defining our [% Declined] column \n",
    "Percent_df['% Declined'] = round(Percent_df['Declined'] * 100 / (Percent_df['Accepted'] + Percent_df['Declined']), 2)\n",
    "#Percent_df = Percent_df.dropna()\n",
    "\n",
    "\n",
    "\n",
    "plt.bar(Intervals[1:], Percent_df['% Declined'][0:])\n",
    "# Our result is an inverse sigmoid function as shown below"
   ]
  },
  {
   "cell_type": "markdown",
   "metadata": {},
   "source": [
    "As seen above, our resulting [% Decline] describes an inverse sigmoid distribution. We can also appreciate some deviance from this distribution at the right tail end. This should be revised. However, since the 30$ marks our break even point it will be irrelevant for our specific case and therefore will be ignored going forward."
   ]
  },
  {
   "cell_type": "markdown",
   "metadata": {},
   "source": [
    "**Rejection function**"
   ]
  },
  {
   "cell_type": "markdown",
   "metadata": {},
   "source": [
    "Now that we have our data cleaned and expanded we can proceed to our next step, creating functions that will optimize our profits given our problem restrictions. "
   ]
  },
  {
   "cell_type": "code",
   "execution_count": 54,
   "metadata": {},
   "outputs": [],
   "source": [
    "# This function will result in a float which when multipled by the amount\n",
    "# of Ride Requests will output the total number of REJECTED Ride Requests\n",
    "# given the parameter X which is the amount paid to the DRIVER\n",
    "def Rejection_Rate(x):\n",
    "    Percent = Percent_df.loc[x]['% Declined']/100\n",
    "    return Percent"
   ]
  },
  {
   "cell_type": "code",
   "execution_count": 55,
   "metadata": {},
   "outputs": [],
   "source": [
    "# This function will result in a float which when multipled by the amount\n",
    "# of Ride Requests will output the total number of ACCEPTED Ride Requests\n",
    "# given the parameter X which is the amount paid to the DRIVER\n",
    "def Acceptance_Rate(x):\n",
    "    Percent = 1 - Percent_df.loc[x]['% Declined']/100\n",
    "    return Percent"
   ]
  },
  {
   "cell_type": "code",
   "execution_count": 57,
   "metadata": {},
   "outputs": [
    {
     "data": {
      "text/plain": [
       "22.51"
      ]
     },
     "execution_count": 57,
     "metadata": {},
     "output_type": "execute_result"
    }
   ],
   "source": [
    "# Example: \n",
    "# Number of rejections given 100 requests if we offered 30$ to the DRIVERS\n",
    "100 * Rejection_Rate(30)"
   ]
  },
  {
   "cell_type": "markdown",
   "metadata": {},
   "source": [
    "Bellow we describe in detail the contents of our main function [Profit] defined further bellow:\n",
    "\n",
    "* The function accepts 1 input function (x) = Price offered to drivers\n",
    "\n",
    "\n",
    "* There are 3 initial parameters preestablished by our particular problem a list and a counter:\n",
    "1) Initial Value of Lambda: 1\n",
    "2) Initial Rider Population: 1.000\n",
    "3) Maximun Number of Possible Riders: 10.000\n",
    "4) Exhausted Riders is a counter which must be bellow 10.000 in order for the function to continue\n",
    "5) Profit is where the profit made by each itteration is saved\n",
    "\n",
    "* It is itterated 12 times, one for every month.\n",
    "\n",
    "\n",
    "* The function logic is as follows:\n",
    "1) We establish our main restriction: If the total amount of Exhausted Riders (riders which have exited the App due one of the possibilities given by our problem) is greater than the total pool of riders [Max_Riders], then the function is halted.\n",
    "\n",
    "2) Our first FOR loop calculates the distribution of [Riders] per [Number of Request] given the Lambda value and the number of riders per previous Lambda value. We then obtain two lists: Total_LambDist which is our total distribution of requests per individual, and Unique_Values which is a collection of unique values within our distribution.\n",
    "\n",
    "\n",
    "3) Our second FOR loop organizes our previous distribution into a list NRi_NRe (Number of Riders per Number of Rides). This list contains the sum of riders per number of requests. <br/>\n",
    "\n",
    "        For example:\n",
    "\n",
    "        NRi_NRe = [300, 200, 100, 50, 10, 1]\n",
    "        Unique_Values = [0, 1, 2, 3, 4, 6]\n",
    "\n",
    "        300 Riders have requested 0 Rides\n",
    "        200 Riders have requested 1 Ride\n",
    "        100 Riders have requested 2 Rides\n",
    "        50  Riders have requested 3 Rides\n",
    "        10  Riders have Requested 4 Rides\n",
    "        1   Rider  has  Requested 6 Rides\n",
    "\n",
    "4) Our third FOR loop calculates the [Attrition] rate per NRi_NRe element. Attrition is determined by our problem, which states that a Rider will leave the service IF he does not use it (0 Rides taken) or all of his rides have been declined. This is done by multiplying every element within NRi_NRe by our previously described Rejection_Rate function to the power of its associated Unique_Value. <br/>\n",
    "\n",
    "        For example: \n",
    "\n",
    "        Attrition[0] = 300 * 0.22^0 = 300 \n",
    "        Attrition[1] = 200 * 0.22^1 =  44 \n",
    "        Attrition[2] = 100 * 0.22^2 =   9 \n",
    "        Attrition[3] =  50 * 0.22^3 =   2 \n",
    "        Attrition[4] =  10 * 0.22^4 =   0.47 \n",
    "        Attrition[5] =   1 * 0.22^6 =   0.02 \n",
    "\n",
    "5) We proceed to calculate our profit for that month given our input X and append it to our Profit list.\n",
    "\n",
    "6) We set up the variables for our next interration\n",
    "\n"
   ]
  },
  {
   "cell_type": "code",
   "execution_count": 58,
   "metadata": {},
   "outputs": [
    {
     "data": {
      "text/plain": [
       "[1919.8049999999998,\n",
       " 2611.4849999999997,\n",
       " 2908.2,\n",
       " 3252.075,\n",
       " 3261.9000000000005,\n",
       " 3273.6899999999996,\n",
       " 3607.7400000000007,\n",
       " 3745.290000000001,\n",
       " 3664.7250000000004,\n",
       " 3786.5550000000003,\n",
       " 3859.26]"
      ]
     },
     "execution_count": 58,
     "metadata": {},
     "output_type": "execute_result"
    }
   ],
   "source": [
    "import numpy as np\n",
    "from scipy.stats import poisson\n",
    "import itertools\n",
    "\n",
    "# Initial Parameter\n",
    "x = 20                                                                               # Example of amount payed to drivers\n",
    "lamb = [1]                                                                           # Initial lambda value for our poisson distributions\n",
    "Ri_Retention = [1000]                                                                # Initial number of riders for first month\n",
    "Max_Riders = 10000                                                                   # Max. number of possible customers\n",
    "\n",
    "Exhausted_Riders = 0                                                                 # Exhausted Rider counter set at 0\n",
    "Profit = []                                                                          # Profit per itteration (month)\n",
    "\n",
    "# Poisson Distribution of every previous Lambda\n",
    "for month in range(0, 12):\n",
    "\n",
    "# Halting if Riders are exhausted\n",
    "    if Max_Riders <= Exhausted_Riders:\n",
    "        break\n",
    "\n",
    "    Total_LambDist = []                                                                  # List of lists containing all the distributions of each given lambda\n",
    "    for ele in range(0, len(lamb)):\n",
    "        Total_LambDist.append(poisson.rvs(mu=lamb[ele], size=int(round(Ri_Retention[ele],0))))\n",
    "\n",
    "    Total_LambDist = [item for sublist in Total_LambDist for item in sublist]            # Our complete new distribution\n",
    "    Unique_Values = list(set(Total_LambDist))                                            # Unique Number of Requests (0 Requests, 1 Request, 2 Requests...) \n",
    "\n",
    "# Number of Riders per Number of Requests\n",
    "    NRi_NRe = []                                                                         # Initializing list which will contain the amount of riders per number of requests\n",
    "    for i in range(0, len(Unique_Values)):                                               # Declaring for loop to iterate over every element of our Unique Values\n",
    "        NRi_NRe.append(np.count_nonzero(Total_LambDist == Unique_Values[i]))             # Appending total amount of every unique number of requests\n",
    "\n",
    "# Attrition Rate per Number of RidersxNumber of Requests\n",
    "    Attrition = []                                                                       # Initializing a second list which will contain NRi_NRe(ele)*Rejection_Rate^Number of request\n",
    "    for u in range(0, len(NRi_NRe)):                                                     # Declaring for loop to iterate over every element of total amount of unique requests\n",
    "        Attrition.append(NRi_NRe[u]*Rejection_Rate(x)**Unique_Values[u])                 # Appending attrition rate defined as total amount of unique requests * rejection rate^number of requests performed\n",
    "\n",
    "# Calculating benefit\n",
    "    Earning = 30 * sum(Total_LambDist)*Acceptance_Rate(x)                # Total earnings per itteration\n",
    "    Cost = x * sum(Total_LambDist)*Acceptance_Rate(x)                    # Total cost per itteration\n",
    "    Benefit = Earning - Cost                                             # Total benefits per itteration\n",
    "    Profit.append(Benefit)\n",
    "\n",
    "# Setting up variables for next loop\n",
    "    Ri_Retention = np.subtract(NRi_NRe, Attrition)[1:]                   # New Ri_Retention values\n",
    "    Ri_Retention[0] = Ri_Retention[0] + 1000                             # New Riders Added\n",
    "    lamb = Unique_Values[1:]                                             # New lambda values\n",
    "    Exhausted_Riders = Exhausted_Riders + sum(Attrition)                 # New Exhausted Riders\n",
    "Profit\n",
    "\n",
    "\n"
   ]
  },
  {
   "cell_type": "code",
   "execution_count": 59,
   "metadata": {},
   "outputs": [],
   "source": [
    "# Creating a function based on the previously described loop\n",
    "def profit(x):\n",
    "\n",
    "    import numpy as np\n",
    "    from scipy.stats import poisson\n",
    "    import itertools\n",
    "\n",
    "    # Initial Parameters\n",
    "    lamb = [1]                                                                           \n",
    "    Ri_Retention = [1000]                                                                \n",
    "    Max_Riders = 10000                                                                   \n",
    "\n",
    "    Exhausted_Riders = 0                                                                 \n",
    "    Profit = []                                                                          \n",
    "\n",
    "    # Poisson Distribution of every previous Lambda\n",
    "    for month in range(0, 12):\n",
    "\n",
    "    # Halting if Riders are exhausted\n",
    "        if Max_Riders <= Exhausted_Riders:\n",
    "            break\n",
    "\n",
    "        Total_LambDist = []                                                                  \n",
    "        for ele in range(0, len(lamb)):\n",
    "            Total_LambDist.append(poisson.rvs(mu=lamb[ele], size=int(round(Ri_Retention[ele],0))))\n",
    "\n",
    "        Total_LambDist = [item for sublist in Total_LambDist for item in sublist]            \n",
    "        Unique_Values = list(set(Total_LambDist))                                             \n",
    "\n",
    "    # Number of Riders per Number of Requests\n",
    "        NRi_NRe = []                                                                         \n",
    "        for i in range(0, len(Unique_Values)):                                               \n",
    "            NRi_NRe.append(np.count_nonzero(Total_LambDist == Unique_Values[i]))             \n",
    "\n",
    "    # Attrition Rate per Number of RidersxNumber of Requests\n",
    "        Attrition = []                                                       \n",
    "        for u in range(0, len(NRi_NRe)):                                          \n",
    "            Attrition.append(NRi_NRe[u]*Rejection_Rate(x)**Unique_Values[u])      \n",
    "\n",
    "    # Calculating benefit\n",
    "        Earning = 30 * sum(Total_LambDist)*Acceptance_Rate(x)                \n",
    "        Cost = x * sum(Total_LambDist)*Acceptance_Rate(x)                    \n",
    "        Benefit = Earning - Cost                                             \n",
    "        Profit.append(Benefit)\n",
    "\n",
    "    # Setting up variables for next loop\n",
    "        Ri_Retention = np.subtract(NRi_NRe, Attrition)[1:]                   \n",
    "        Ri_Retention[0] = Ri_Retention[0] + 1000                             \n",
    "        lamb = Unique_Values[1:]                                             \n",
    "        Exhausted_Riders = Exhausted_Riders + sum(Attrition)                \n",
    "    return sum(Profit)\n",
    "\n",
    "\n"
   ]
  },
  {
   "cell_type": "markdown",
   "metadata": {},
   "source": [
    "Now that we have our fuction defined we can itterate over all our interval values of interest ([0.01, 30.00]) in order to observe the distribution of proffits across price ranges."
   ]
  },
  {
   "cell_type": "code",
   "execution_count": 60,
   "metadata": {},
   "outputs": [
    {
     "name": "stderr",
     "output_type": "stream",
     "text": [
      "100%|██████████| 3000/3000 [02:18<00:00, 21.72it/s]\n"
     ]
    }
   ],
   "source": [
    "from tqdm import tqdm\n",
    "# Itterating our function over every price interval\n",
    "List_Profit = []\n",
    "\n",
    "# We can limit the itterations from 0 up until 30 since its the break-even point\n",
    "for i in tqdm(Intervals[np.where(Intervals == 0.01)[0][0]:np.where(Intervals == 30.01)[0][0]]):\n",
    "    List_Profit.append(profit(i))\n",
    "\n",
    "\n"
   ]
  },
  {
   "cell_type": "code",
   "execution_count": 61,
   "metadata": {},
   "outputs": [
    {
     "data": {
      "text/plain": [
       "<BarContainer object of 3000 artists>"
      ]
     },
     "execution_count": 61,
     "metadata": {},
     "output_type": "execute_result"
    },
    {
     "data": {
      "image/png": "[encoded data removed]",
      "text/plain": [
       "<Figure size 640x480 with 1 Axes>"
      ]
     },
     "metadata": {},
     "output_type": "display_data"
    }
   ],
   "source": [
    "Profit_df = pd.DataFrame(List_Profit)\n",
    "Profit_df = Profit_df.set_index([Intervals[1:3001]])\n",
    "Profit_df.columns = ['Profit']\n",
    "\n",
    "\n",
    "plt.bar(Intervals[1:3001], Profit_df['Profit'])"
   ]
  },
  {
   "cell_type": "code",
   "execution_count": 62,
   "metadata": {},
   "outputs": [
    {
     "data": {
      "text/plain": [
       "<AxesSubplot: ylabel='Profit'>"
      ]
     },
     "execution_count": 62,
     "metadata": {},
     "output_type": "execute_result"
    },
    {
     "data": {
      "image/png": "[encoded data removed]",
      "text/plain": [
       "<Figure size 640x480 with 1 Axes>"
      ]
     },
     "metadata": {},
     "output_type": "display_data"
    }
   ],
   "source": [
    "sns.barplot(x=Profit_df.index, y=Profit_df['Profit'])"
   ]
  },
  {
   "cell_type": "markdown",
   "metadata": {},
   "source": [
    "Both figures shown above show the same distribution. They seem to represent a log normal distribution. However, this is taken from just one sample per interval. We could further itterate throughout the whole range of intervals but since we are only interested in maximizing our profits we can set a cut of point of above 100.000$, get the min and max intervals that satisfy this condition and itterate over this smaller sample, saving computing time.\n"
   ]
  },
  {
   "cell_type": "code",
   "execution_count": 63,
   "metadata": {},
   "outputs": [
    {
     "name": "stdout",
     "output_type": "stream",
     "text": [
      "Minimun Interval: 24.12\n",
      "Maximun Interval: 27.11\n"
     ]
    }
   ],
   "source": [
    "Min_Interval = Profit_df[Profit_df['Profit']>=100000].index.min()\n",
    "Max_Interval = Profit_df[Profit_df['Profit']>=100000].index.max()\n",
    "print(\"Minimun Interval: \" + str(Min_Interval))\n",
    "print(\"Maximun Interval: \" + str(Max_Interval))"
   ]
  },
  {
   "cell_type": "code",
   "execution_count": 66,
   "metadata": {},
   "outputs": [
    {
     "data": {
      "text/plain": [
       "24.12"
      ]
     },
     "execution_count": 66,
     "metadata": {},
     "output_type": "execute_result"
    }
   ],
   "source": [
    "Min_Interval"
   ]
  },
  {
   "cell_type": "code",
   "execution_count": 67,
   "metadata": {},
   "outputs": [
    {
     "name": "stderr",
     "output_type": "stream",
     "text": [
      "100%|██████████| 10/10 [03:58<00:00, 23.85s/it]\n"
     ]
    }
   ],
   "source": [
    "# Selecting only the interval [24.15, 26.99] and itterating 1000 times\n",
    "from tqdm import tqdm\n",
    "# Itterating our function over every price interval\n",
    "T_LP_Interval = []\n",
    "\n",
    "for u in tqdm(range(0, 10)):\n",
    "    List_Profit_Interval = []\n",
    "    for i in Intervals[np.where(Intervals == Min_Interval)[0][0]:np.where(Intervals == Max_Interval)[0][0]]:\n",
    "        List_Profit_Interval.append(profit(i))\n",
    "    T_LP_Interval.append(List_Profit_Interval)\n",
    "    \n",
    "Total = np.mean(T_LP_Interval, axis=0)\n",
    "\n"
   ]
  },
  {
   "cell_type": "code",
   "execution_count": 74,
   "metadata": {},
   "outputs": [
    {
     "data": {
      "text/plain": [
       "2412"
      ]
     },
     "execution_count": 74,
     "metadata": {},
     "output_type": "execute_result"
    }
   ],
   "source": [
    "int(str(Max_Interval).replace('.', ''))"
   ]
  },
  {
   "cell_type": "code",
   "execution_count": 75,
   "metadata": {},
   "outputs": [
    {
     "data": {
      "text/html": [
       "<div>\n",
       "<style scoped>\n",
       "    .dataframe tbody tr th:only-of-type {\n",
       "        vertical-align: middle;\n",
       "    }\n",
       "\n",
       "    .dataframe tbody tr th {\n",
       "        vertical-align: top;\n",
       "    }\n",
       "\n",
       "    .dataframe thead th {\n",
       "        text-align: right;\n",
       "    }\n",
       "</style>\n",
       "<table border=\"1\" class=\"dataframe\">\n",
       "  <thead>\n",
       "    <tr style=\"text-align: right;\">\n",
       "      <th></th>\n",
       "      <th>Profit</th>\n",
       "    </tr>\n",
       "  </thead>\n",
       "  <tbody>\n",
       "    <tr>\n",
       "      <th>24.12</th>\n",
       "      <td>84853.614031</td>\n",
       "    </tr>\n",
       "    <tr>\n",
       "      <th>24.13</th>\n",
       "      <td>87415.640253</td>\n",
       "    </tr>\n",
       "    <tr>\n",
       "      <th>24.14</th>\n",
       "      <td>85447.101042</td>\n",
       "    </tr>\n",
       "    <tr>\n",
       "      <th>24.15</th>\n",
       "      <td>82079.660520</td>\n",
       "    </tr>\n",
       "    <tr>\n",
       "      <th>24.16</th>\n",
       "      <td>87030.108564</td>\n",
       "    </tr>\n",
       "    <tr>\n",
       "      <th>...</th>\n",
       "      <td>...</td>\n",
       "    </tr>\n",
       "    <tr>\n",
       "      <th>27.06</th>\n",
       "      <td>97814.953656</td>\n",
       "    </tr>\n",
       "    <tr>\n",
       "      <th>27.07</th>\n",
       "      <td>97854.210009</td>\n",
       "    </tr>\n",
       "    <tr>\n",
       "      <th>27.08</th>\n",
       "      <td>95958.885966</td>\n",
       "    </tr>\n",
       "    <tr>\n",
       "      <th>27.09</th>\n",
       "      <td>96841.745140</td>\n",
       "    </tr>\n",
       "    <tr>\n",
       "      <th>27.10</th>\n",
       "      <td>96597.294075</td>\n",
       "    </tr>\n",
       "  </tbody>\n",
       "</table>\n",
       "<p>299 rows × 1 columns</p>\n",
       "</div>"
      ],
      "text/plain": [
       "             Profit\n",
       "24.12  84853.614031\n",
       "24.13  87415.640253\n",
       "24.14  85447.101042\n",
       "24.15  82079.660520\n",
       "24.16  87030.108564\n",
       "...             ...\n",
       "27.06  97814.953656\n",
       "27.07  97854.210009\n",
       "27.08  95958.885966\n",
       "27.09  96841.745140\n",
       "27.10  96597.294075\n",
       "\n",
       "[299 rows x 1 columns]"
      ]
     },
     "execution_count": 75,
     "metadata": {},
     "output_type": "execute_result"
    }
   ],
   "source": [
    "Total = np.mean(T_LP_Interval, axis=0)\n",
    "Total_df = pd.DataFrame(Total)\n",
    "Total_df = Total_df.set_index([Intervals[\n",
    "    int(str(Min_Interval).replace('.', '')):int(str(Max_Interval).replace('.', ''))]])\n",
    "Total_df.columns = ['Profit']\n",
    "Total_df\n",
    "\n"
   ]
  },
  {
   "cell_type": "code",
   "execution_count": 76,
   "metadata": {},
   "outputs": [
    {
     "data": {
      "text/plain": [
       "<AxesSubplot: ylabel='Profit'>"
      ]
     },
     "execution_count": 76,
     "metadata": {},
     "output_type": "execute_result"
    },
    {
     "data": {
      "image/png": "[encoded data removed]",
      "text/plain": [
       "<Figure size 640x480 with 1 Axes>"
      ]
     },
     "metadata": {},
     "output_type": "display_data"
    }
   ],
   "source": [
    "sns.lineplot(x=Total_df.index, y=Total_df['Profit'])"
   ]
  },
  {
   "cell_type": "code",
   "execution_count": 77,
   "metadata": {},
   "outputs": [
    {
     "data": {
      "text/plain": [
       "<AxesSubplot: ylabel='Profit'>"
      ]
     },
     "execution_count": 77,
     "metadata": {},
     "output_type": "execute_result"
    },
    {
     "data": {
      "image/png": "[encoded data removed]",
      "text/plain": [
       "<Figure size 640x480 with 1 Axes>"
      ]
     },
     "metadata": {},
     "output_type": "display_data"
    }
   ],
   "source": [
    "sns.barplot(x=Total_df.index, y=Total_df['Profit'])"
   ]
  },
  {
   "cell_type": "code",
   "execution_count": 78,
   "metadata": {},
   "outputs": [
    {
     "name": "stdout",
     "output_type": "stream",
     "text": [
      "24.95\n",
      "26.41\n"
     ]
    }
   ],
   "source": [
    "Min = Total_df[Total_df['Profit']>107500].index.min()\n",
    "Max = Total_df[Total_df['Profit']>107500].index.max()\n",
    "print(Min)\n",
    "print(Max)"
   ]
  },
  {
   "cell_type": "code",
   "execution_count": 79,
   "metadata": {},
   "outputs": [
    {
     "data": {
      "text/plain": [
       "<AxesSubplot: ylabel='Profit'>"
      ]
     },
     "execution_count": 79,
     "metadata": {},
     "output_type": "execute_result"
    },
    {
     "data": {
      "image/png": "[encoded data removed]",
      "text/plain": [
       "<Figure size 640x480 with 1 Axes>"
      ]
     },
     "metadata": {},
     "output_type": "display_data"
    }
   ],
   "source": [
    "Ideal_range = Total_df[(Total_df.index >= Min) & (Total_df.index <= Max)]\n",
    "Ideal_range.max() - Ideal_range.min()\n",
    "sns.barplot(x=Ideal_range.index, y=Ideal_range['Profit'])"
   ]
  },
  {
   "cell_type": "code",
   "execution_count": 80,
   "metadata": {},
   "outputs": [
    {
     "name": "stdout",
     "output_type": "stream",
     "text": [
      "The average maximun value for a fixed price strategy is: 106886.72722364693\n",
      "Which can be achieved by charging drivers anywhere between: 24.95 and 26.41\n"
     ]
    }
   ],
   "source": [
    "Ideal_range['Profit'].mean()\n",
    "print(\"The average maximun value for a fixed price strategy is: \" + str(Ideal_range['Profit'].mean()))\n",
    "print(\"Which can be achieved by charging drivers anywhere between: \" + str(Min) + \" and \" + str(Max))"
   ]
  },
  {
   "cell_type": "markdown",
   "metadata": {},
   "source": [
    "We can now check this our Ideal Range describes a normal distribution"
   ]
  },
  {
   "cell_type": "code",
   "execution_count": 86,
   "metadata": {},
   "outputs": [
    {
     "name": "stdout",
     "output_type": "stream",
     "text": [
      "ShapiroResult(statistic=0.9950666427612305, pvalue=0.9025587439537048)\n",
      "Mean: 106886.72722364693\n",
      "STD : 1488.8363431593589\n"
     ]
    }
   ],
   "source": [
    "from scipy.stats import shapiro \n",
    "\n",
    "#Shapiro-Wilk test for normality\n",
    "print(shapiro(Ideal_range['Profit']))\n",
    "print(\"Mean: \" + str(Ideal_range['Profit'].mean()))\n",
    "print(\"STD : \" + str(Ideal_range['Profit'].std()))"
   ]
  },
  {
   "cell_type": "markdown",
   "metadata": {},
   "source": [
    "Since it seems to be normal distribution we can now gage the probability of achieving a given profit goal. This proceedure is much like that which we have already established previously for generating our data. We extract the mean and standard deviation and itterate over a given amount. We can then give with a 95% confidence interval our expected profits."
   ]
  },
  {
   "cell_type": "code",
   "execution_count": 88,
   "metadata": {},
   "outputs": [
    {
     "data": {
      "text/plain": [
       "<AxesSubplot: ylabel='Count'>"
      ]
     },
     "execution_count": 88,
     "metadata": {},
     "output_type": "execute_result"
    },
    {
     "data": {
      "image/png": "[encoded data removed]",
      "text/plain": [
       "<Figure size 640x480 with 1 Axes>"
      ]
     },
     "metadata": {},
     "output_type": "display_data"
    }
   ],
   "source": [
    "from numpy.random import normal\n",
    "mean = Ideal_range['Profit'].mean()\n",
    "std = Ideal_range['Profit'].std()\n",
    "Profit_Range = normal(loc=mean, scale=std, size=100000000)\n",
    "sns.histplot(Profit_Range)"
   ]
  },
  {
   "cell_type": "code",
   "execution_count": 100,
   "metadata": {},
   "outputs": [
    {
     "name": "stdout",
     "output_type": "stream",
     "text": [
      "When using a fixed priced strategy that pays anywhere between our established range [24.95,26.41] we can assert with 95% confidence that our profits will fall within the following range : [103969.16,109805.48] $\n"
     ]
    }
   ],
   "source": [
    "Percentile_Min = np.percentile(Profit_Range, 2.5)\n",
    "Percentile_Max = np.percentile(Profit_Range, 97.5)\n",
    "print(\"When using a fixed priced strategy that pays anywhere between our established range [\" + str(Min) \n",
    "      + \",\" + str(Max) + \"] we can assert with 95% confidence that our profits will fall within the following\"\n",
    "      \" range : [\" + str(round(Percentile_Min, 2)) + \",\" + str(round(Percentile_Max,2)) + \"] $\") "
   ]
  }
 ],
 "metadata": {
  "kernelspec": {
   "display_name": "Python 3.10.8 64-bit (microsoft store)",
   "language": "python",
   "name": "python3"
  },
  "language_info": {
   "codemirror_mode": {
    "name": "ipython",
    "version": 3
   },
   "file_extension": ".py",
   "mimetype": "text/x-python",
   "name": "python",
   "nbconvert_exporter": "python",
   "pygments_lexer": "ipython3",
   "version": "3.10.8"
  },
  "orig_nbformat": 4,
  "vscode": {
   "interpreter": {
    "hash": "58916f457dcb34b9456eccbbe92e4d02cea8419b04911ae413e3e2240c7b33b6"
   }
  }
 },
 "nbformat": 4,
 "nbformat_minor": 2
}
