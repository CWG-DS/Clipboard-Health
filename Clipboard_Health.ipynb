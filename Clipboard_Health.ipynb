{
 "cells": [
  {
   "cell_type": "markdown",
   "metadata": {},
   "source": [
    "# Data Preprocessing"
   ]
  },
  {
   "cell_type": "markdown",
   "metadata": {},
   "source": [
    "**Importing and Exploring** <br/>\n",
    "We import the data and print it in order to get a sense of the type of data we are dealing with. Additionally we explore basic information such as the mean distribution of the \"PAY\" values based on if they were \"Accepted\" or \"Declined\" rides. "
   ]
  },
  {
   "cell_type": "code",
   "execution_count": 2,
   "metadata": {},
   "outputs": [
    {
     "data": {
      "text/html": [
       "<div>\n",
       "<style scoped>\n",
       "    .dataframe tbody tr th:only-of-type {\n",
       "        vertical-align: middle;\n",
       "    }\n",
       "\n",
       "    .dataframe tbody tr th {\n",
       "        vertical-align: top;\n",
       "    }\n",
       "\n",
       "    .dataframe thead th {\n",
       "        text-align: right;\n",
       "    }\n",
       "</style>\n",
       "<table border=\"1\" class=\"dataframe\">\n",
       "  <thead>\n",
       "    <tr style=\"text-align: right;\">\n",
       "      <th></th>\n",
       "      <th>PAY</th>\n",
       "      <th>ACCEPTED</th>\n",
       "    </tr>\n",
       "  </thead>\n",
       "  <tbody>\n",
       "    <tr>\n",
       "      <th>0</th>\n",
       "      <td>29.358732</td>\n",
       "      <td>0</td>\n",
       "    </tr>\n",
       "    <tr>\n",
       "      <th>1</th>\n",
       "      <td>22.986847</td>\n",
       "      <td>0</td>\n",
       "    </tr>\n",
       "    <tr>\n",
       "      <th>2</th>\n",
       "      <td>18.020348</td>\n",
       "      <td>0</td>\n",
       "    </tr>\n",
       "    <tr>\n",
       "      <th>3</th>\n",
       "      <td>45.730717</td>\n",
       "      <td>1</td>\n",
       "    </tr>\n",
       "    <tr>\n",
       "      <th>4</th>\n",
       "      <td>14.642845</td>\n",
       "      <td>0</td>\n",
       "    </tr>\n",
       "  </tbody>\n",
       "</table>\n",
       "</div>"
      ],
      "text/plain": [
       "         PAY  ACCEPTED\n",
       "0  29.358732         0\n",
       "1  22.986847         0\n",
       "2  18.020348         0\n",
       "3  45.730717         1\n",
       "4  14.642845         0"
      ]
     },
     "execution_count": 2,
     "metadata": {},
     "output_type": "execute_result"
    }
   ],
   "source": [
    "# Importing the data and observing a sample of it\n",
    "import pandas as pd\n",
    "data = pd.read_csv('driverAcceptanceData - driverAcceptanceData.csv')\n",
    "data = data.drop(['Unnamed: 0'], axis=1)\n",
    "data.head()"
   ]
  },
  {
   "cell_type": "code",
   "execution_count": 3,
   "metadata": {},
   "outputs": [
    {
     "data": {
      "text/html": [
       "<div>\n",
       "<style scoped>\n",
       "    .dataframe tbody tr th:only-of-type {\n",
       "        vertical-align: middle;\n",
       "    }\n",
       "\n",
       "    .dataframe tbody tr th {\n",
       "        vertical-align: top;\n",
       "    }\n",
       "\n",
       "    .dataframe thead tr th {\n",
       "        text-align: left;\n",
       "    }\n",
       "</style>\n",
       "<table border=\"1\" class=\"dataframe\">\n",
       "  <thead>\n",
       "    <tr>\n",
       "      <th></th>\n",
       "      <th>Rejected</th>\n",
       "      <th>Accepted</th>\n",
       "    </tr>\n",
       "  </thead>\n",
       "  <tbody>\n",
       "    <tr>\n",
       "      <th>PAY</th>\n",
       "      <td>18.624636</td>\n",
       "      <td>32.076048</td>\n",
       "    </tr>\n",
       "  </tbody>\n",
       "</table>\n",
       "</div>"
      ],
      "text/plain": [
       "      Rejected   Accepted\n",
       "PAY  18.624636  32.076048"
      ]
     },
     "execution_count": 3,
     "metadata": {},
     "output_type": "execute_result"
    }
   ],
   "source": [
    "# Checking means\n",
    "data_mean = data['PAY'].groupby(data['ACCEPTED']).mean()\n",
    "df = pd.DataFrame(data_mean)\n",
    "dfmean = df.T\n",
    "dfmean.columns = [['Rejected', 'Accepted']]\n",
    "dfmean"
   ]
  },
  {
   "cell_type": "markdown",
   "metadata": {},
   "source": [
    "**Raw Data Visualization** <br/>\n",
    "We then proceed to visualize the data in order to get a better sense of the shape of the distribution."
   ]
  },
  {
   "cell_type": "code",
   "execution_count": 4,
   "metadata": {},
   "outputs": [
    {
     "data": {
      "text/plain": [
       "[Text(0.5, 0, '')]"
      ]
     },
     "execution_count": 4,
     "metadata": {},
     "output_type": "execute_result"
    },
    {
     "data": {
      "image/png": "[encoded data removed]",
      "text/plain": [
       "<Figure size 640x480 with 1 Axes>"
      ]
     },
     "metadata": {},
     "output_type": "display_data"
    }
   ],
   "source": [
    "import matplotlib.pyplot as plt\n",
    "import seaborn as sns\n",
    "\n",
    "ax = sns.boxplot(x=data['ACCEPTED'], y=data['PAY'])\n",
    "sns.despine(top=True, right=True)\n",
    "ax.set_xticklabels(['Declined','Accepted'])\n",
    "ax.set(xlabel=None)"
   ]
  },
  {
   "cell_type": "markdown",
   "metadata": {},
   "source": [
    "At first glance it seems that both Accepted and Declined payment distributions adhere to a Gaussian/Normal distribution. However, there seems to be some outliers that should be dealt with before continuing our analysis."
   ]
  },
  {
   "cell_type": "code",
   "execution_count": 5,
   "metadata": {},
   "outputs": [],
   "source": [
    "# Getting rid of Outliers using the Interquartile method\n",
    "import numpy as np\n",
    "Declined = data[data['ACCEPTED']==0].reset_index(drop=True)\n",
    "q75,q25 = np.percentile(Declined['PAY'], [75,25])\n",
    "intr_qr = q75-q25\n",
    "max = q75+(1.5*intr_qr)\n",
    "min = q25-(1.5*intr_qr)\n",
    "Declined[Declined[\"PAY\"] < min] = np.nan\n",
    "Declined[Declined[\"PAY\"] > max] = np.nan\n",
    "\n",
    "Accepted = data[data['ACCEPTED']==1].reset_index(drop=True)\n",
    "q75,q25 = np.percentile(Accepted['PAY'], [75,25])\n",
    "intr_qr = q75-q25\n",
    "max = q75+(1.5*intr_qr)\n",
    "min = q25-(1.5*intr_qr)\n",
    "Accepted[Accepted[\"PAY\"] < min] = np.nan\n",
    "Accepted[Accepted[\"PAY\"] > max] = np.nan\n"
   ]
  },
  {
   "cell_type": "code",
   "execution_count": 6,
   "metadata": {},
   "outputs": [
    {
     "name": "stderr",
     "output_type": "stream",
     "text": [
      "C:\\Users\\chiaw\\AppData\\Local\\Temp\\ipykernel_17088\\92208927.py:2: FutureWarning: The frame.append method is deprecated and will be removed from pandas in a future version. Use pandas.concat instead.\n",
      "  data_clean = Accepted.append(Declined)\n"
     ]
    },
    {
     "data": {
      "text/plain": [
       "<AxesSubplot: xlabel='ACCEPTED', ylabel='PAY'>"
      ]
     },
     "execution_count": 6,
     "metadata": {},
     "output_type": "execute_result"
    },
    {
     "data": {
      "image/png": "[encoded data removed]",
      "text/plain": [
       "<Figure size 640x480 with 1 Axes>"
      ]
     },
     "metadata": {},
     "output_type": "display_data"
    }
   ],
   "source": [
    "# Visualizaing new distributions\n",
    "data_clean = Accepted.append(Declined)\n",
    "sns.boxplot(x=data_clean['ACCEPTED'], y=data_clean['PAY'])"
   ]
  },
  {
   "cell_type": "markdown",
   "metadata": {},
   "source": [
    "Once we have gotten rid of the outliers using an interquartile approach we can proceed to check our assumption of normal distribution. In order to do so we will employ a Shapiro-Wilks Test"
   ]
  },
  {
   "cell_type": "code",
   "execution_count": 7,
   "metadata": {},
   "outputs": [
    {
     "name": "stdout",
     "output_type": "stream",
     "text": [
      "ShapiroResult(statistic=0.9954842329025269, pvalue=0.13742683827877045)\n",
      "ShapiroResult(statistic=0.9946429133415222, pvalue=0.10058016330003738)\n"
     ]
    }
   ],
   "source": [
    "from scipy.stats import shapiro \n",
    "\n",
    "#Shapiro-Wilk test for normality\n",
    "print(shapiro(data_clean[data_clean['ACCEPTED']==1]['PAY']))\n",
    "print(shapiro(data_clean[data_clean['ACCEPTED']==0]['PAY']))\n"
   ]
  },
  {
   "cell_type": "markdown",
   "metadata": {},
   "source": [
    "The results from this test show a p-value of 0.14 and 0.10 for our Accepted and Declined distributions, values above our 0.05 threshold. Therefore we can assume that both distributions adhere to the characteristics of a normal distribution going forward with our analysis."
   ]
  },
  {
   "cell_type": "markdown",
   "metadata": {},
   "source": [
    "**Percentage of Ride Decline x Amount Payed**"
   ]
  },
  {
   "cell_type": "markdown",
   "metadata": {},
   "source": [
    " In order to asses the % of Driver Acceptance we must compare the proportion of\n",
    " Accepted vs Declined requests at every PAY point. Due to PAY being a continuous\n",
    " variable we will need to group them based on intervals. The smaller these intervals\n",
    " the more precise our measurements will be. However, given our small sample size of 1000\n",
    "data points we wont be able to be very precise and will opt for an interval size of 1 $"
   ]
  },
  {
   "cell_type": "code",
   "execution_count": 8,
   "metadata": {},
   "outputs": [],
   "source": [
    "# Distribution range\n",
    "Min = int(data_clean['PAY'].min())\n",
    "Max = int(round(data_clean['PAY'].max(), 0))\n",
    "# Range of our distribution [0,51]"
   ]
  },
  {
   "cell_type": "code",
   "execution_count": 9,
   "metadata": {},
   "outputs": [
    {
     "name": "stderr",
     "output_type": "stream",
     "text": [
      "C:\\Users\\chiaw\\AppData\\Local\\Temp\\ipykernel_17088\\860165478.py:13: SettingWithCopyWarning: \n",
      "A value is trying to be set on a copy of a slice from a DataFrame.\n",
      "Try using .loc[row_indexer,col_indexer] = value instead\n",
      "\n",
      "See the caveats in the documentation: https://pandas.pydata.org/pandas-docs/stable/user_guide/indexing.html#returning-a-view-versus-a-copy\n",
      "  Accepted.loc[:,'Counter'] = 1\n",
      "C:\\Users\\chiaw\\AppData\\Local\\Temp\\ipykernel_17088\\860165478.py:14: SettingWithCopyWarning: \n",
      "A value is trying to be set on a copy of a slice from a DataFrame.\n",
      "Try using .loc[row_indexer,col_indexer] = value instead\n",
      "\n",
      "See the caveats in the documentation: https://pandas.pydata.org/pandas-docs/stable/user_guide/indexing.html#returning-a-view-versus-a-copy\n",
      "  Declined.loc[:,'Counter'] = 1\n"
     ]
    }
   ],
   "source": [
    "# Creating the intervals\n",
    "import numpy as np\n",
    "Accepted = data_clean[data_clean['ACCEPTED']==1]\n",
    "Declined = data_clean[data_clean['ACCEPTED']==0]\n",
    "\n",
    "# Set up\n",
    "Intervals = []\n",
    "start = 0\n",
    "for i in range(0, 51):\n",
    "    Intervals.append(start)\n",
    "    start = start + 1\n",
    "\n",
    "Accepted.loc[:,'Counter'] = 1\n",
    "Declined.loc[:,'Counter'] = 1\n",
    "\n",
    "\n",
    "Int_Accepted = Accepted.groupby(pd.cut(Accepted['PAY'], Intervals)).sum()\n",
    "Int_Declined = Declined.groupby(pd.cut(Declined['PAY'], Intervals)).sum()\n"
   ]
  },
  {
   "cell_type": "markdown",
   "metadata": {},
   "source": [
    "Recreating our initial dataframe with our intervals as indexes and grouping PAY values based on these indexes. Additionally, adding an extra column \"% Declined\" which is calculated by: [Number of Declined Rides] * 100 / [Total Rides Requested] within each [PAY] interval."
   ]
  },
  {
   "cell_type": "code",
   "execution_count": 10,
   "metadata": {},
   "outputs": [
    {
     "data": {
      "text/html": [
       "<div>\n",
       "<style scoped>\n",
       "    .dataframe tbody tr th:only-of-type {\n",
       "        vertical-align: middle;\n",
       "    }\n",
       "\n",
       "    .dataframe tbody tr th {\n",
       "        vertical-align: top;\n",
       "    }\n",
       "\n",
       "    .dataframe thead th {\n",
       "        text-align: right;\n",
       "    }\n",
       "</style>\n",
       "<table border=\"1\" class=\"dataframe\">\n",
       "  <thead>\n",
       "    <tr style=\"text-align: right;\">\n",
       "      <th></th>\n",
       "      <th>Accepted</th>\n",
       "      <th>Declined</th>\n",
       "      <th>% Declined</th>\n",
       "    </tr>\n",
       "    <tr>\n",
       "      <th>PAY</th>\n",
       "      <th></th>\n",
       "      <th></th>\n",
       "      <th></th>\n",
       "    </tr>\n",
       "  </thead>\n",
       "  <tbody>\n",
       "    <tr>\n",
       "      <th>(0, 1]</th>\n",
       "      <td>0</td>\n",
       "      <td>3</td>\n",
       "      <td>100.0</td>\n",
       "    </tr>\n",
       "    <tr>\n",
       "      <th>(1, 2]</th>\n",
       "      <td>0</td>\n",
       "      <td>1</td>\n",
       "      <td>100.0</td>\n",
       "    </tr>\n",
       "    <tr>\n",
       "      <th>(2, 3]</th>\n",
       "      <td>0</td>\n",
       "      <td>0</td>\n",
       "      <td>NaN</td>\n",
       "    </tr>\n",
       "    <tr>\n",
       "      <th>(3, 4]</th>\n",
       "      <td>0</td>\n",
       "      <td>3</td>\n",
       "      <td>100.0</td>\n",
       "    </tr>\n",
       "    <tr>\n",
       "      <th>(4, 5]</th>\n",
       "      <td>0</td>\n",
       "      <td>4</td>\n",
       "      <td>100.0</td>\n",
       "    </tr>\n",
       "  </tbody>\n",
       "</table>\n",
       "</div>"
      ],
      "text/plain": [
       "        Accepted  Declined  % Declined\n",
       "PAY                                   \n",
       "(0, 1]         0         3       100.0\n",
       "(1, 2]         0         1       100.0\n",
       "(2, 3]         0         0         NaN\n",
       "(3, 4]         0         3       100.0\n",
       "(4, 5]         0         4       100.0"
      ]
     },
     "execution_count": 10,
     "metadata": {},
     "output_type": "execute_result"
    }
   ],
   "source": [
    "Clean_df = Int_Accepted.drop(['ACCEPTED', 'PAY'], axis=1).rename(columns={\"Counter\":\"Accepted\"})\n",
    "Clean_df['Declined'] = Int_Declined.drop(['ACCEPTED', 'PAY'], axis=1)\n",
    "\n",
    "Clean_df['% Declined'] = round(Clean_df['Declined'] * 100 / (Clean_df['Accepted'] + Clean_df['Declined']), 2)\n",
    "Clean_df.head()"
   ]
  },
  {
   "cell_type": "markdown",
   "metadata": {},
   "source": [
    "We then proceed to visualize the % of Declined rides by each price point."
   ]
  },
  {
   "cell_type": "code",
   "execution_count": 14,
   "metadata": {},
   "outputs": [
    {
     "data": {
      "text/plain": [
       "(array([ 0,  1,  2,  3,  4,  5,  6,  7,  8,  9, 10, 11, 12, 13, 14, 15, 16,\n",
       "        17, 18, 19, 20, 21, 22, 23, 24, 25, 26, 27, 28, 29, 30, 31, 32, 33,\n",
       "        34, 35, 36, 37, 38, 39, 40, 41, 42, 43, 44, 45, 46, 47, 48, 49]),\n",
       " [Text(0, 0, '(0, 1]'),\n",
       "  Text(1, 0, '(1, 2]'),\n",
       "  Text(2, 0, '(2, 3]'),\n",
       "  Text(3, 0, '(3, 4]'),\n",
       "  Text(4, 0, '(4, 5]'),\n",
       "  Text(5, 0, '(5, 6]'),\n",
       "  Text(6, 0, '(6, 7]'),\n",
       "  Text(7, 0, '(7, 8]'),\n",
       "  Text(8, 0, '(8, 9]'),\n",
       "  Text(9, 0, '(9, 10]'),\n",
       "  Text(10, 0, '(10, 11]'),\n",
       "  Text(11, 0, '(11, 12]'),\n",
       "  Text(12, 0, '(12, 13]'),\n",
       "  Text(13, 0, '(13, 14]'),\n",
       "  Text(14, 0, '(14, 15]'),\n",
       "  Text(15, 0, '(15, 16]'),\n",
       "  Text(16, 0, '(16, 17]'),\n",
       "  Text(17, 0, '(17, 18]'),\n",
       "  Text(18, 0, '(18, 19]'),\n",
       "  Text(19, 0, '(19, 20]'),\n",
       "  Text(20, 0, '(20, 21]'),\n",
       "  Text(21, 0, '(21, 22]'),\n",
       "  Text(22, 0, '(22, 23]'),\n",
       "  Text(23, 0, '(23, 24]'),\n",
       "  Text(24, 0, '(24, 25]'),\n",
       "  Text(25, 0, '(25, 26]'),\n",
       "  Text(26, 0, '(26, 27]'),\n",
       "  Text(27, 0, '(27, 28]'),\n",
       "  Text(28, 0, '(28, 29]'),\n",
       "  Text(29, 0, '(29, 30]'),\n",
       "  Text(30, 0, '(30, 31]'),\n",
       "  Text(31, 0, '(31, 32]'),\n",
       "  Text(32, 0, '(32, 33]'),\n",
       "  Text(33, 0, '(33, 34]'),\n",
       "  Text(34, 0, '(34, 35]'),\n",
       "  Text(35, 0, '(35, 36]'),\n",
       "  Text(36, 0, '(36, 37]'),\n",
       "  Text(37, 0, '(37, 38]'),\n",
       "  Text(38, 0, '(38, 39]'),\n",
       "  Text(39, 0, '(39, 40]'),\n",
       "  Text(40, 0, '(40, 41]'),\n",
       "  Text(41, 0, '(41, 42]'),\n",
       "  Text(42, 0, '(42, 43]'),\n",
       "  Text(43, 0, '(43, 44]'),\n",
       "  Text(44, 0, '(44, 45]'),\n",
       "  Text(45, 0, '(45, 46]'),\n",
       "  Text(46, 0, '(46, 47]'),\n",
       "  Text(47, 0, '(47, 48]'),\n",
       "  Text(48, 0, '(48, 49]'),\n",
       "  Text(49, 0, '(49, 50]')])"
      ]
     },
     "execution_count": 14,
     "metadata": {},
     "output_type": "execute_result"
    },
    {
     "data": {
      "image/png": "[encoded data removed]",
      "text/plain": [
       "<Figure size 640x480 with 1 Axes>"
      ]
     },
     "metadata": {},
     "output_type": "display_data"
    }
   ],
   "source": [
    "# Quick Visualization of likelyhood of rejection\n",
    "ax = sns.barplot(x=Clean_df.index, y=Clean_df['% Declined'])\n",
    "sns.despine(top=True, right=True)\n",
    "plt.tick_params(axis='both', which='major', labelsize=5)\n",
    "plt.xticks(rotation = -45)\n",
    "\n"
   ]
  },
  {
   "cell_type": "markdown",
   "metadata": {},
   "source": [
    "As expected there is a reduction in the % of declined rides as we increase the pay offered to drivers. However, even with a low sensitivity (1$ intervals) we dont have enough data to plot a smooth transition between intervals. As we can see, there is noticeable sudden \"jumps\" within the (31, 32] and (37,38] intervals mostlikely caused by our low number of samples."
   ]
  },
  {
   "cell_type": "markdown",
   "metadata": {},
   "source": [
    "**Data Generation**"
   ]
  },
  {
   "cell_type": "markdown",
   "metadata": {},
   "source": [
    "Given that both Decline and Accepted ride request both exhibit a Gaussian/Normal distribution we are able to generate further data points based on the characteristics (mean and standard deviation) of their respective distributions. We will therefore recreate these distributions with a sample size of 100.000.000 data points which will enable us to generate a more accurate estimate of which rides were accepted/declined for every driver offer range."
   ]
  },
  {
   "cell_type": "code",
   "execution_count": 31,
   "metadata": {},
   "outputs": [],
   "source": [
    "from numpy.random import normal\n",
    "\n",
    "# Declined Data Generation\n",
    "mean_d = data_clean[data_clean['ACCEPTED']==0]['PAY'].mean()\n",
    "std_d = data_clean[data_clean['ACCEPTED']==0]['PAY'].std()\n",
    "Dec_Pay = normal(loc=mean_d, scale=std_d, size=100000000)\n",
    "\n",
    "# Accepted Data Generation\n",
    "mean_a = data_clean[data_clean['ACCEPTED']==1]['PAY'].mean()\n",
    "std_a = data_clean[data_clean['ACCEPTED']==1]['PAY'].std()\n",
    "Ac_Pay = normal(loc=mean_a, scale=std_a, size=100000000)\n"
   ]
  },
  {
   "cell_type": "code",
   "execution_count": 35,
   "metadata": {},
   "outputs": [
    {
     "name": "stderr",
     "output_type": "stream",
     "text": [
      "C:\\Users\\chiaw\\AppData\\Local\\Temp\\ipykernel_17088\\875594420.py:6: MatplotlibDeprecationWarning: Auto-removal of overlapping axes is deprecated since 3.6 and will be removed two minor releases later; explicitly call ax.remove() as needed.\n",
      "  ax2 = plt.subplot(212, sharex = ax1, sharey = ax1)\n"
     ]
    },
    {
     "data": {
      "image/png": "[encoded data removed]",
      "text/plain": [
       "<Figure size 640x480 with 2 Axes>"
      ]
     },
     "metadata": {},
     "output_type": "display_data"
    }
   ],
   "source": [
    "import matplotlib.pyplot as plt\n",
    "\n",
    "fig = plt.figure()\n",
    "ax = fig.add_subplot(111)   \n",
    "ax1 = fig.add_subplot(211)\n",
    "ax2 = plt.subplot(212, sharex = ax1, sharey = ax1)\n",
    "\n",
    "ax.spines['top'].set_color('none')\n",
    "ax.spines['bottom'].set_color('none')\n",
    "ax.spines['left'].set_color('none')\n",
    "ax.spines['right'].set_color('none')\n",
    "ax.tick_params(labelcolor='w', top=False, bottom=False, left=False, right=False)\n",
    "\n",
    "# Declined\n",
    "sns.histplot(data=Dec_Pay, ax=ax1)\n",
    "\n",
    "ax1.spines['top'].set_color('none')\n",
    "ax1.spines['right'].set_color('none')\n",
    "ax1.set_xlim(0,60)\n",
    "\n",
    "# Accepted\n",
    "sns.histplot(data=Ac_Pay, ax=ax2)\n",
    "\n",
    "ax2.spines['top'].set_color('none')\n",
    "ax2.spines['right'].set_color('none')\n",
    "\n",
    "# Common Title\n",
    "ax.set_xlabel('100 Million Data Points')\n",
    "\n",
    "# Subplot Titles\n",
    "ax1.set_title('Declined', fontsize=10)\n",
    "ax2.set_title('Accepted', fontsize=10)\n",
    "ax2.set_xlabel('Driver Pay')\n",
    "\n",
    "plt.subplots_adjust(hspace=0.4)"
   ]
  },
  {
   "cell_type": "markdown",
   "metadata": {},
   "source": [
    "We can see in the above plots that the extreme values on the left side of out new Declined data set go beyond the 0 PAY point. Since we are not interested in unrealistic values we proceed to get rid of them:"
   ]
  },
  {
   "cell_type": "code",
   "execution_count": 39,
   "metadata": {},
   "outputs": [
    {
     "name": "stdout",
     "output_type": "stream",
     "text": [
      "Our sample size of accepted rides is now equal 99999639\n",
      "Our sample size of declined rides is now equal 99477697\n"
     ]
    }
   ],
   "source": [
    "# Getting rid of values under 0\n",
    "Ac_Pay = Ac_Pay[Ac_Pay >= 0]\n",
    "len(Ac_Pay)\n",
    "Dec_Pay = Dec_Pay[Dec_Pay >= 0]\n",
    "len(Dec_Pay)\n",
    "print(\"Our sample size of accepted rides is now equal \" + str(len(Ac_Pay)))\n",
    "print(\"Our sample size of declined rides is now equal \" + str(len(Dec_Pay)))\n"
   ]
  },
  {
   "cell_type": "markdown",
   "metadata": {},
   "source": [
    "The datramatic increase in sample size will enable us to both increase our precision in [% Decline] estimates and decrease our [PAY] intervals, effectively increasing our sensitivity. <br/>\n",
    "We once again proceed to group our newly generated data into intervals. This time with 0.01 $ sizes. "
   ]
  },
  {
   "cell_type": "code",
   "execution_count": 40,
   "metadata": {},
   "outputs": [],
   "source": [
    "# Grouping Accepted/Declined data in 0.01 width intervals\n",
    "Max = int(round(Ac_Pay.max(), 0))\n",
    "Min = int(round(Dec_Pay.min(), 0))\n",
    "# Creating intervals with 0.01 width\n",
    "Intervals = []\n",
    "start = 0\n",
    "for i in range(Min, Max*100):                          \n",
    "    Intervals.append(start)\n",
    "    start = start + 0.01\n",
    "Intervals = np.round(Intervals[:], 2)\n",
    "\n",
    "\n",
    "Accepted = pd.DataFrame(Ac_Pay)\n",
    "Declined = pd.DataFrame(Dec_Pay)\n",
    "\n",
    "Accepted.rename(columns={0:'PAY'}, inplace=True)\n",
    "Declined.rename(columns={0:'PAY'}, inplace=True)\n",
    "\n",
    "Accepted.loc[:,'Counter'] = 1\n",
    "Declined.loc[:,'Counter'] = 1\n",
    "\n",
    "C_Accepted = Accepted.groupby(pd.cut(Accepted['PAY'], Intervals)).sum()\n",
    "C_Declined = Declined.groupby(pd.cut(Declined['PAY'], Intervals)).sum()\n"
   ]
  },
  {
   "cell_type": "code",
   "execution_count": 41,
   "metadata": {},
   "outputs": [
    {
     "ename": "AttributeError",
     "evalue": "module 'matplotlib.pyplot' has no attribute 'spines'",
     "output_type": "error",
     "traceback": [
      "\u001b[1;31m---------------------------------------------------------------------------\u001b[0m",
      "\u001b[1;31mAttributeError\u001b[0m                            Traceback (most recent call last)",
      "Cell \u001b[1;32mIn [41], line 12\u001b[0m\n\u001b[0;32m      7\u001b[0m \u001b[39m#Percent_df = Percent_df.dropna()\u001b[39;00m\n\u001b[0;32m     11\u001b[0m plt\u001b[39m.\u001b[39mbar(Intervals[\u001b[39m1\u001b[39m:], Percent_df[\u001b[39m'\u001b[39m\u001b[39m%\u001b[39m\u001b[39m Declined\u001b[39m\u001b[39m'\u001b[39m][\u001b[39m0\u001b[39m:])\n\u001b[1;32m---> 12\u001b[0m plt\u001b[39m.\u001b[39;49mspines[\u001b[39m'\u001b[39m\u001b[39mtop\u001b[39m\u001b[39m'\u001b[39m]\u001b[39m.\u001b[39mset_color(\u001b[39m'\u001b[39m\u001b[39mnone\u001b[39m\u001b[39m'\u001b[39m)\n\u001b[0;32m     13\u001b[0m plt\u001b[39m.\u001b[39mspines[\u001b[39m'\u001b[39m\u001b[39mright\u001b[39m\u001b[39m'\u001b[39m]\u001b[39m.\u001b[39mset_color(\u001b[39m'\u001b[39m\u001b[39mnone\u001b[39m\u001b[39m'\u001b[39m)\n",
      "\u001b[1;31mAttributeError\u001b[0m: module 'matplotlib.pyplot' has no attribute 'spines'"
     ]
    },
    {
     "data": {
      "image/png": "[encoded data removed]",
      "text/plain": [
       "<Figure size 640x480 with 1 Axes>"
      ]
     },
     "metadata": {},
     "output_type": "display_data"
    }
   ],
   "source": [
    "# Recreating our dataframe of interest \n",
    "Percent_df = C_Accepted.drop('PAY', axis=1).rename(columns={\"Counter\":\"Accepted\"})\n",
    "Percent_df['Declined'] = C_Declined['Counter']\n",
    "\n",
    "# Defining our [% Declined] column \n",
    "Percent_df['% Declined'] = round(Percent_df['Declined'] * 100 / (Percent_df['Accepted'] + Percent_df['Declined']), 2)\n",
    "#Percent_df = Percent_df.dropna()\n",
    "\n",
    "\n",
    "\n",
    "plt.bar(Intervals[1:], Percent_df['% Declined'][0:])\n",
    "plt.gca().spines['top'].set_color('none')\n",
    "plt.gca().spines['right'].set_color('none')\n",
    "\n",
    "# Our result is an inverse sigmoid function as shown below"
   ]
  },
  {
   "cell_type": "markdown",
   "metadata": {},
   "source": [
    "As seen above, our resulting [% Decline] describes an inverse sigmoid distribution. We can also appreciate some deviance from this distribution at the right tail end. This should be revised. However, since the 30$ marks our break even point it will be irrelevant for our specific case and therefore will be ignored going forward."
   ]
  },
  {
   "cell_type": "markdown",
   "metadata": {},
   "source": [
    "# Fixed Price Strategy"
   ]
  },
  {
   "cell_type": "markdown",
   "metadata": {},
   "source": [
    "**Rejection function**"
   ]
  },
  {
   "cell_type": "markdown",
   "metadata": {},
   "source": [
    "Now that we have our data cleaned and expanded we can proceed to our next step, creating functions that will optimize our profits given our problem restrictions. "
   ]
  },
  {
   "cell_type": "code",
   "execution_count": 783,
   "metadata": {},
   "outputs": [],
   "source": [
    "# This function will result in a float which when multipled by the amount\n",
    "# of Ride Requests will output the total number of REJECTED Ride Requests\n",
    "# given the parameter X which is the amount paid to the DRIVER\n",
    "def Rejection_Rate(x):\n",
    "    Percent = Percent_df.loc[x]['% Declined']/100\n",
    "    return Percent"
   ]
  },
  {
   "cell_type": "code",
   "execution_count": 784,
   "metadata": {},
   "outputs": [],
   "source": [
    "# This function will result in a float which when multipled by the amount\n",
    "# of Ride Requests will output the total number of ACCEPTED Ride Requests\n",
    "# given the parameter X which is the amount paid to the DRIVER\n",
    "def Acceptance_Rate(x):\n",
    "    Percent = 1 - Percent_df.loc[x]['% Declined']/100\n",
    "    return Percent"
   ]
  },
  {
   "cell_type": "code",
   "execution_count": 786,
   "metadata": {},
   "outputs": [
    {
     "data": {
      "text/plain": [
       "22.52"
      ]
     },
     "execution_count": 786,
     "metadata": {},
     "output_type": "execute_result"
    }
   ],
   "source": [
    "# Example: \n",
    "# Number of rejections given 100 requests if we offered 30$ to the DRIVERS\n",
    "100 * Rejection_Rate(30)"
   ]
  },
  {
   "cell_type": "markdown",
   "metadata": {},
   "source": [
    "Bellow we describe in detail the contents of our main function [Profit] defined further bellow:\n",
    "\n",
    "* The function accepts 1 input function (x) = Price offered to drivers\n",
    "\n",
    "\n",
    "* There are 3 initial parameters preestablished by our particular problem a list and a counter:\n",
    "1) Initial Value of Lambda: 1\n",
    "2) Initial Rider Population: 1.000\n",
    "3) Maximun Number of Possible Riders: 10.000\n",
    "4) Exhausted Riders is a counter which must be bellow 10.000 in order for the function to continue\n",
    "5) Profit is where the profit made by each itteration is saved\n",
    "\n",
    "* It is itterated 12 times, one for every month.\n",
    "\n",
    "\n",
    "* The function logic is as follows:\n",
    "1) We establish our main restriction: If the total amount of Exhausted Riders (riders which have exited the App due one of the possibilities given by our problem) is greater than the total pool of riders [Max_Riders], then the function is halted.\n",
    "\n",
    "2) Our first FOR loop calculates the distribution of [Riders] per [Number of Request] given the Lambda value and the number of riders per previous Lambda value. We then obtain two lists: Total_LambDist which is our total distribution of requests per individual, and Unique_Values which is a collection of unique values within our distribution.\n",
    "\n",
    "\n",
    "3) Our second FOR loop organizes our previous distribution into a list NRi_NRe (Number of Riders per Number of Rides). This list contains the sum of riders per number of requests. <br/>\n",
    "\n",
    "        For example:\n",
    "\n",
    "        NRi_NRe = [300, 200, 100, 50, 10, 1]\n",
    "        Unique_Values = [0, 1, 2, 3, 4, 6]\n",
    "\n",
    "        300 Riders have requested 0 Rides\n",
    "        200 Riders have requested 1 Ride\n",
    "        100 Riders have requested 2 Rides\n",
    "        50  Riders have requested 3 Rides\n",
    "        10  Riders have Requested 4 Rides\n",
    "        1   Rider  has  Requested 6 Rides\n",
    "\n",
    "4) Our third FOR loop calculates the [Attrition] rate per NRi_NRe element. Attrition is determined by our problem, which states that a Rider will leave the service IF he does not use it (0 Rides taken) or all of his rides have been declined. This is done by multiplying every element within NRi_NRe by our previously described Rejection_Rate function to the power of its associated Unique_Value. <br/>\n",
    "\n",
    "        For example: \n",
    "\n",
    "        Attrition[0] = 300 * 0.22^0 = 300 \n",
    "        Attrition[1] = 200 * 0.22^1 =  44 \n",
    "        Attrition[2] = 100 * 0.22^2 =   9 \n",
    "        Attrition[3] =  50 * 0.22^3 =   2 \n",
    "        Attrition[4] =  10 * 0.22^4 =   0.47 \n",
    "        Attrition[5] =   1 * 0.22^6 =   0.02 \n",
    "\n",
    "5) We proceed to calculate our profit for that month given our input X and append it to our Profit list.             \n",
    "        Total Distribution of Rides * Acceptance Rate = Number of Accepted Rides\n",
    "\n",
    "        Number of Accepted Rides * 30 = Earnings\n",
    "        Number of Accepted Rides * X = Cost\n",
    "\n",
    "        Profit = Earnings - Cost       \n",
    "\n",
    "6) We set up the variables for our next interration\n",
    "        Number of Riders for our next month =\n",
    "        NRi_NRe - Attrition = Riders with atleast 1 accepted ride.\n"
   ]
  },
  {
   "cell_type": "code",
   "execution_count": 678,
   "metadata": {},
   "outputs": [
    {
     "data": {
      "text/plain": [
       "[1994.9669999999996,\n",
       " 2724.9299999999994,\n",
       " 3112.784999999999,\n",
       " 3456.8819999999996,\n",
       " 3506.606999999999,\n",
       " 3518.5409999999993,\n",
       " 3584.177999999999,\n",
       " 3735.3419999999996,\n",
       " 3751.254,\n",
       " 3777.111,\n",
       " 3936.230999999999]"
      ]
     },
     "execution_count": 678,
     "metadata": {},
     "output_type": "execute_result"
    }
   ],
   "source": [
    "import numpy as np\n",
    "from scipy.stats import poisson\n",
    "import itertools\n",
    "\n",
    "# Initial Parameter\n",
    "x = 20                                                                               # Example of amount payed to drivers\n",
    "lamb = [1]                                                                           # Initial lambda value for our poisson distributions\n",
    "Ri_Retention = [1000]                                                                # Initial number of riders for first month\n",
    "Max_Riders = 10000                                                                   # Max. number of possible customers\n",
    "\n",
    "Exhausted_Riders = 0                                                                 # Exhausted Rider counter set at 0\n",
    "Profit = []                                                                          # Profit per itteration (month)\n",
    "\n",
    "# Poisson Distribution of every previous Lambda\n",
    "for month in range(0, 12):\n",
    "\n",
    "# Halting if Riders are exhausted\n",
    "    if Max_Riders <= Exhausted_Riders:\n",
    "        break\n",
    "\n",
    "    Total_LambDist = []                                                                  # List of lists containing all the distributions of each given lambda\n",
    "    for ele in range(0, len(lamb)):\n",
    "        Total_LambDist.append(poisson.rvs(mu=lamb[ele], size=int(round(Ri_Retention[ele],0))))\n",
    "\n",
    "    Total_LambDist = [item for sublist in Total_LambDist for item in sublist]            # Our complete new distribution\n",
    "    Unique_Values = list(set(Total_LambDist))                                            # Unique Number of Requests (0 Requests, 1 Request, 2 Requests...) \n",
    "\n",
    "# Number of Riders per Number of Requests\n",
    "    NRi_NRe = []                                                                         # Initializing list which will contain the amount of riders per number of requests\n",
    "    for i in range(0, len(Unique_Values)):                                               # Declaring for loop to iterate over every element of our Unique Values\n",
    "        NRi_NRe.append(np.count_nonzero(Total_LambDist == Unique_Values[i]))             # Appending total amount of every unique number of requests\n",
    "\n",
    "# Attrition Rate per Number of RidersxNumber of Requests\n",
    "    Attrition = []                                                                       # Initializing a second list which will contain NRi_NRe(ele)*Rejection_Rate^Number of request\n",
    "    for u in range(0, len(NRi_NRe)):                                                     # Declaring for loop to iterate over every element of total amount of unique requests\n",
    "        Attrition.append(NRi_NRe[u]*Rejection_Rate(x)**Unique_Values[u])                 # Appending attrition rate defined as total amount of unique requests * rejection rate^number of requests performed\n",
    "\n",
    "# Calculating benefit\n",
    "    Earning = 30 * sum(Total_LambDist)*Acceptance_Rate(x)                # Total earnings per itteration\n",
    "    Cost = x * sum(Total_LambDist)*Acceptance_Rate(x)                    # Total cost per itteration\n",
    "    Benefit = Earning - Cost                                             # Total benefits per itteration\n",
    "    Profit.append(Benefit)\n",
    "\n",
    "# Setting up variables for next loop\n",
    "    Ri_Retention = np.subtract(NRi_NRe, Attrition)[1:]                   # New Ri_Retention values\n",
    "    Ri_Retention[0] = Ri_Retention[0] + 1000                             # New Riders Added\n",
    "    lamb = Unique_Values[1:]                                             # New lambda values\n",
    "    Exhausted_Riders = Exhausted_Riders + sum(Attrition)                 # New Exhausted Riders\n",
    "Profit\n",
    "\n",
    "\n",
    "\n"
   ]
  },
  {
   "cell_type": "code",
   "execution_count": 729,
   "metadata": {},
   "outputs": [],
   "source": [
    "# Function which calculates number of accepted rides per lambda\n",
    "def riders_lambda(Unique_Values, NRi_NRe):\n",
    "    import itertools\n",
    "    Lambda_Values = Unique_Values[1:]\n",
    "    NRi_NRe_Values = NRi_NRe[1:] \n",
    "\n",
    "    Probability = []\n",
    "\n",
    "    for i in range(0, len(NRi_NRe_Values)):\n",
    "        Inner_List = []\n",
    "        Exp = Lambda_Values[i]\n",
    "        for e in range(1, 1+Exp):\n",
    "            Inner_List.append(NRi_NRe_Values[i]*Acceptance_Rate(x)**e)\n",
    "        for u in range(0, len(Inner_List)-1):\n",
    "              Inner_List[u] = Inner_List[u] - Inner_List[u+1]\n",
    "        Probability.append(Inner_List)\n",
    "\n",
    "    Rider_Lamb = [round(sum(i),0) for i in itertools.zip_longest(*Probability, fillvalue=0)]\n",
    "    return Rider_Lamb\n"
   ]
  },
  {
   "cell_type": "code",
   "execution_count": null,
   "metadata": {},
   "outputs": [],
   "source": [
    "Probability"
   ]
  },
  {
   "cell_type": "code",
   "execution_count": 505,
   "metadata": {},
   "outputs": [],
   "source": [
    "Rider_Lamb = [round(sum(i),0) for i in itertools.zip_longest(*Probability, fillvalue=0)]"
   ]
  },
  {
   "cell_type": "code",
   "execution_count": null,
   "metadata": {},
   "outputs": [],
   "source": [
    "Rider_Lamb"
   ]
  },
  {
   "cell_type": "code",
   "execution_count": 730,
   "metadata": {},
   "outputs": [],
   "source": [
    "def Earnings(Rider_Lamb):\n",
    "    Earn = []\n",
    "    for i in Rider_Lamb:\n",
    "        Earn.append(i * (Rider_Lamb.index(i) + 1) * 30)\n",
    "    Earn = sum(Earn)\n",
    "    return Earn"
   ]
  },
  {
   "cell_type": "code",
   "execution_count": 731,
   "metadata": {},
   "outputs": [],
   "source": [
    "def Spent(Rider_Lamb):\n",
    "    Spen = []\n",
    "    for i in Rider_Lamb:\n",
    "        Spen.append(i * (Rider_Lamb.index(i) + 1) * x)\n",
    "    Spen = sum(Spen)\n",
    "    return Spen"
   ]
  },
  {
   "cell_type": "code",
   "execution_count": 787,
   "metadata": {},
   "outputs": [
    {
     "name": "stdout",
     "output_type": "stream",
     "text": [
      "[1450.0]\n",
      "[1450.0, 1620.0]\n",
      "[1450.0, 1620.0, 1630.0]\n",
      "[1450.0, 1620.0, 1630.0, 1610.0]\n",
      "[1450.0, 1620.0, 1630.0, 1610.0, 1590.0]\n",
      "[1450.0, 1620.0, 1630.0, 1610.0, 1590.0, 1600.0]\n",
      "[1450.0, 1620.0, 1630.0, 1610.0, 1590.0, 1600.0, 1580.0]\n",
      "[1450.0, 1620.0, 1630.0, 1610.0, 1590.0, 1600.0, 1580.0, 1630.0]\n",
      "[1450.0, 1620.0, 1630.0, 1610.0, 1590.0, 1600.0, 1580.0, 1630.0, 1610.0]\n",
      "[1450.0, 1620.0, 1630.0, 1610.0, 1590.0, 1600.0, 1580.0, 1630.0, 1610.0, 1600.0]\n",
      "[1450.0, 1620.0, 1630.0, 1610.0, 1590.0, 1600.0, 1580.0, 1630.0, 1610.0, 1600.0, 1630.0]\n",
      "17550.0\n"
     ]
    }
   ],
   "source": [
    "import numpy as np\n",
    "from scipy.stats import poisson\n",
    "import itertools\n",
    "\n",
    "# Initial Parameter\n",
    "x = 20                                                                               # Example of amount payed to drivers\n",
    "lamb = [1]                                                                           # Initial lambda value for our poisson distributions\n",
    "Ri_Retention = [1000]                                                                # Initial number of riders for first month\n",
    "Max_Riders = 10000                                                                   # Max. number of possible customers\n",
    "\n",
    "Exhausted_Riders = 0                                                                 # Exhausted Rider counter set at 0\n",
    "Profit = []                                                                          # Profit per itteration (month)\n",
    "\n",
    "# Poisson Distribution of every previous Lambda\n",
    "for month in range(0, 12):\n",
    "\n",
    "# Halting if Riders are exhausted\n",
    "    if Max_Riders <= Exhausted_Riders:\n",
    "        break\n",
    "\n",
    "    Total_LambDist = []                                                                  # List of lists containing all the distributions of each given lambda\n",
    "    for ele in range(0, len(lamb)):\n",
    "        Total_LambDist.append(poisson.rvs(mu=lamb[ele], size=int(round(Ri_Retention[ele],0))))\n",
    "\n",
    "    Total_LambDist = [item for sublist in Total_LambDist for item in sublist]            # Our complete new distribution\n",
    "    Unique_Values = list(set(Total_LambDist))                                            # Unique Number of Requests (0 Requests, 1 Request, 2 Requests...) \n",
    "\n",
    "# Number of Riders per Number of Requests\n",
    "    NRi_NRe = []                                                                         # Initializing list which will contain the amount of riders per number of requests\n",
    "    for i in range(0, len(Unique_Values)):                                               # Declaring for loop to iterate over every element of our Unique Values\n",
    "        NRi_NRe.append(np.count_nonzero(Total_LambDist == Unique_Values[i]))             # Appending total amount of every unique number of requests\n",
    "\n",
    "# We calculate the number of riders per lambda\n",
    "    Rider_Lamb_1 = riders_lambda(Unique_Values, NRi_NRe)\n",
    "    Rider_Lamb = Rider_Lamb_1\n",
    "    Rider_Lamb = [i for i in Rider_Lamb if i != 0]\n",
    "# We calculate profits    \n",
    "    Earn = Earnings(Rider_Lamb)\n",
    "    Spen = Spent(Rider_Lamb)\n",
    "    Profit.append(Earn - Spen)\n",
    "\n",
    "# We calculate our new parametters (Rider_Retention, New Lambdas and Exhausted Riders)\n",
    "    Attrition = sum(Ri_Retention) - sum(Rider_Lamb)\n",
    "    \n",
    "    Ri_Retention = Rider_Lamb\n",
    "    if  len(Ri_Retention) == 0:\n",
    "        Ri_Retention = [0]\n",
    "    Ri_Retention[0] = Ri_Retention[0] + 1000\n",
    "\n",
    "    lamb = list(range(1, len(Rider_Lamb)+1))\n",
    "\n",
    "    Exhausted_Riders = Exhausted_Riders + Attrition                 # New Exhausted Riders\n",
    "    print(Profit)\n",
    "print(sum(Profit))\n",
    "    \n"
   ]
  },
  {
   "cell_type": "markdown",
   "metadata": {},
   "source": [
    "After some exploration it is expected that the Attrition rate given current restrictions is so high that we exhaust our pool of 10.000 riders before the 12th month mark. "
   ]
  },
  {
   "cell_type": "markdown",
   "metadata": {},
   "source": [
    "-------------------------\n",
    "-----------------------\n",
    "----------------------\n",
    "\n",
    "---------------------\n",
    "\n",
    "------------------------\n",
    "\n",
    "\n",
    "---------------------"
   ]
  },
  {
   "cell_type": "code",
   "execution_count": 559,
   "metadata": {},
   "outputs": [],
   "source": [
    "# Creating a function based on the previously described loop\n",
    "def profit(x):\n",
    "\n",
    "    import numpy as np\n",
    "    from scipy.stats import poisson\n",
    "    import itertools\n",
    "\n",
    "    # Initial Parameters\n",
    "    lamb = [1]                                                                           \n",
    "    Ri_Retention = [1000]                                                                \n",
    "    Max_Riders = 10000                                                                   \n",
    "\n",
    "    Exhausted_Riders = 0                                                                 \n",
    "    Profit = []                                                                          \n",
    "\n",
    "    # Poisson Distribution of every previous Lambda\n",
    "    for month in range(0, 12):\n",
    "\n",
    "    # Halting if Riders are exhausted\n",
    "        if Max_Riders <= Exhausted_Riders:\n",
    "            break\n",
    "\n",
    "        Total_LambDist = []                                                                  \n",
    "        for ele in range(0, len(lamb)):\n",
    "            Total_LambDist.append(poisson.rvs(mu=lamb[ele], size=int(round(Ri_Retention[ele],0))))\n",
    "\n",
    "        Total_LambDist = [item for sublist in Total_LambDist for item in sublist]            \n",
    "        Unique_Values = list(set(Total_LambDist))                                             \n",
    "\n",
    "    # Number of Riders per Number of Requests\n",
    "        NRi_NRe = []                                                                         \n",
    "        for i in range(0, len(Unique_Values)):                                               \n",
    "            NRi_NRe.append(np.count_nonzero(Total_LambDist == Unique_Values[i]))             \n",
    "\n",
    "    # Attrition Rate per Number of RidersxNumber of Requests\n",
    "        Attrition = []                                                       \n",
    "        for u in range(0, len(NRi_NRe)):                                          \n",
    "            Attrition.append(NRi_NRe[u]*Rejection_Rate(x)**Unique_Values[u])      \n",
    "\n",
    "    # Calculating benefit\n",
    "        Earning = 30 * sum(Total_LambDist)*Acceptance_Rate(x)                \n",
    "        Cost = x * sum(Total_LambDist)*Acceptance_Rate(x)                    \n",
    "        Benefit = Earning - Cost                                             \n",
    "        Profit.append(Benefit)\n",
    "\n",
    "    # Setting up variables for next loop\n",
    "        Ri_Retention = np.subtract(NRi_NRe, Attrition)[1:]                   \n",
    "        Ri_Retention[0] = Ri_Retention[0] + 1000                             \n",
    "        lamb = Unique_Values[1:]                                             \n",
    "        Exhausted_Riders = Exhausted_Riders + sum(Attrition)                \n",
    "    return sum(Profit)\n",
    "\n",
    "\n"
   ]
  },
  {
   "cell_type": "code",
   "execution_count": 788,
   "metadata": {},
   "outputs": [],
   "source": [
    "# Creating a function based on the previously described loop\n",
    "def profit(x):\n",
    "\n",
    "    import numpy as np\n",
    "    from scipy.stats import poisson\n",
    "    import itertools\n",
    "\n",
    "    # Initial Parameters\n",
    "    lamb = [1]                                                                           # Initial lambda value for our poisson distributions\n",
    "    Ri_Retention = [1000]                                                                # Initial number of riders for first month\n",
    "    Max_Riders = 10000                                                                   # Max. number of possible customers\n",
    "\n",
    "    Exhausted_Riders = 0                                                                 # Exhausted Rider counter set at 0\n",
    "    Profit = []                                                                          # Profit per itteration (month)\n",
    "\n",
    "    # Poisson Distribution of every previous Lambda\n",
    "    for month in range(0, 12):\n",
    "\n",
    "    # Halting if Riders are exhausted\n",
    "        if Max_Riders <= Exhausted_Riders:\n",
    "            break\n",
    "\n",
    "        Total_LambDist = []                                                                  # List of lists containing all the distributions of each given lambda\n",
    "        for ele in range(0, len(lamb)):\n",
    "            Total_LambDist.append(poisson.rvs(mu=lamb[ele], size=int(round(Ri_Retention[ele],0))))\n",
    "\n",
    "        Total_LambDist = [item for sublist in Total_LambDist for item in sublist]            # Our complete new distribution\n",
    "        Unique_Values = list(set(Total_LambDist))                                            # Unique Number of Requests (0 Requests, 1 Request, 2 Requests...) \n",
    "\n",
    "    # Number of Riders per Number of Requests\n",
    "        NRi_NRe = []                                                                         # Initializing list which will contain the amount of riders per number of requests\n",
    "        for i in range(0, len(Unique_Values)):                                               # Declaring for loop to iterate over every element of our Unique Values\n",
    "            NRi_NRe.append(np.count_nonzero(Total_LambDist == Unique_Values[i]))             # Appending total amount of every unique number of requests\n",
    "\n",
    "    # We calculate the number of riders per lambda\n",
    "            Lambda_Values = Unique_Values[1:]\n",
    "            NRi_NRe_Values = NRi_NRe[1:] \n",
    "\n",
    "            Probability = []\n",
    "\n",
    "            for i in range(0, len(NRi_NRe_Values)):\n",
    "                Inner_List = []\n",
    "                Exp = Lambda_Values[i]\n",
    "                for e in range(1, 1+Exp):\n",
    "                    Inner_List.append(NRi_NRe_Values[i]*Acceptance_Rate(x)**e)\n",
    "                for u in range(0, len(Inner_List)-1):\n",
    "                    Inner_List[u] = Inner_List[u] - Inner_List[u+1]\n",
    "                Probability.append(Inner_List)\n",
    "\n",
    "        Rider_Lamb = [round(sum(i),0) for i in itertools.zip_longest(*Probability, fillvalue=0)]\n",
    "\n",
    "        Rider_Lamb = [i for i in Rider_Lamb if i != 0]\n",
    "    # We calculate profits\n",
    "        # Earings\n",
    "        Earn = []\n",
    "        for i in Rider_Lamb:\n",
    "            Earn.append(i * (Rider_Lamb.index(i) + 1) * 30)\n",
    "        Earn = sum(Earn)\n",
    "\n",
    "        #Spending\n",
    "        Spen = []\n",
    "        for i in Rider_Lamb:\n",
    "            Spen.append(i * (Rider_Lamb.index(i) + 1) * x)\n",
    "        Spen = sum(Spen)\n",
    "\n",
    "        #Profit\n",
    "        Profit.append(Earn - Spen)\n",
    "\n",
    "    # We calculate our new parametters (Rider_Retention, New Lambdas and Exhausted Riders)\n",
    "        Attrition = sum(Ri_Retention) - sum(Rider_Lamb)\n",
    "    \n",
    "        Ri_Retention = Rider_Lamb\n",
    "        if  len(Ri_Retention) == 0:\n",
    "            Ri_Retention = [0] \n",
    "        Ri_Retention[0] = Ri_Retention[0] + 1000\n",
    "\n",
    "        lamb = list(range(1, len(Rider_Lamb)+1))\n",
    "\n",
    "        Exhausted_Riders = Exhausted_Riders + Attrition                 # New Exhausted Riders\n",
    "    return sum(Profit)\n",
    "\n",
    "\n"
   ]
  },
  {
   "cell_type": "markdown",
   "metadata": {},
   "source": [
    "Now that we have our fuction defined we can itterate over all our interval values of interest ([0.01, 30.00]) in order to observe the distribution of proffits across price ranges."
   ]
  },
  {
   "cell_type": "code",
   "execution_count": 789,
   "metadata": {},
   "outputs": [
    {
     "name": "stderr",
     "output_type": "stream",
     "text": [
      "100%|██████████| 3000/3000 [07:37<00:00,  6.56it/s]\n"
     ]
    }
   ],
   "source": [
    "from tqdm import tqdm\n",
    "# Itterating our function over every price interval\n",
    "List_Profit = []\n",
    "\n",
    "# We can limit the itterations from 0 up until 30 since its the break-even point\n",
    "for i in tqdm(Intervals[np.where(Intervals == 0.01)[0][0]:np.where(Intervals == 30.01)[0][0]]):\n",
    "    List_Profit.append(profit(i))\n",
    "\n",
    "\n"
   ]
  },
  {
   "cell_type": "code",
   "execution_count": 803,
   "metadata": {},
   "outputs": [
    {
     "data": {
      "text/plain": [
       "<BarContainer object of 3000 artists>"
      ]
     },
     "execution_count": 803,
     "metadata": {},
     "output_type": "execute_result"
    },
    {
     "data": {
      "image/png": "[encoded data removed]",
      "text/plain": [
       "<Figure size 640x480 with 1 Axes>"
      ]
     },
     "metadata": {},
     "output_type": "display_data"
    }
   ],
   "source": [
    "Profit_df = pd.DataFrame(List_Profit)\n",
    "Profit_df = Profit_df.set_index([Intervals[1:3001]])\n",
    "Profit_df.columns = ['Profit']\n",
    "\n",
    "\n",
    "plt.bar(Intervals[1:3001], Profit_df['Profit'])"
   ]
  },
  {
   "cell_type": "code",
   "execution_count": 791,
   "metadata": {},
   "outputs": [
    {
     "data": {
      "text/plain": [
       "<AxesSubplot: ylabel='Profit'>"
      ]
     },
     "execution_count": 791,
     "metadata": {},
     "output_type": "execute_result"
    },
    {
     "data": {
      "image/png": "[encoded data removed]",
      "text/plain": [
       "<Figure size 640x480 with 1 Axes>"
      ]
     },
     "metadata": {},
     "output_type": "display_data"
    }
   ],
   "source": [
    "sns.barplot(x=Profit_df.index, y=Profit_df['Profit'])"
   ]
  },
  {
   "cell_type": "markdown",
   "metadata": {},
   "source": [
    "Both figures shown above show the same distribution. They seem to represent a log normal distribution. However, this is taken from just one sample per interval. We could further itterate throughout the whole range of intervals but since we are only interested in maximizing our profits we can set a cut of point of above 100.000$, get the min and max intervals that satisfy this condition and itterate over this smaller sample, saving computing time.\n"
   ]
  },
  {
   "cell_type": "code",
   "execution_count": 801,
   "metadata": {},
   "outputs": [
    {
     "name": "stdout",
     "output_type": "stream",
     "text": [
      "Minimun Interval: 23.48\n",
      "Maximun Interval: 27.33\n"
     ]
    }
   ],
   "source": [
    "Min_Interval = Profit_df[Profit_df['Profit']>=27500].index.min()\n",
    "Max_Interval = Profit_df[Profit_df['Profit']>=27500].index.max()\n",
    "print(\"Minimun Interval: \" + str(Min_Interval))\n",
    "print(\"Maximun Interval: \" + str(Max_Interval))"
   ]
  },
  {
   "cell_type": "code",
   "execution_count": 793,
   "metadata": {},
   "outputs": [
    {
     "data": {
      "text/plain": [
       "24.66"
      ]
     },
     "execution_count": 793,
     "metadata": {},
     "output_type": "execute_result"
    }
   ],
   "source": [
    "Min_Interval"
   ]
  },
  {
   "cell_type": "code",
   "execution_count": 802,
   "metadata": {},
   "outputs": [
    {
     "name": "stderr",
     "output_type": "stream",
     "text": [
      "100%|██████████| 10/10 [13:18<00:00, 79.88s/it]\n"
     ]
    }
   ],
   "source": [
    "# Selecting only the interval [24.15, 26.99] and itterating 1000 times\n",
    "from tqdm import tqdm\n",
    "# Itterating our function over every price interval\n",
    "T_LP_Interval = []\n",
    "\n",
    "for u in tqdm(range(0, 10)):\n",
    "    List_Profit_Interval = []\n",
    "    for i in Intervals[np.where(Intervals == Min_Interval)[0][0]:np.where(Intervals == Max_Interval)[0][0]]:\n",
    "        List_Profit_Interval.append(profit(i))\n",
    "    T_LP_Interval.append(List_Profit_Interval)\n",
    "    \n",
    "Total = np.mean(T_LP_Interval, axis=0)\n",
    "\n"
   ]
  },
  {
   "cell_type": "code",
   "execution_count": 804,
   "metadata": {},
   "outputs": [
    {
     "data": {
      "text/plain": [
       "array([27173.404, 27352.416, 27047.8  , 26890.017, 27421.416, 27141.003,\n",
       "       27680.454, 27532.47 , 27265.672, 27284.419, 27072.498, 27179.682,\n",
       "       27141.76 , 27217.566, 27328.73 , 27240.668, 27685.08 , 27428.825,\n",
       "       27545.398, 27796.929, 27788.408, 27509.076, 27253.17 , 27305.519,\n",
       "       27809.724, 27853.221, 27815.684, 27833.125, 27539.616, 27963.355,\n",
       "       27796.558, 27603.45 , 27965.72 , 27894.616, 27898.992, 28013.034,\n",
       "       27867.84 , 27776.475, 27631.842, 27947.283, 28135.476, 28064.452,\n",
       "       27988.02 , 28082.817, 28015.424, 28334.153, 27677.838, 28107.695,\n",
       "       28242.436, 28101.006, 28490.854, 28176.683, 28192.8  , 28450.703,\n",
       "       28345.2  , 28101.387, 28244.44 , 28000.105, 28369.44 , 28572.519,\n",
       "       28363.312, 28427.1  , 28485.79 , 28492.286, 29131.872, 28855.746,\n",
       "       28508.9  , 28605.915, 28360.792, 28817.69 , 28685.034, 28732.193,\n",
       "       28740.74 , 28722.453, 28589.614, 28421.289, 28731.456, 28496.425,\n",
       "       28265.482, 28770.33 , 28955.212, 29087.882, 28667.58 , 28782.865,\n",
       "       29173.048, 29099.574, 28879.584, 28766.975, 28888.644, 29241.094,\n",
       "       28810.368, 28854.474, 29186.64 , 29220.607, 29197.35 , 28807.483,\n",
       "       29182.216, 29111.415, 29101.62 , 29332.779, 29281.944, 29087.29 ,\n",
       "       28795.8  , 29050.884, 29120.172, 29907.225, 29310.372, 29286.665,\n",
       "       29830.784, 29308.968, 29373.69 , 29400.645, 29444.04 , 29091.447,\n",
       "       29130.01 , 29655.825, 29748.536, 29520.765, 29488.014, 29243.045,\n",
       "       28974.848, 29536.344, 29764.8  , 29641.986, 29540.544, 29935.708,\n",
       "       29368.158, 29896.125, 29578.228, 29366.45 , 29369.808, 29397.946,\n",
       "       29934.32 , 30261.852, 29657.572, 29949.293, 29515.716, 29530.1  ,\n",
       "       29970.312, 29643.705, 29460.992, 30125.494, 30134.37 , 29654.34 ,\n",
       "       29744.416, 30016.935, 30256.776, 29577.345, 29788.416, 30005.962,\n",
       "       29603.944, 29933.247, 29637.5  , 30238.901, 29986.074, 29700.223,\n",
       "       29672.208, 29633.67 , 29940.352, 29797.906, 29945.58 , 29818.921,\n",
       "       30159.01 , 29989.392, 30219.888, 30228.577, 29997.864, 29849.325,\n",
       "       30122.708, 30097.179, 30001.608, 30374.669, 29940.   , 30305.851,\n",
       "       29919.454, 30110.148, 29617.672, 29976.3  , 30070.086, 30159.426,\n",
       "       30536.984, 30256.569, 30337.09 , 30030.539, 30123.288, 30107.49 ,\n",
       "       30038.36 , 30539.805, 29828.24 , 30285.756, 30178.764, 30656.5  ,\n",
       "       30274.9  , 30560.679, 30236.702, 30436.657, 30596.688, 29997.24 ,\n",
       "       30173.294, 30610.116, 30024.552, 30570.133, 30478.95 , 30468.691,\n",
       "       30264.64 , 30227.034, 30612.994, 30163.88 , 30215.976, 30228.548,\n",
       "       30530.266, 30272.004, 30182.68 , 30232.613, 30423.918, 30641.566,\n",
       "       30254.476, 29910.165, 30300.144, 30496.623, 30669.408, 30249.735,\n",
       "       30633.63 , 30170.283, 30583.168, 30770.474, 30599.154, 30119.325,\n",
       "       30368.152, 30406.932, 30481.06 , 30570.494, 30434.88 , 30328.896,\n",
       "       30402.394, 29959.782, 30459.52 , 30646.09 , 30443.49 , 30233.252,\n",
       "       30355.336, 30689.781, 30458.49 , 30603.834, 30181.392, 30205.505,\n",
       "       30710.652, 30238.92 , 30176.78 , 30537.728, 30527.88 , 30364.522,\n",
       "       30026.4  , 30071.433, 30074.472, 30182.322, 30410.424, 30016.05 ,\n",
       "       30168.186, 30242.529, 30016.616, 30139.453, 29931.33 , 30327.607,\n",
       "       30379.236, 30261.078, 30101.824, 30219.42 , 29999.616, 30209.125,\n",
       "       30098.162, 30057.09 , 30281.44 , 30230.556, 29981.826, 29790.917,\n",
       "       30098.424, 30132.75 , 30297.366, 29994.049, 30334.74 , 29522.696,\n",
       "       29618.87 , 29963.169, 30084.   , 29954.54 , 30036.888, 30020.52 ,\n",
       "       29796.676, 29831.703, 30125.278, 29835.928, 29977.92 , 29887.109,\n",
       "       29978.92 , 29518.188, 29470.748, 29678.   , 29479.35 , 29561.985,\n",
       "       29789.76 , 29840.616, 29477.35 , 29400.109, 29895.636, 29306.579,\n",
       "       29144.618, 29459.895, 29514.856, 29240.407, 29623.698, 29258.482,\n",
       "       29158.06 , 29140.779, 29686.878, 29760.47 , 29303.904, 29310.49 ,\n",
       "       29104.426, 29200.437, 29178.816, 29270.33 , 28864.44 , 29403.717,\n",
       "       29255.96 , 29140.932, 28914.244, 28806.05 , 29041.74 , 29073.553,\n",
       "       29101.716, 29031.882, 28922.24 , 29009.222, 28897.614, 29073.021,\n",
       "       28543.016, 29022.21 , 28375.238, 28388.474, 29055.936, 28885.058,\n",
       "       28547.9  , 28618.653, 28522.956, 28702.351, 28451.88 , 28616.015,\n",
       "       28518.24 , 28413.522, 28448.702, 28286.174, 28344.3  , 28245.633,\n",
       "       28529.924, 27937.305, 28198.44 , 28566.915, 28093.758, 28334.272,\n",
       "       27874.904, 28039.596, 27861.17 , 28024.619, 27870.624, 27798.533,\n",
       "       27994.824, 27568.62 , 27728.056, 27286.294, 27594.546, 27830.521,\n",
       "       27385.12 , 27841.131, 27597.338, 27374.248, 27605.52 , 27368.55 ,\n",
       "       27395.068, 27183.156, 27548.16 , 27233.332, 27399.87 , 27017.015,\n",
       "       27275.968])"
      ]
     },
     "execution_count": 804,
     "metadata": {},
     "output_type": "execute_result"
    }
   ],
   "source": [
    "Total"
   ]
  },
  {
   "cell_type": "code",
   "execution_count": 805,
   "metadata": {},
   "outputs": [
    {
     "data": {
      "text/plain": [
       "2733"
      ]
     },
     "execution_count": 805,
     "metadata": {},
     "output_type": "execute_result"
    }
   ],
   "source": [
    "int(str(Max_Interval).replace('.', ''))"
   ]
  },
  {
   "cell_type": "code",
   "execution_count": 806,
   "metadata": {},
   "outputs": [
    {
     "data": {
      "text/html": [
       "<div>\n",
       "<style scoped>\n",
       "    .dataframe tbody tr th:only-of-type {\n",
       "        vertical-align: middle;\n",
       "    }\n",
       "\n",
       "    .dataframe tbody tr th {\n",
       "        vertical-align: top;\n",
       "    }\n",
       "\n",
       "    .dataframe thead th {\n",
       "        text-align: right;\n",
       "    }\n",
       "</style>\n",
       "<table border=\"1\" class=\"dataframe\">\n",
       "  <thead>\n",
       "    <tr style=\"text-align: right;\">\n",
       "      <th></th>\n",
       "      <th>Profit</th>\n",
       "    </tr>\n",
       "  </thead>\n",
       "  <tbody>\n",
       "    <tr>\n",
       "      <th>23.48</th>\n",
       "      <td>27173.404</td>\n",
       "    </tr>\n",
       "    <tr>\n",
       "      <th>23.49</th>\n",
       "      <td>27352.416</td>\n",
       "    </tr>\n",
       "    <tr>\n",
       "      <th>23.50</th>\n",
       "      <td>27047.800</td>\n",
       "    </tr>\n",
       "    <tr>\n",
       "      <th>23.51</th>\n",
       "      <td>26890.017</td>\n",
       "    </tr>\n",
       "    <tr>\n",
       "      <th>23.52</th>\n",
       "      <td>27421.416</td>\n",
       "    </tr>\n",
       "    <tr>\n",
       "      <th>...</th>\n",
       "      <td>...</td>\n",
       "    </tr>\n",
       "    <tr>\n",
       "      <th>27.28</th>\n",
       "      <td>27548.160</td>\n",
       "    </tr>\n",
       "    <tr>\n",
       "      <th>27.29</th>\n",
       "      <td>27233.332</td>\n",
       "    </tr>\n",
       "    <tr>\n",
       "      <th>27.30</th>\n",
       "      <td>27399.870</td>\n",
       "    </tr>\n",
       "    <tr>\n",
       "      <th>27.31</th>\n",
       "      <td>27017.015</td>\n",
       "    </tr>\n",
       "    <tr>\n",
       "      <th>27.32</th>\n",
       "      <td>27275.968</td>\n",
       "    </tr>\n",
       "  </tbody>\n",
       "</table>\n",
       "<p>385 rows × 1 columns</p>\n",
       "</div>"
      ],
      "text/plain": [
       "          Profit\n",
       "23.48  27173.404\n",
       "23.49  27352.416\n",
       "23.50  27047.800\n",
       "23.51  26890.017\n",
       "23.52  27421.416\n",
       "...          ...\n",
       "27.28  27548.160\n",
       "27.29  27233.332\n",
       "27.30  27399.870\n",
       "27.31  27017.015\n",
       "27.32  27275.968\n",
       "\n",
       "[385 rows x 1 columns]"
      ]
     },
     "execution_count": 806,
     "metadata": {},
     "output_type": "execute_result"
    }
   ],
   "source": [
    "Total = np.mean(T_LP_Interval, axis=0)\n",
    "Total_df = pd.DataFrame(Total)\n",
    "Total_df = Total_df.set_index([Intervals[\n",
    "    int(str(Min_Interval).replace('.', '')):int(str(Max_Interval).replace('.', ''))]])\n",
    "Total_df.columns = ['Profit']\n",
    "Total_df\n",
    "\n"
   ]
  },
  {
   "cell_type": "code",
   "execution_count": 807,
   "metadata": {},
   "outputs": [
    {
     "data": {
      "text/plain": [
       "<AxesSubplot: ylabel='Profit'>"
      ]
     },
     "execution_count": 807,
     "metadata": {},
     "output_type": "execute_result"
    },
    {
     "data": {
      "image/png": "[encoded data removed]",
      "text/plain": [
       "<Figure size 640x480 with 1 Axes>"
      ]
     },
     "metadata": {},
     "output_type": "display_data"
    }
   ],
   "source": [
    "sns.lineplot(x=Total_df.index, y=Total_df['Profit'])"
   ]
  },
  {
   "cell_type": "code",
   "execution_count": 808,
   "metadata": {},
   "outputs": [
    {
     "data": {
      "text/plain": [
       "<AxesSubplot: ylabel='Profit'>"
      ]
     },
     "execution_count": 808,
     "metadata": {},
     "output_type": "execute_result"
    },
    {
     "data": {
      "image/png": "[encoded data removed]",
      "text/plain": [
       "<Figure size 640x480 with 1 Axes>"
      ]
     },
     "metadata": {},
     "output_type": "display_data"
    }
   ],
   "source": [
    "sns.barplot(x=Total_df.index, y=Total_df['Profit'])"
   ]
  },
  {
   "cell_type": "code",
   "execution_count": 828,
   "metadata": {},
   "outputs": [
    {
     "name": "stdout",
     "output_type": "stream",
     "text": [
      "24.81\n",
      "26.38\n"
     ]
    }
   ],
   "source": [
    "Min = Total_df[Total_df['Profit']>30000].index.min()\n",
    "Max = Total_df[Total_df['Profit']>30000].index.max()\n",
    "print(Min)\n",
    "print(Max)"
   ]
  },
  {
   "cell_type": "code",
   "execution_count": 829,
   "metadata": {},
   "outputs": [
    {
     "data": {
      "text/plain": [
       "<AxesSubplot: ylabel='Profit'>"
      ]
     },
     "execution_count": 829,
     "metadata": {},
     "output_type": "execute_result"
    },
    {
     "data": {
      "image/png": "[encoded data removed]",
      "text/plain": [
       "<Figure size 640x480 with 1 Axes>"
      ]
     },
     "metadata": {},
     "output_type": "display_data"
    }
   ],
   "source": [
    "Ideal_range = Total_df[(Total_df.index >= Min) & (Total_df.index <= Max)]\n",
    "Ideal_range.max() - Ideal_range.min()\n",
    "sns.barplot(x=Ideal_range.index, y=Ideal_range['Profit'])"
   ]
  },
  {
   "cell_type": "code",
   "execution_count": 830,
   "metadata": {},
   "outputs": [
    {
     "name": "stdout",
     "output_type": "stream",
     "text": [
      "The average maximun value for a fixed price strategy is: 30159.851348101267\n",
      "Which can be achieved by charging drivers anywhere between: 24.81 and 26.38\n"
     ]
    }
   ],
   "source": [
    "Ideal_range['Profit'].mean()\n",
    "print(\"The average maximun value for a fixed price strategy is: \" + str(Ideal_range['Profit'].mean()))\n",
    "print(\"Which can be achieved by charging drivers anywhere between: \" + str(Min) + \" and \" + str(Max))"
   ]
  },
  {
   "cell_type": "markdown",
   "metadata": {},
   "source": [
    "We can now check if our Ideal Range describes a normal distribution"
   ]
  },
  {
   "cell_type": "code",
   "execution_count": 831,
   "metadata": {},
   "outputs": [
    {
     "name": "stdout",
     "output_type": "stream",
     "text": [
      "ShapiroResult(statistic=0.9833698272705078, pvalue=0.05458341911435127)\n",
      "Mean: 30159.851348101267\n",
      "STD : 289.1516651233453\n"
     ]
    }
   ],
   "source": [
    "from scipy.stats import shapiro \n",
    "\n",
    "#Shapiro-Wilk test for normality\n",
    "print(shapiro(Ideal_range['Profit']))\n",
    "print(\"Mean: \" + str(Ideal_range['Profit'].mean()))\n",
    "print(\"STD : \" + str(Ideal_range['Profit'].std()))"
   ]
  },
  {
   "cell_type": "markdown",
   "metadata": {},
   "source": [
    "Since it seems to be normal distribution we can now gage the probability of achieving a given profit goal. This proceedure is much like that which we have already established previously for generating our data. We extract the mean and standard deviation and itterate over a given amount. We can then give with a 95% confidence interval our expected profits."
   ]
  },
  {
   "cell_type": "code",
   "execution_count": 832,
   "metadata": {},
   "outputs": [
    {
     "data": {
      "text/plain": [
       "<AxesSubplot: ylabel='Count'>"
      ]
     },
     "execution_count": 832,
     "metadata": {},
     "output_type": "execute_result"
    },
    {
     "data": {
      "image/png": "[encoded data removed]",
      "text/plain": [
       "<Figure size 640x480 with 1 Axes>"
      ]
     },
     "metadata": {},
     "output_type": "display_data"
    }
   ],
   "source": [
    "from numpy.random import normal\n",
    "mean = Ideal_range['Profit'].mean()\n",
    "std = Ideal_range['Profit'].std()\n",
    "Profit_Range = normal(loc=mean, scale=std, size=100000000)\n",
    "sns.histplot(Profit_Range)"
   ]
  },
  {
   "cell_type": "code",
   "execution_count": 833,
   "metadata": {},
   "outputs": [
    {
     "name": "stdout",
     "output_type": "stream",
     "text": [
      "When using a fixed priced strategy that pays anywhere between our established range [24.81,26.38] we can assert with 95% confidence that our profits will fall within the following range : [29593.08,30726.47] $\n"
     ]
    }
   ],
   "source": [
    "Percentile_Min = np.percentile(Profit_Range, 2.5)\n",
    "Percentile_Max = np.percentile(Profit_Range, 97.5)\n",
    "print(\"When using a fixed priced strategy that pays anywhere between our established range [\" + str(Min) \n",
    "      + \",\" + str(Max) + \"] we can assert with 95% confidence that our profits will fall within the following\"\n",
    "      \" range : [\" + str(round(Percentile_Min, 2)) + \",\" + str(round(Percentile_Max,2)) + \"] $\") "
   ]
  },
  {
   "cell_type": "markdown",
   "metadata": {},
   "source": [
    "# Flexible Price Strategy"
   ]
  },
  {
   "cell_type": "markdown",
   "metadata": {},
   "source": [
    "A flexible price strategy means that for each month we will vary the amount payed to our drivers. We will focus on two types of increases. A linear increase where there will be a pre established initial pay, say x, and then an increase as described by X + a fixed amount per month. Our second approach will be an exponential approach, where the increase will be determined by X to the power of a fixed amount per month. \n",
    "\n",
    "The main goal is to establish if it is more beneficial to incur losses early in our opperation but make up for it in the later stages due to an increased number of concurrent riders given by our preestablished distribution. "
   ]
  },
  {
   "cell_type": "markdown",
   "metadata": {},
   "source": [
    "**Linear Increase**"
   ]
  },
  {
   "cell_type": "code",
   "execution_count": 836,
   "metadata": {},
   "outputs": [],
   "source": [
    "def Linear_profit(x, y):                                                                 # x is the initial fixed amount while y is the rate of increase \n",
    "\n",
    "    import numpy as np\n",
    "    from scipy.stats import poisson\n",
    "    import itertools\n",
    "\n",
    "    # Initial Parameters\n",
    "    lamb = [1]                                                                           # Initial lambda value for our poisson distributions\n",
    "    Ri_Retention = [1000]                                                                # Initial number of riders for first month\n",
    "    Max_Riders = 10000                                                                   # Max. number of possible customers\n",
    "\n",
    "    Exhausted_Riders = 0                                                                 # Exhausted Rider counter set at 0\n",
    "    Profit = []                                                                          # Profit per itteration (month)\n",
    "\n",
    "    # Poisson Distribution of every previous Lambda\n",
    "    for month in range(0, 12):\n",
    "\n",
    "    # Halting if Riders are exhausted\n",
    "        if Max_Riders <= Exhausted_Riders:\n",
    "            break\n",
    "\n",
    "        Total_LambDist = []                                                                  # List of lists containing all the distributions of each given lambda\n",
    "        for ele in range(0, len(lamb)):\n",
    "            Total_LambDist.append(poisson.rvs(mu=lamb[ele], size=int(round(Ri_Retention[ele],0))))\n",
    "\n",
    "        Total_LambDist = [item for sublist in Total_LambDist for item in sublist]            # Our complete new distribution\n",
    "        Unique_Values = list(set(Total_LambDist))                                            # Unique Number of Requests (0 Requests, 1 Request, 2 Requests...) \n",
    "\n",
    "    # Number of Riders per Number of Requests\n",
    "        NRi_NRe = []                                                                         # Initializing list which will contain the amount of riders per number of requests\n",
    "        for i in range(0, len(Unique_Values)):                                               # Declaring for loop to iterate over every element of our Unique Values\n",
    "            NRi_NRe.append(np.count_nonzero(Total_LambDist == Unique_Values[i]))             # Appending total amount of every unique number of requests\n",
    "\n",
    "    # We calculate the number of riders per lambda\n",
    "            Lambda_Values = Unique_Values[1:]\n",
    "            NRi_NRe_Values = NRi_NRe[1:] \n",
    "\n",
    "            Probability = []\n",
    "\n",
    "            for i in range(0, len(NRi_NRe_Values)):\n",
    "                Inner_List = []\n",
    "                Exp = Lambda_Values[i]\n",
    "                for e in range(1, 1+Exp):\n",
    "                    Inner_List.append(NRi_NRe_Values[i]*Acceptance_Rate(x)**e)\n",
    "                for u in range(0, len(Inner_List)-1):\n",
    "                    Inner_List[u] = Inner_List[u] - Inner_List[u+1]\n",
    "                Probability.append(Inner_List)\n",
    "\n",
    "        Rider_Lamb = [round(sum(i),0) for i in itertools.zip_longest(*Probability, fillvalue=0)]\n",
    "\n",
    "        Rider_Lamb = [i for i in Rider_Lamb if i != 0]\n",
    "    # We calculate profits\n",
    "        # Earings\n",
    "        Earn = []\n",
    "        for i in Rider_Lamb:\n",
    "            Earn.append(i * (Rider_Lamb.index(i) + 1) * 30)\n",
    "        Earn = sum(Earn)\n",
    "\n",
    "        #Spending\n",
    "        Spen = []\n",
    "        for i in Rider_Lamb:\n",
    "            Spen.append(i * (Rider_Lamb.index(i) + 1) * x)\n",
    "        Spen = sum(Spen)\n",
    "\n",
    "        #Profit\n",
    "        Profit.append(Earn - Spen)\n",
    "\n",
    "    # We calculate our new parametters (Rider_Retention, New Lambdas and Exhausted Riders)\n",
    "        Attrition = sum(Ri_Retention) - sum(Rider_Lamb)\n",
    "    \n",
    "        Ri_Retention = Rider_Lamb\n",
    "        if  len(Ri_Retention) == 0:\n",
    "            Ri_Retention = [0] \n",
    "        Ri_Retention[0] = Ri_Retention[0] + 1000\n",
    "\n",
    "        lamb = list(range(1, len(Rider_Lamb)+1))\n",
    "\n",
    "        Exhausted_Riders = Exhausted_Riders + Attrition                 # New Exhausted Riders\n",
    "        x = x + y\n",
    "    return sum(Profit)"
   ]
  },
  {
   "cell_type": "markdown",
   "metadata": {},
   "source": [
    "In order to explore the viability of a variable price strategy we should first study the progression of ride requests based on the amount payed to drivers. The basis of a variable price strategy resides in incurring losses early on in order to increase our user base to the point that those initial losses are ofset by a later increase of reveneu. The increase of our user base is determined by our inverse sigmoid function (% of driver decline basde on payment) and the additional users per month."
   ]
  },
  {
   "cell_type": "code",
   "execution_count": 1053,
   "metadata": {},
   "outputs": [
    {
     "name": "stdout",
     "output_type": "stream",
     "text": [
      "[903.0, 1598.0, 2236.0, 2798.0, 3265.0, 3608.0, 4017.0, 4310.0, 4462.0, 4540.0, 4534.0, 4624.0]\n"
     ]
    }
   ],
   "source": [
    "import numpy as np\n",
    "from scipy.stats import poisson\n",
    "import itertools\n",
    "\n",
    "# Initial Parameters\n",
    "x = 35\n",
    "\n",
    "lamb = [1]                                                                           # Initial lambda value for our poisson distributions\n",
    "Ri_Retention = [1000]                                                                # Initial number of riders for first month\n",
    "Max_Riders = 10000                                                                   # Max. number of possible customers\n",
    "\n",
    "Exhausted_Riders = 0                                                                 # Exhausted Rider counter set at 0\n",
    "Profit = []                                                                          # Profit per itteration (month)\n",
    "\n",
    "Total_Rides = [0, 0, 0, 0, 0, 0, 0, 0, 0, 0, 0, 0]\n",
    "Percentage_Dif = []\n",
    "\n",
    "# Poisson Distribution of every previous Lambda\n",
    "for month in range(0, 12):\n",
    "\n",
    "# Halting if Riders are exhausted\n",
    "    if Max_Riders <= Exhausted_Riders:\n",
    "        break\n",
    "\n",
    "    Total_LambDist = []                                                                  # List of lists containing all the distributions of each given lambda\n",
    "    for ele in range(0, len(lamb)):\n",
    "        Total_LambDist.append(poisson.rvs(mu=lamb[ele], size=int(round(Ri_Retention[ele],0))))\n",
    "\n",
    "    Total_LambDist = [item for sublist in Total_LambDist for item in sublist]            # Our complete new distribution\n",
    "    Unique_Values = list(set(Total_LambDist))                                            # Unique Number of Requests (0 Requests, 1 Request, 2 Requests...) \n",
    "\n",
    "# Number of Riders per Number of Requests\n",
    "    NRi_NRe = []                                                                         # Initializing list which will contain the amount of riders per number of requests\n",
    "    for i in range(0, len(Unique_Values)):                                               # Declaring for loop to iterate over every element of our Unique Values\n",
    "        NRi_NRe.append(np.count_nonzero(Total_LambDist == Unique_Values[i]))             # Appending total amount of every unique number of requests\n",
    "\n",
    "# We calculate the number of riders per lambda\n",
    "        Lambda_Values = Unique_Values[1:]\n",
    "        NRi_NRe_Values = NRi_NRe[1:] \n",
    "\n",
    "        Probability = []\n",
    "\n",
    "        for i in range(0, len(NRi_NRe_Values)):\n",
    "            Inner_List = []\n",
    "            Exp = Lambda_Values[i]\n",
    "            for e in range(1, 1+Exp):\n",
    "                Inner_List.append(NRi_NRe_Values[i]*Acceptance_Rate(x)**e)\n",
    "            for u in range(0, len(Inner_List)-1):\n",
    "                Inner_List[u] = Inner_List[u] - Inner_List[u+1]\n",
    "            Probability.append(Inner_List)\n",
    "\n",
    "    Rider_Lamb = [round(sum(i),0) for i in itertools.zip_longest(*Probability, fillvalue=0)]\n",
    "\n",
    "    Rider_Lamb = [i for i in Rider_Lamb if i != 0]\n",
    "\n",
    "# We calculate our new parametters (Rider_Retention, New Lambdas and Exhausted Riders)\n",
    "    Attrition = sum(Ri_Retention) - sum(Rider_Lamb)\n",
    "    \n",
    "    Ri_Retention = Rider_Lamb\n",
    "    if  len(Ri_Retention) == 0:\n",
    "        Ri_Retention = [0] \n",
    "    \n",
    "    lamb = list(range(1, len(Rider_Lamb)+1))  \n",
    "\n",
    "# Difference of number of rides accepted based on previous loop.\n",
    "    Retention_Array = np.array(Ri_Retention)\n",
    "    Lamb_Array = np.array(lamb)\n",
    "    Total_Rides[month] = sum(Retention_Array*Lamb_Array)\n",
    "\n",
    "    if month > 0:\n",
    "        Percentage_Dif.append(round((Total_Rides[month]*100/Total_Rides[month-1])-100, 2))\n",
    "    else:\n",
    "        Percentage_Dif.append(0)\n",
    "\n",
    "    Ri_Retention[0] = Ri_Retention[0] + 1000\n",
    "    \n",
    "\n",
    "\n",
    "\n",
    "    Exhausted_Riders = Exhausted_Riders + Attrition                 # New Exhausted Riders\n",
    "\n",
    "\n",
    "print(Total_Rides)"
   ]
  },
  {
   "cell_type": "code",
   "execution_count": 1106,
   "metadata": {},
   "outputs": [],
   "source": [
    "def Rider_Progression(x):\n",
    "    import numpy as np\n",
    "    from scipy.stats import poisson\n",
    "    import itertools\n",
    "\n",
    "    # Initial Parameters\n",
    "    lamb = [1]                                                                           # Initial lambda value for our poisson distributions\n",
    "    Ri_Retention = [1000]                                                                # Initial number of riders for first month\n",
    "    Max_Riders = 10000                                                                   # Max. number of possible customers\n",
    "\n",
    "    Exhausted_Riders = 0                                                                 # Exhausted Rider counter set at 0\n",
    "    Profit = []                                                                          # Profit per itteration (month)\n",
    "\n",
    "    Total_Rides = [0, 0, 0, 0, 0, 0, 0, 0, 0, 0, 0, 0]\n",
    "    Percentage_Dif = []\n",
    "\n",
    "    # Poisson Distribution of every previous Lambda\n",
    "    for month in range(0, 12):\n",
    "\n",
    "    # Halting if Riders are exhausted\n",
    "        if Max_Riders <= Exhausted_Riders:\n",
    "            break\n",
    "\n",
    "        Total_LambDist = []                                                                  # List of lists containing all the distributions of each given lambda\n",
    "        for ele in range(0, len(lamb)):\n",
    "            Total_LambDist.append(poisson.rvs(mu=lamb[ele], size=int(round(Ri_Retention[ele],0))))\n",
    "\n",
    "        Total_LambDist = [item for sublist in Total_LambDist for item in sublist]            # Our complete new distribution\n",
    "        Unique_Values = list(set(Total_LambDist))                                            # Unique Number of Requests (0 Requests, 1 Request, 2 Requests...) \n",
    "\n",
    "    # Number of Riders per Number of Requests\n",
    "        NRi_NRe = []                                                                         # Initializing list which will contain the amount of riders per number of requests\n",
    "        for i in range(0, len(Unique_Values)):                                               # Declaring for loop to iterate over every element of our Unique Values\n",
    "            NRi_NRe.append(np.count_nonzero(Total_LambDist == Unique_Values[i]))             # Appending total amount of every unique number of requests\n",
    "\n",
    "    # We calculate the number of riders per lambda\n",
    "            Lambda_Values = Unique_Values[1:]\n",
    "            NRi_NRe_Values = NRi_NRe[1:] \n",
    "\n",
    "            Probability = []\n",
    "\n",
    "            for i in range(0, len(NRi_NRe_Values)):\n",
    "                Inner_List = []\n",
    "                Exp = Lambda_Values[i]\n",
    "                for e in range(1, 1+Exp):\n",
    "                    Inner_List.append(NRi_NRe_Values[i]*Acceptance_Rate(x)**e)\n",
    "                for u in range(0, len(Inner_List)-1):\n",
    "                    Inner_List[u] = Inner_List[u] - Inner_List[u+1]\n",
    "                Probability.append(Inner_List)\n",
    "\n",
    "        Rider_Lamb = [round(sum(i),0) for i in itertools.zip_longest(*Probability, fillvalue=0)]\n",
    "\n",
    "        Rider_Lamb = [i for i in Rider_Lamb if i != 0]\n",
    "\n",
    "    # We calculate our new parametters (Rider_Retention, New Lambdas and Exhausted Riders)\n",
    "        Attrition = sum(Ri_Retention) - sum(Rider_Lamb)\n",
    "    \n",
    "        Ri_Retention = Rider_Lamb\n",
    "        if  len(Ri_Retention) == 0:\n",
    "            Ri_Retention = [0] \n",
    "    \n",
    "        lamb = list(range(1, len(Rider_Lamb)+1))  \n",
    "\n",
    "    # Difference of number of rides accepted based on previous loop.\n",
    "        Retention_Array = np.array(Ri_Retention)\n",
    "        Lamb_Array = np.array(lamb)\n",
    "        Total_Rides[month] = sum(Retention_Array*Lamb_Array)\n",
    "\n",
    "        if month > 0:\n",
    "            Percentage_Dif.append(round((Total_Rides[month]*100/Total_Rides[month-1])-100, 2))\n",
    "        else:\n",
    "            Percentage_Dif.append(0)\n",
    "\n",
    "    # We calculate profits\n",
    "        # Earings\n",
    "        Earn = []\n",
    "        for i in Rider_Lamb:\n",
    "            Earn.append(i * (Rider_Lamb.index(i) + 1) * 30)\n",
    "        Earn = sum(Earn)\n",
    "\n",
    "        #Spending\n",
    "        Spen = []\n",
    "        for i in Rider_Lamb:\n",
    "            Spen.append(i * (Rider_Lamb.index(i) + 1) * x)\n",
    "        Spen = sum(Spen)\n",
    "\n",
    "        #Profit\n",
    "        Profit.append(Earn - Spen)\n",
    "\n",
    "\n",
    "        Ri_Retention[0] = Ri_Retention[0] + 1000\n",
    "\n",
    "\n",
    "        Exhausted_Riders = Exhausted_Riders + Attrition                 # New Exhausted Riders\n",
    "\n",
    "    return(Percentage_Dif, Total_Rides, Profit)"
   ]
  },
  {
   "cell_type": "code",
   "execution_count": 1107,
   "metadata": {},
   "outputs": [
    {
     "name": "stderr",
     "output_type": "stream",
     "text": [
      "100%|██████████| 100/100 [07:25<00:00,  4.46s/it]\n"
     ]
    }
   ],
   "source": [
    "# Selecting only the interval [24.00, 40.00] and itterating 1000 times\n",
    "from tqdm import tqdm\n",
    "# Itterating our function over every price interval\n",
    "T_R_Interval = []\n",
    "\n",
    "for u in tqdm(range(0, 100)):\n",
    "    List_Rider_Interval = []\n",
    "    for i in [25, 30, 35, 40]:\n",
    "        List_Rider_Interval.append(Rider_Progression(i))\n",
    "    T_R_Interval.append(List_Rider_Interval)\n",
    "\n"
   ]
  },
  {
   "cell_type": "code",
   "execution_count": 1112,
   "metadata": {},
   "outputs": [],
   "source": [
    "Total_Percent_DIF = []\n",
    "x = 0\n",
    "for i in range(0, len(T_R_Interval[0])):\n",
    "    Avg_T_R = []\n",
    "    for u in range(0, len(T_R_Interval)):\n",
    "        Avg_T_R.append(np.array(T_R_Interval[u][i][0]))\n",
    "    Total_Percent_DIF.append(list(np.mean(Avg_T_R, axis=0)))\n",
    "\n",
    "Total_DIF = []\n",
    "for i in range(0, len(T_R_Interval[0])):\n",
    "    Avg_T_R = []\n",
    "    for u in range(0, len(T_R_Interval)):\n",
    "        Avg_T_R.append(np.array(T_R_Interval[u][i][1]))\n",
    "    Total_DIF.append(list(np.mean(Avg_T_R, axis=0)))\n",
    "\n",
    "Total_Profit = []\n",
    "for i in range(0, len(T_R_Interval[0])):\n",
    "    Avg_T_R = []\n",
    "    for u in range(0, len(T_R_Interval)):\n",
    "        Avg_T_R.append(np.array(T_R_Interval[u][i][2]))\n",
    "    Total_Profit.append(list(np.mean(Avg_T_R, axis=0)))"
   ]
  },
  {
   "cell_type": "code",
   "execution_count": 1129,
   "metadata": {},
   "outputs": [
    {
     "data": {
      "text/plain": [
       "[1873.3,\n",
       " 2506.15,\n",
       " 2740.05,\n",
       " 2805.4,\n",
       " 2829.65,\n",
       " 2840.6,\n",
       " 2830.45,\n",
       " 2834.2,\n",
       " 2842.7,\n",
       " 2839.9,\n",
       " 2843.0]"
      ]
     },
     "execution_count": 1129,
     "metadata": {},
     "output_type": "execute_result"
    }
   ],
   "source": [
    "Total_Profit[0]"
   ]
  },
  {
   "cell_type": "code",
   "execution_count": 1128,
   "metadata": {},
   "outputs": [
    {
     "data": {
      "image/png": "[encoded data removed]",
      "text/plain": [
       "<Figure size 640x480 with 4 Axes>"
      ]
     },
     "metadata": {},
     "output_type": "display_data"
    }
   ],
   "source": [
    "import matplotlib.pyplot as plt\n",
    "\n",
    "fig = plt.figure()\n",
    "ax = fig.add_subplot(111)   \n",
    "ax1 = fig.add_subplot(311)\n",
    "ax2 = fig.add_subplot(312)\n",
    "ax3 = fig.add_subplot(313)\n",
    "\n",
    "ax.spines['top'].set_color('none')\n",
    "ax.spines['bottom'].set_color('none')\n",
    "ax.spines['left'].set_color('none')\n",
    "ax.spines['right'].set_color('none')\n",
    "ax.tick_params(labelcolor='w', top=False, bottom=False, left=False, right=False)\n",
    "\n",
    "# Total Rider Progression\n",
    "ax1.plot(Total_DIF[0], '-r', label='25$')\n",
    "ax1.plot(Total_DIF[1], '-.g', label='30$')\n",
    "ax1.plot(Total_DIF[2],':b', label='35$')\n",
    "ax1.plot(Total_DIF[3],'-y', label='40$')\n",
    "ax1.set_xlim(0,11)\n",
    "ax1.set_ylim(0,10000)\n",
    "ax1.spines['top'].set_color('none')\n",
    "ax1.spines['right'].set_color('none')\n",
    "ax1.grid(axis='y')\n",
    "\n",
    "# Percentage of Rides Change\n",
    "ax2.plot(Total_Percent_DIF[0], '-r', label='25$')\n",
    "ax2.plot(Total_Percent_DIF[1], '-.g', label='30$')\n",
    "ax2.plot(Total_Percent_DIF[2],':b', label='35$')\n",
    "ax2.plot(Total_Percent_DIF[3],'-y', label='40$')\n",
    "ax2.set_xlim(0,11)\n",
    "ax2.set_ylim(0,100)\n",
    "ax2.spines['top'].set_color('none')\n",
    "ax2.spines['right'].set_color('none')\n",
    "ax2.grid(axis='y')\n",
    "\n",
    "# Profit\n",
    "ax3.plot(Total_Profit[0], '-r', label='25$')\n",
    "ax3.plot(Total_Profit[1], '-.g', label='30$')\n",
    "ax3.plot(Total_Profit[2],':b', label='35$')\n",
    "ax3.plot(Total_Profit[3],'-y', label='40$')\n",
    "ax3.set_xlim(0,11)\n",
    "ax3.set_ylim(-100000,10000)\n",
    "ax3.spines['top'].set_color('none')\n",
    "ax3.spines['right'].set_color('none')\n",
    "ax3.grid(axis='y')\n",
    "\n",
    "plt.subplots_adjust(hspace=0.5)\n",
    "# Common Title\n",
    "ax.set_xlabel('Month')\n",
    "\n",
    "# Subplot Titles\n",
    "ax1.set_title('Total Rides', fontsize=10)\n",
    "ax1.set_ylabel('Rides Accepted')\n",
    "\n",
    "ax2.set_title('Percentage Change', fontsize=10)\n",
    "ax2.set_ylabel('% Increase')\n",
    "\n",
    "plt.show()"
   ]
  },
  {
   "cell_type": "code",
   "execution_count": 1164,
   "metadata": {},
   "outputs": [],
   "source": [
    "def Rider_Progression_HalfPoint(x):\n",
    "    import numpy as np\n",
    "    from scipy.stats import poisson\n",
    "    import itertools\n",
    "\n",
    "    # Initial Parameters\n",
    "    lamb = [1]                                                                           # Initial lambda value for our poisson distributions\n",
    "    Ri_Retention = [1000]                                                                # Initial number of riders for first month\n",
    "    Max_Riders = 10000                                                                   # Max. number of possible customers\n",
    "\n",
    "    Exhausted_Riders = 0                                                                 # Exhausted Rider counter set at 0\n",
    "    Profit = []                                                                          # Profit per itteration (month)\n",
    "\n",
    "    Total_Rides = [0, 0, 0, 0, 0, 0, 0, 0, 0, 0, 0, 0]\n",
    "    Percentage_Dif = []\n",
    "\n",
    "    # Poisson Distribution of every previous Lambda\n",
    "    for month in range(0, 12):\n",
    "        if month > 4:\n",
    "            x = 25\n",
    "\n",
    "    # Halting if Riders are exhausted\n",
    "        if Max_Riders <= Exhausted_Riders:\n",
    "            break\n",
    "\n",
    "        Total_LambDist = []                                                                  # List of lists containing all the distributions of each given lambda\n",
    "        for ele in range(0, len(lamb)):\n",
    "            Total_LambDist.append(poisson.rvs(mu=lamb[ele], size=int(round(Ri_Retention[ele],0))))\n",
    "\n",
    "        Total_LambDist = [item for sublist in Total_LambDist for item in sublist]            # Our complete new distribution\n",
    "        Unique_Values = list(set(Total_LambDist))                                            # Unique Number of Requests (0 Requests, 1 Request, 2 Requests...) \n",
    "\n",
    "    # Number of Riders per Number of Requests\n",
    "        NRi_NRe = []                                                                         # Initializing list which will contain the amount of riders per number of requests\n",
    "        for i in range(0, len(Unique_Values)):                                               # Declaring for loop to iterate over every element of our Unique Values\n",
    "            NRi_NRe.append(np.count_nonzero(Total_LambDist == Unique_Values[i]))             # Appending total amount of every unique number of requests\n",
    "\n",
    "    # We calculate the number of riders per lambda\n",
    "            Lambda_Values = Unique_Values[1:]\n",
    "            NRi_NRe_Values = NRi_NRe[1:] \n",
    "\n",
    "            Probability = []\n",
    "\n",
    "            for i in range(0, len(NRi_NRe_Values)):\n",
    "                Inner_List = []\n",
    "                Exp = Lambda_Values[i]\n",
    "                for e in range(1, 1+Exp):\n",
    "                    Inner_List.append(NRi_NRe_Values[i]*Acceptance_Rate(x)**e)\n",
    "                for u in range(0, len(Inner_List)-1):\n",
    "                    Inner_List[u] = Inner_List[u] - Inner_List[u+1]\n",
    "                Probability.append(Inner_List)\n",
    "\n",
    "        Rider_Lamb = [round(sum(i),0) for i in itertools.zip_longest(*Probability, fillvalue=0)]\n",
    "\n",
    "        Rider_Lamb = [i for i in Rider_Lamb if i != 0]\n",
    "\n",
    "    # We calculate our new parametters (Rider_Retention, New Lambdas and Exhausted Riders)\n",
    "        Attrition = sum(Ri_Retention) - sum(Rider_Lamb)\n",
    "    \n",
    "        Ri_Retention = Rider_Lamb\n",
    "        if  len(Ri_Retention) == 0:\n",
    "            Ri_Retention = [0] \n",
    "    \n",
    "        lamb = list(range(1, len(Rider_Lamb)+1))  \n",
    "\n",
    "    # Difference of number of rides accepted based on previous loop.\n",
    "        Retention_Array = np.array(Ri_Retention)\n",
    "        Lamb_Array = np.array(lamb)\n",
    "        Total_Rides[month] = sum(Retention_Array*Lamb_Array)\n",
    "\n",
    "        if month > 0:\n",
    "            Percentage_Dif.append(round((Total_Rides[month]*100/Total_Rides[month-1])-100, 2))\n",
    "        else:\n",
    "            Percentage_Dif.append(0)\n",
    "\n",
    "    # We calculate profits\n",
    "        # Earings\n",
    "        Earn = []\n",
    "        for i in Rider_Lamb:\n",
    "            Earn.append(i * (Rider_Lamb.index(i) + 1) * 30)\n",
    "        Earn = sum(Earn)\n",
    "\n",
    "        #Spending\n",
    "        Spen = []\n",
    "        for i in Rider_Lamb:\n",
    "            Spen.append(i * (Rider_Lamb.index(i) + 1) * x)\n",
    "        Spen = sum(Spen)\n",
    "\n",
    "        #Profit\n",
    "        Profit.append(Earn - Spen)\n",
    "\n",
    "\n",
    "        Ri_Retention[0] = Ri_Retention[0] + 1000\n",
    "\n",
    "\n",
    "        Exhausted_Riders = Exhausted_Riders + Attrition                 # New Exhausted Riders\n",
    "\n",
    "    return(Percentage_Dif, Total_Rides, Profit)"
   ]
  },
  {
   "cell_type": "code",
   "execution_count": 1165,
   "metadata": {},
   "outputs": [
    {
     "name": "stderr",
     "output_type": "stream",
     "text": [
      "100%|██████████| 100/100 [02:44<00:00,  1.65s/it]\n"
     ]
    }
   ],
   "source": [
    "# Selecting only the interval [24.00, 40.00] and itterating 1000 times\n",
    "from tqdm import tqdm\n",
    "# Itterating our function over every price interval\n",
    "T_R_Interval_HP = []\n",
    "\n",
    "for u in tqdm(range(0, 100)):\n",
    "    List_Rider_Interval_HP = []\n",
    "    for i in [25, 30, 35, 40]:\n",
    "        List_Rider_Interval_HP.append(Rider_Progression_HalfPoint(i))\n",
    "    T_R_Interval_HP.append(List_Rider_Interval_HP)"
   ]
  },
  {
   "cell_type": "code",
   "execution_count": 1166,
   "metadata": {},
   "outputs": [],
   "source": [
    "Total_Percent_DIF = []\n",
    "x = 0\n",
    "for i in range(0, len(T_R_Interval_HP[0])):\n",
    "    Avg_T_R = []\n",
    "    for u in range(0, len(T_R_Interval_HP)):\n",
    "        Avg_T_R.append(np.array(T_R_Interval_HP[u][i][0]))\n",
    "    Total_Percent_DIF.append(list(np.mean(Avg_T_R, axis=0)))\n",
    "\n",
    "Total_DIF = []\n",
    "for i in range(0, len(T_R_Interval_HP[0])):\n",
    "    Avg_T_R = []\n",
    "    for u in range(0, len(T_R_Interval_HP)):\n",
    "        Avg_T_R.append(np.array(T_R_Interval_HP[u][i][1]))\n",
    "    Total_DIF.append(list(np.mean(Avg_T_R, axis=0)))\n",
    "\n",
    "Total_Profit = []\n",
    "for i in range(0, len(T_R_Interval_HP[0])):\n",
    "    Avg_T_R = []\n",
    "    for u in range(0, len(T_R_Interval_HP)):\n",
    "        Avg_T_R.append(np.array(T_R_Interval_HP[u][i][2]))\n",
    "    Total_Profit.append(list(np.mean(Avg_T_R, axis=0)))"
   ]
  },
  {
   "cell_type": "code",
   "execution_count": 1167,
   "metadata": {},
   "outputs": [
    {
     "data": {
      "image/png": "[encoded data removed]",
      "text/plain": [
       "<Figure size 640x480 with 4 Axes>"
      ]
     },
     "metadata": {},
     "output_type": "display_data"
    }
   ],
   "source": [
    "import matplotlib.pyplot as plt\n",
    "\n",
    "fig = plt.figure()\n",
    "ax = fig.add_subplot(111)   \n",
    "ax1 = fig.add_subplot(311)\n",
    "ax2 = fig.add_subplot(312)\n",
    "ax3 = fig.add_subplot(313)\n",
    "\n",
    "ax.spines['top'].set_color('none')\n",
    "ax.spines['bottom'].set_color('none')\n",
    "ax.spines['left'].set_color('none')\n",
    "ax.spines['right'].set_color('none')\n",
    "ax.tick_params(labelcolor='w', top=False, bottom=False, left=False, right=False)\n",
    "\n",
    "# Total Rider Progression\n",
    "ax1.plot(Total_DIF[0], '-r', label='25$')\n",
    "ax1.plot(Total_DIF[1], '-.g', label='30$')\n",
    "ax1.plot(Total_DIF[2],':b', label='35$')\n",
    "ax1.plot(Total_DIF[3],'-y', label='40$')\n",
    "ax1.set_xlim(0,11)\n",
    "ax1.set_ylim(0,10000)\n",
    "ax1.spines['top'].set_color('none')\n",
    "ax1.spines['right'].set_color('none')\n",
    "ax1.grid(axis='y')\n",
    "\n",
    "# Percentage of Rides Change\n",
    "ax2.plot(Total_Percent_DIF[0], '-r', label='25$')\n",
    "ax2.plot(Total_Percent_DIF[1], '-.g', label='30$')\n",
    "ax2.plot(Total_Percent_DIF[2],':b', label='35$')\n",
    "ax2.plot(Total_Percent_DIF[3],'-y', label='40$')\n",
    "ax2.set_xlim(0,11)\n",
    "ax2.set_ylim(-100,100)\n",
    "ax2.spines['top'].set_color('none')\n",
    "ax2.spines['right'].set_color('none')\n",
    "ax2.grid(axis='y')\n",
    "\n",
    "# Profit\n",
    "ax3.plot(Total_Profit[0], '-r', label='25$')\n",
    "ax3.plot(Total_Profit[1], '-.g', label='30$')\n",
    "ax3.plot(Total_Profit[2],':b', label='35$')\n",
    "ax3.plot(Total_Profit[3],'-y', label='40$')\n",
    "ax3.set_xlim(0,11)\n",
    "ax3.set_ylim(-100000,10000)\n",
    "ax3.spines['top'].set_color('none')\n",
    "ax3.spines['right'].set_color('none')\n",
    "ax3.grid(axis='y')\n",
    "\n",
    "plt.subplots_adjust(hspace=0.5)\n",
    "# Common Title\n",
    "ax.set_xlabel('Month')\n",
    "\n",
    "# Subplot Titles\n",
    "ax1.set_title('Total Rides', fontsize=10)\n",
    "ax1.set_ylabel('Rides Accepted')\n",
    "\n",
    "ax2.set_title('Percentage Change', fontsize=10)\n",
    "ax2.set_ylabel('% Increase')\n",
    "\n",
    "plt.show()"
   ]
  },
  {
   "cell_type": "code",
   "execution_count": 1168,
   "metadata": {},
   "outputs": [
    {
     "data": {
      "text/plain": [
       "-113144.75"
      ]
     },
     "execution_count": 1168,
     "metadata": {},
     "output_type": "execute_result"
    }
   ],
   "source": [
    "sum(Total_Profit[3])"
   ]
  }
 ],
 "metadata": {
  "kernelspec": {
   "display_name": "Python 3.10.8 64-bit (microsoft store)",
   "language": "python",
   "name": "python3"
  },
  "language_info": {
   "codemirror_mode": {
    "name": "ipython",
    "version": 3
   },
   "file_extension": ".py",
   "mimetype": "text/x-python",
   "name": "python",
   "nbconvert_exporter": "python",
   "pygments_lexer": "ipython3",
   "version": "3.10.8"
  },
  "orig_nbformat": 4,
  "vscode": {
   "interpreter": {
    "hash": "58916f457dcb34b9456eccbbe92e4d02cea8419b04911ae413e3e2240c7b33b6"
   }
  }
 },
 "nbformat": 4,
 "nbformat_minor": 2
}
