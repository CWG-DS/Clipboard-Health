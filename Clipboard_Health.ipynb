{
 "cells": [
  {
   "cell_type": "code",
   "execution_count": 620,
   "metadata": {},
   "outputs": [
    {
     "data": {
      "text/html": [
       "<div>\n",
       "<style scoped>\n",
       "    .dataframe tbody tr th:only-of-type {\n",
       "        vertical-align: middle;\n",
       "    }\n",
       "\n",
       "    .dataframe tbody tr th {\n",
       "        vertical-align: top;\n",
       "    }\n",
       "\n",
       "    .dataframe thead th {\n",
       "        text-align: right;\n",
       "    }\n",
       "</style>\n",
       "<table border=\"1\" class=\"dataframe\">\n",
       "  <thead>\n",
       "    <tr style=\"text-align: right;\">\n",
       "      <th></th>\n",
       "      <th>PAY</th>\n",
       "      <th>ACCEPTED</th>\n",
       "    </tr>\n",
       "  </thead>\n",
       "  <tbody>\n",
       "    <tr>\n",
       "      <th>0</th>\n",
       "      <td>29.358732</td>\n",
       "      <td>0</td>\n",
       "    </tr>\n",
       "    <tr>\n",
       "      <th>1</th>\n",
       "      <td>22.986847</td>\n",
       "      <td>0</td>\n",
       "    </tr>\n",
       "    <tr>\n",
       "      <th>2</th>\n",
       "      <td>18.020348</td>\n",
       "      <td>0</td>\n",
       "    </tr>\n",
       "    <tr>\n",
       "      <th>3</th>\n",
       "      <td>45.730717</td>\n",
       "      <td>1</td>\n",
       "    </tr>\n",
       "    <tr>\n",
       "      <th>4</th>\n",
       "      <td>14.642845</td>\n",
       "      <td>0</td>\n",
       "    </tr>\n",
       "    <tr>\n",
       "      <th>...</th>\n",
       "      <td>...</td>\n",
       "      <td>...</td>\n",
       "    </tr>\n",
       "    <tr>\n",
       "      <th>995</th>\n",
       "      <td>17.382310</td>\n",
       "      <td>0</td>\n",
       "    </tr>\n",
       "    <tr>\n",
       "      <th>996</th>\n",
       "      <td>20.855120</td>\n",
       "      <td>0</td>\n",
       "    </tr>\n",
       "    <tr>\n",
       "      <th>997</th>\n",
       "      <td>42.122166</td>\n",
       "      <td>1</td>\n",
       "    </tr>\n",
       "    <tr>\n",
       "      <th>998</th>\n",
       "      <td>10.853923</td>\n",
       "      <td>0</td>\n",
       "    </tr>\n",
       "    <tr>\n",
       "      <th>999</th>\n",
       "      <td>22.310536</td>\n",
       "      <td>0</td>\n",
       "    </tr>\n",
       "  </tbody>\n",
       "</table>\n",
       "<p>1000 rows × 2 columns</p>\n",
       "</div>"
      ],
      "text/plain": [
       "           PAY  ACCEPTED\n",
       "0    29.358732         0\n",
       "1    22.986847         0\n",
       "2    18.020348         0\n",
       "3    45.730717         1\n",
       "4    14.642845         0\n",
       "..         ...       ...\n",
       "995  17.382310         0\n",
       "996  20.855120         0\n",
       "997  42.122166         1\n",
       "998  10.853923         0\n",
       "999  22.310536         0\n",
       "\n",
       "[1000 rows x 2 columns]"
      ]
     },
     "execution_count": 620,
     "metadata": {},
     "output_type": "execute_result"
    }
   ],
   "source": [
    "import pandas as pd\n",
    "data = pd.read_csv('driverAcceptanceData - driverAcceptanceData.csv')\n",
    "data = data.drop(['Unnamed: 0'], axis=1)\n",
    "data"
   ]
  },
  {
   "cell_type": "code",
   "execution_count": 621,
   "metadata": {},
   "outputs": [
    {
     "data": {
      "text/html": [
       "<div>\n",
       "<style scoped>\n",
       "    .dataframe tbody tr th:only-of-type {\n",
       "        vertical-align: middle;\n",
       "    }\n",
       "\n",
       "    .dataframe tbody tr th {\n",
       "        vertical-align: top;\n",
       "    }\n",
       "\n",
       "    .dataframe thead tr th {\n",
       "        text-align: left;\n",
       "    }\n",
       "</style>\n",
       "<table border=\"1\" class=\"dataframe\">\n",
       "  <thead>\n",
       "    <tr>\n",
       "      <th></th>\n",
       "      <th>Rejected</th>\n",
       "      <th>Accepted</th>\n",
       "    </tr>\n",
       "  </thead>\n",
       "  <tbody>\n",
       "    <tr>\n",
       "      <th>PAY</th>\n",
       "      <td>18.624636</td>\n",
       "      <td>32.076048</td>\n",
       "    </tr>\n",
       "  </tbody>\n",
       "</table>\n",
       "</div>"
      ],
      "text/plain": [
       "      Rejected   Accepted\n",
       "PAY  18.624636  32.076048"
      ]
     },
     "execution_count": 621,
     "metadata": {},
     "output_type": "execute_result"
    }
   ],
   "source": [
    "# Checking means\n",
    "data_mean = data['PAY'].groupby(data['ACCEPTED']).mean()\n",
    "df = pd.DataFrame(data_mean)\n",
    "dfmean = df.T\n",
    "dfmean.columns = [['Rejected', 'Accepted']]\n",
    "dfmean"
   ]
  },
  {
   "cell_type": "markdown",
   "metadata": {},
   "source": [
    "**Raw Data Visualization**"
   ]
  },
  {
   "cell_type": "code",
   "execution_count": 622,
   "metadata": {},
   "outputs": [
    {
     "data": {
      "text/plain": [
       "<AxesSubplot: xlabel='ACCEPTED', ylabel='PAY'>"
      ]
     },
     "execution_count": 622,
     "metadata": {},
     "output_type": "execute_result"
    },
    {
     "data": {
      "image/png": "[encoded data removed]",
      "text/plain": [
       "<Figure size 640x480 with 1 Axes>"
      ]
     },
     "metadata": {},
     "output_type": "display_data"
    }
   ],
   "source": [
    "import matplotlib.pyplot as plt\n",
    "import seaborn as sns\n",
    "sns.boxplot(x=data['ACCEPTED'], y=data['PAY'])"
   ]
  },
  {
   "cell_type": "code",
   "execution_count": 623,
   "metadata": {},
   "outputs": [],
   "source": [
    "# Getting rid of Outliers using the Interquartile method\n",
    "import numpy as np\n",
    "Declined = data[data['ACCEPTED']==0].reset_index(drop=True)\n",
    "q75,q25 = np.percentile(Declined['PAY'], [75,25])\n",
    "intr_qr = q75-q25\n",
    "max = q75+(1.5*intr_qr)\n",
    "min = q25-(1.5*intr_qr)\n",
    "Declined[Declined[\"PAY\"] < min] = np.nan\n",
    "Declined[Declined[\"PAY\"] > max] = np.nan\n",
    "\n",
    "Accepted = data[data['ACCEPTED']==1].reset_index(drop=True)\n",
    "q75,q25 = np.percentile(Accepted['PAY'], [75,25])\n",
    "intr_qr = q75-q25\n",
    "max = q75+(1.5*intr_qr)\n",
    "min = q25-(1.5*intr_qr)\n",
    "Accepted[Accepted[\"PAY\"] < min] = np.nan\n",
    "Accepted[Accepted[\"PAY\"] > max] = np.nan\n"
   ]
  },
  {
   "cell_type": "code",
   "execution_count": 624,
   "metadata": {},
   "outputs": [
    {
     "name": "stderr",
     "output_type": "stream",
     "text": [
      "C:\\Users\\chiaw\\AppData\\Local\\Temp\\ipykernel_9760\\92208927.py:2: FutureWarning: The frame.append method is deprecated and will be removed from pandas in a future version. Use pandas.concat instead.\n",
      "  data_clean = Accepted.append(Declined)\n"
     ]
    },
    {
     "data": {
      "text/plain": [
       "<AxesSubplot: xlabel='ACCEPTED', ylabel='PAY'>"
      ]
     },
     "execution_count": 624,
     "metadata": {},
     "output_type": "execute_result"
    },
    {
     "data": {
      "image/png": "[encoded data removed]",
      "text/plain": [
       "<Figure size 640x480 with 1 Axes>"
      ]
     },
     "metadata": {},
     "output_type": "display_data"
    }
   ],
   "source": [
    "# Visualizaing new distributions\n",
    "data_clean = Accepted.append(Declined)\n",
    "sns.boxplot(x=data_clean['ACCEPTED'], y=data_clean['PAY'])"
   ]
  },
  {
   "cell_type": "markdown",
   "metadata": {},
   "source": [
    "**Percentage of Ride Decline x Amount Payed**"
   ]
  },
  {
   "cell_type": "markdown",
   "metadata": {},
   "source": [
    " In order to asses the % of Driver Acceptance we must compare the proportion of\n",
    " Accepted vs Declined requests at every PAY point. Due to PAY being a continuous\n",
    " variable we will need to group them based on intervals. The smaller these intervals\n",
    " the more precise our measurements. However, given our small sample size of 1000\n",
    "data points we wont be able to be very prices and will opt for an interval size of 0.5 $"
   ]
  },
  {
   "cell_type": "code",
   "execution_count": 625,
   "metadata": {},
   "outputs": [],
   "source": [
    "# Distribution range\n",
    "Min = int(data_clean['PAY'].min())\n",
    "Max = int(round(data_clean['PAY'].max(), 0))\n",
    "# Range of our distribution [0,51]"
   ]
  },
  {
   "cell_type": "code",
   "execution_count": 627,
   "metadata": {},
   "outputs": [
    {
     "name": "stderr",
     "output_type": "stream",
     "text": [
      "C:\\Users\\chiaw\\AppData\\Local\\Temp\\ipykernel_9760\\4123047130.py:12: SettingWithCopyWarning: \n",
      "A value is trying to be set on a copy of a slice from a DataFrame.\n",
      "Try using .loc[row_indexer,col_indexer] = value instead\n",
      "\n",
      "See the caveats in the documentation: https://pandas.pydata.org/pandas-docs/stable/user_guide/indexing.html#returning-a-view-versus-a-copy\n",
      "  Accepted.loc[:,'Counter'] = 1\n",
      "C:\\Users\\chiaw\\AppData\\Local\\Temp\\ipykernel_9760\\4123047130.py:13: SettingWithCopyWarning: \n",
      "A value is trying to be set on a copy of a slice from a DataFrame.\n",
      "Try using .loc[row_indexer,col_indexer] = value instead\n",
      "\n",
      "See the caveats in the documentation: https://pandas.pydata.org/pandas-docs/stable/user_guide/indexing.html#returning-a-view-versus-a-copy\n",
      "  Declined.loc[:,'Counter'] = 1\n"
     ]
    }
   ],
   "source": [
    "import numpy as np\n",
    "Accepted = data_clean[data_clean['ACCEPTED']==1]\n",
    "Declined = data_clean[data_clean['ACCEPTED']==0]\n",
    "\n",
    "# Set up\n",
    "Intervals = []\n",
    "start = 0\n",
    "for i in range(0, 51):\n",
    "    Intervals.append(start)\n",
    "    start = start + 1\n",
    "\n",
    "Accepted.loc[:,'Counter'] = 1\n",
    "Declined.loc[:,'Counter'] = 1\n",
    "\n",
    "\n",
    "Int_Accepted = Accepted.groupby(pd.cut(Accepted['PAY'], Intervals)).sum()\n",
    "Int_Declined = Declined.groupby(pd.cut(Declined['PAY'], Intervals)).sum()\n"
   ]
  },
  {
   "cell_type": "code",
   "execution_count": 628,
   "metadata": {},
   "outputs": [
    {
     "data": {
      "text/html": [
       "<div>\n",
       "<style scoped>\n",
       "    .dataframe tbody tr th:only-of-type {\n",
       "        vertical-align: middle;\n",
       "    }\n",
       "\n",
       "    .dataframe tbody tr th {\n",
       "        vertical-align: top;\n",
       "    }\n",
       "\n",
       "    .dataframe thead th {\n",
       "        text-align: right;\n",
       "    }\n",
       "</style>\n",
       "<table border=\"1\" class=\"dataframe\">\n",
       "  <thead>\n",
       "    <tr style=\"text-align: right;\">\n",
       "      <th></th>\n",
       "      <th>Accepted</th>\n",
       "      <th>Declined</th>\n",
       "      <th>% Declined</th>\n",
       "    </tr>\n",
       "    <tr>\n",
       "      <th>PAY</th>\n",
       "      <th></th>\n",
       "      <th></th>\n",
       "      <th></th>\n",
       "    </tr>\n",
       "  </thead>\n",
       "  <tbody>\n",
       "    <tr>\n",
       "      <th>(0, 1]</th>\n",
       "      <td>0</td>\n",
       "      <td>3</td>\n",
       "      <td>100.00</td>\n",
       "    </tr>\n",
       "    <tr>\n",
       "      <th>(1, 2]</th>\n",
       "      <td>0</td>\n",
       "      <td>1</td>\n",
       "      <td>100.00</td>\n",
       "    </tr>\n",
       "    <tr>\n",
       "      <th>(2, 3]</th>\n",
       "      <td>0</td>\n",
       "      <td>0</td>\n",
       "      <td>NaN</td>\n",
       "    </tr>\n",
       "    <tr>\n",
       "      <th>(3, 4]</th>\n",
       "      <td>0</td>\n",
       "      <td>3</td>\n",
       "      <td>100.00</td>\n",
       "    </tr>\n",
       "    <tr>\n",
       "      <th>(4, 5]</th>\n",
       "      <td>0</td>\n",
       "      <td>4</td>\n",
       "      <td>100.00</td>\n",
       "    </tr>\n",
       "    <tr>\n",
       "      <th>(5, 6]</th>\n",
       "      <td>0</td>\n",
       "      <td>3</td>\n",
       "      <td>100.00</td>\n",
       "    </tr>\n",
       "    <tr>\n",
       "      <th>(6, 7]</th>\n",
       "      <td>0</td>\n",
       "      <td>10</td>\n",
       "      <td>100.00</td>\n",
       "    </tr>\n",
       "    <tr>\n",
       "      <th>(7, 8]</th>\n",
       "      <td>0</td>\n",
       "      <td>6</td>\n",
       "      <td>100.00</td>\n",
       "    </tr>\n",
       "    <tr>\n",
       "      <th>(8, 9]</th>\n",
       "      <td>0</td>\n",
       "      <td>11</td>\n",
       "      <td>100.00</td>\n",
       "    </tr>\n",
       "    <tr>\n",
       "      <th>(9, 10]</th>\n",
       "      <td>0</td>\n",
       "      <td>12</td>\n",
       "      <td>100.00</td>\n",
       "    </tr>\n",
       "    <tr>\n",
       "      <th>(10, 11]</th>\n",
       "      <td>0</td>\n",
       "      <td>16</td>\n",
       "      <td>100.00</td>\n",
       "    </tr>\n",
       "    <tr>\n",
       "      <th>(11, 12]</th>\n",
       "      <td>0</td>\n",
       "      <td>12</td>\n",
       "      <td>100.00</td>\n",
       "    </tr>\n",
       "    <tr>\n",
       "      <th>(12, 13]</th>\n",
       "      <td>2</td>\n",
       "      <td>16</td>\n",
       "      <td>88.89</td>\n",
       "    </tr>\n",
       "    <tr>\n",
       "      <th>(13, 14]</th>\n",
       "      <td>0</td>\n",
       "      <td>23</td>\n",
       "      <td>100.00</td>\n",
       "    </tr>\n",
       "    <tr>\n",
       "      <th>(14, 15]</th>\n",
       "      <td>1</td>\n",
       "      <td>23</td>\n",
       "      <td>95.83</td>\n",
       "    </tr>\n",
       "    <tr>\n",
       "      <th>(15, 16]</th>\n",
       "      <td>2</td>\n",
       "      <td>19</td>\n",
       "      <td>90.48</td>\n",
       "    </tr>\n",
       "    <tr>\n",
       "      <th>(16, 17]</th>\n",
       "      <td>2</td>\n",
       "      <td>25</td>\n",
       "      <td>92.59</td>\n",
       "    </tr>\n",
       "    <tr>\n",
       "      <th>(17, 18]</th>\n",
       "      <td>2</td>\n",
       "      <td>15</td>\n",
       "      <td>88.24</td>\n",
       "    </tr>\n",
       "    <tr>\n",
       "      <th>(18, 19]</th>\n",
       "      <td>6</td>\n",
       "      <td>28</td>\n",
       "      <td>82.35</td>\n",
       "    </tr>\n",
       "    <tr>\n",
       "      <th>(19, 20]</th>\n",
       "      <td>5</td>\n",
       "      <td>18</td>\n",
       "      <td>78.26</td>\n",
       "    </tr>\n",
       "    <tr>\n",
       "      <th>(20, 21]</th>\n",
       "      <td>7</td>\n",
       "      <td>38</td>\n",
       "      <td>84.44</td>\n",
       "    </tr>\n",
       "    <tr>\n",
       "      <th>(21, 22]</th>\n",
       "      <td>12</td>\n",
       "      <td>29</td>\n",
       "      <td>70.73</td>\n",
       "    </tr>\n",
       "    <tr>\n",
       "      <th>(22, 23]</th>\n",
       "      <td>9</td>\n",
       "      <td>24</td>\n",
       "      <td>72.73</td>\n",
       "    </tr>\n",
       "    <tr>\n",
       "      <th>(23, 24]</th>\n",
       "      <td>14</td>\n",
       "      <td>22</td>\n",
       "      <td>61.11</td>\n",
       "    </tr>\n",
       "    <tr>\n",
       "      <th>(24, 25]</th>\n",
       "      <td>23</td>\n",
       "      <td>22</td>\n",
       "      <td>48.89</td>\n",
       "    </tr>\n",
       "    <tr>\n",
       "      <th>(25, 26]</th>\n",
       "      <td>23</td>\n",
       "      <td>18</td>\n",
       "      <td>43.90</td>\n",
       "    </tr>\n",
       "    <tr>\n",
       "      <th>(26, 27]</th>\n",
       "      <td>27</td>\n",
       "      <td>12</td>\n",
       "      <td>30.77</td>\n",
       "    </tr>\n",
       "    <tr>\n",
       "      <th>(27, 28]</th>\n",
       "      <td>22</td>\n",
       "      <td>9</td>\n",
       "      <td>29.03</td>\n",
       "    </tr>\n",
       "    <tr>\n",
       "      <th>(28, 29]</th>\n",
       "      <td>20</td>\n",
       "      <td>8</td>\n",
       "      <td>28.57</td>\n",
       "    </tr>\n",
       "    <tr>\n",
       "      <th>(29, 30]</th>\n",
       "      <td>31</td>\n",
       "      <td>6</td>\n",
       "      <td>16.22</td>\n",
       "    </tr>\n",
       "    <tr>\n",
       "      <th>(30, 31]</th>\n",
       "      <td>38</td>\n",
       "      <td>9</td>\n",
       "      <td>19.15</td>\n",
       "    </tr>\n",
       "    <tr>\n",
       "      <th>(31, 32]</th>\n",
       "      <td>17</td>\n",
       "      <td>9</td>\n",
       "      <td>34.62</td>\n",
       "    </tr>\n",
       "    <tr>\n",
       "      <th>(32, 33]</th>\n",
       "      <td>23</td>\n",
       "      <td>3</td>\n",
       "      <td>11.54</td>\n",
       "    </tr>\n",
       "    <tr>\n",
       "      <th>(33, 34]</th>\n",
       "      <td>33</td>\n",
       "      <td>1</td>\n",
       "      <td>2.94</td>\n",
       "    </tr>\n",
       "    <tr>\n",
       "      <th>(34, 35]</th>\n",
       "      <td>30</td>\n",
       "      <td>1</td>\n",
       "      <td>3.23</td>\n",
       "    </tr>\n",
       "    <tr>\n",
       "      <th>(35, 36]</th>\n",
       "      <td>22</td>\n",
       "      <td>1</td>\n",
       "      <td>4.35</td>\n",
       "    </tr>\n",
       "    <tr>\n",
       "      <th>(36, 37]</th>\n",
       "      <td>28</td>\n",
       "      <td>0</td>\n",
       "      <td>0.00</td>\n",
       "    </tr>\n",
       "    <tr>\n",
       "      <th>(37, 38]</th>\n",
       "      <td>15</td>\n",
       "      <td>4</td>\n",
       "      <td>21.05</td>\n",
       "    </tr>\n",
       "    <tr>\n",
       "      <th>(38, 39]</th>\n",
       "      <td>21</td>\n",
       "      <td>0</td>\n",
       "      <td>0.00</td>\n",
       "    </tr>\n",
       "    <tr>\n",
       "      <th>(39, 40]</th>\n",
       "      <td>15</td>\n",
       "      <td>0</td>\n",
       "      <td>0.00</td>\n",
       "    </tr>\n",
       "    <tr>\n",
       "      <th>(40, 41]</th>\n",
       "      <td>15</td>\n",
       "      <td>0</td>\n",
       "      <td>0.00</td>\n",
       "    </tr>\n",
       "    <tr>\n",
       "      <th>(41, 42]</th>\n",
       "      <td>9</td>\n",
       "      <td>0</td>\n",
       "      <td>0.00</td>\n",
       "    </tr>\n",
       "    <tr>\n",
       "      <th>(42, 43]</th>\n",
       "      <td>8</td>\n",
       "      <td>0</td>\n",
       "      <td>0.00</td>\n",
       "    </tr>\n",
       "    <tr>\n",
       "      <th>(43, 44]</th>\n",
       "      <td>6</td>\n",
       "      <td>0</td>\n",
       "      <td>0.00</td>\n",
       "    </tr>\n",
       "    <tr>\n",
       "      <th>(44, 45]</th>\n",
       "      <td>6</td>\n",
       "      <td>0</td>\n",
       "      <td>0.00</td>\n",
       "    </tr>\n",
       "    <tr>\n",
       "      <th>(45, 46]</th>\n",
       "      <td>6</td>\n",
       "      <td>0</td>\n",
       "      <td>0.00</td>\n",
       "    </tr>\n",
       "    <tr>\n",
       "      <th>(46, 47]</th>\n",
       "      <td>8</td>\n",
       "      <td>0</td>\n",
       "      <td>0.00</td>\n",
       "    </tr>\n",
       "    <tr>\n",
       "      <th>(47, 48]</th>\n",
       "      <td>3</td>\n",
       "      <td>0</td>\n",
       "      <td>0.00</td>\n",
       "    </tr>\n",
       "    <tr>\n",
       "      <th>(48, 49]</th>\n",
       "      <td>3</td>\n",
       "      <td>0</td>\n",
       "      <td>0.00</td>\n",
       "    </tr>\n",
       "    <tr>\n",
       "      <th>(49, 50]</th>\n",
       "      <td>1</td>\n",
       "      <td>0</td>\n",
       "      <td>0.00</td>\n",
       "    </tr>\n",
       "  </tbody>\n",
       "</table>\n",
       "</div>"
      ],
      "text/plain": [
       "          Accepted  Declined  % Declined\n",
       "PAY                                     \n",
       "(0, 1]           0         3      100.00\n",
       "(1, 2]           0         1      100.00\n",
       "(2, 3]           0         0         NaN\n",
       "(3, 4]           0         3      100.00\n",
       "(4, 5]           0         4      100.00\n",
       "(5, 6]           0         3      100.00\n",
       "(6, 7]           0        10      100.00\n",
       "(7, 8]           0         6      100.00\n",
       "(8, 9]           0        11      100.00\n",
       "(9, 10]          0        12      100.00\n",
       "(10, 11]         0        16      100.00\n",
       "(11, 12]         0        12      100.00\n",
       "(12, 13]         2        16       88.89\n",
       "(13, 14]         0        23      100.00\n",
       "(14, 15]         1        23       95.83\n",
       "(15, 16]         2        19       90.48\n",
       "(16, 17]         2        25       92.59\n",
       "(17, 18]         2        15       88.24\n",
       "(18, 19]         6        28       82.35\n",
       "(19, 20]         5        18       78.26\n",
       "(20, 21]         7        38       84.44\n",
       "(21, 22]        12        29       70.73\n",
       "(22, 23]         9        24       72.73\n",
       "(23, 24]        14        22       61.11\n",
       "(24, 25]        23        22       48.89\n",
       "(25, 26]        23        18       43.90\n",
       "(26, 27]        27        12       30.77\n",
       "(27, 28]        22         9       29.03\n",
       "(28, 29]        20         8       28.57\n",
       "(29, 30]        31         6       16.22\n",
       "(30, 31]        38         9       19.15\n",
       "(31, 32]        17         9       34.62\n",
       "(32, 33]        23         3       11.54\n",
       "(33, 34]        33         1        2.94\n",
       "(34, 35]        30         1        3.23\n",
       "(35, 36]        22         1        4.35\n",
       "(36, 37]        28         0        0.00\n",
       "(37, 38]        15         4       21.05\n",
       "(38, 39]        21         0        0.00\n",
       "(39, 40]        15         0        0.00\n",
       "(40, 41]        15         0        0.00\n",
       "(41, 42]         9         0        0.00\n",
       "(42, 43]         8         0        0.00\n",
       "(43, 44]         6         0        0.00\n",
       "(44, 45]         6         0        0.00\n",
       "(45, 46]         6         0        0.00\n",
       "(46, 47]         8         0        0.00\n",
       "(47, 48]         3         0        0.00\n",
       "(48, 49]         3         0        0.00\n",
       "(49, 50]         1         0        0.00"
      ]
     },
     "execution_count": 628,
     "metadata": {},
     "output_type": "execute_result"
    }
   ],
   "source": [
    "Clean_df = Int_Accepted.drop(['ACCEPTED', 'PAY'], axis=1).rename(columns={\"Counter\":\"Accepted\"})\n",
    "Clean_df['Declined'] = Int_Declined.drop(['ACCEPTED', 'PAY'], axis=1)\n",
    "\n",
    "Clean_df['% Declined'] = round(Clean_df['Declined'] * 100 / (Clean_df['Accepted'] + Clean_df['Declined']), 2)\n",
    "Clean_df"
   ]
  },
  {
   "cell_type": "code",
   "execution_count": 629,
   "metadata": {},
   "outputs": [
    {
     "data": {
      "text/plain": [
       "(array([ 0,  1,  2,  3,  4,  5,  6,  7,  8,  9, 10, 11, 12, 13, 14, 15, 16,\n",
       "        17, 18, 19, 20, 21, 22, 23, 24, 25, 26, 27, 28, 29, 30, 31, 32, 33,\n",
       "        34, 35, 36, 37, 38, 39, 40, 41, 42, 43, 44, 45, 46, 47, 48, 49]),\n",
       " [Text(0, 0, '(0, 1]'),\n",
       "  Text(1, 0, '(1, 2]'),\n",
       "  Text(2, 0, '(2, 3]'),\n",
       "  Text(3, 0, '(3, 4]'),\n",
       "  Text(4, 0, '(4, 5]'),\n",
       "  Text(5, 0, '(5, 6]'),\n",
       "  Text(6, 0, '(6, 7]'),\n",
       "  Text(7, 0, '(7, 8]'),\n",
       "  Text(8, 0, '(8, 9]'),\n",
       "  Text(9, 0, '(9, 10]'),\n",
       "  Text(10, 0, '(10, 11]'),\n",
       "  Text(11, 0, '(11, 12]'),\n",
       "  Text(12, 0, '(12, 13]'),\n",
       "  Text(13, 0, '(13, 14]'),\n",
       "  Text(14, 0, '(14, 15]'),\n",
       "  Text(15, 0, '(15, 16]'),\n",
       "  Text(16, 0, '(16, 17]'),\n",
       "  Text(17, 0, '(17, 18]'),\n",
       "  Text(18, 0, '(18, 19]'),\n",
       "  Text(19, 0, '(19, 20]'),\n",
       "  Text(20, 0, '(20, 21]'),\n",
       "  Text(21, 0, '(21, 22]'),\n",
       "  Text(22, 0, '(22, 23]'),\n",
       "  Text(23, 0, '(23, 24]'),\n",
       "  Text(24, 0, '(24, 25]'),\n",
       "  Text(25, 0, '(25, 26]'),\n",
       "  Text(26, 0, '(26, 27]'),\n",
       "  Text(27, 0, '(27, 28]'),\n",
       "  Text(28, 0, '(28, 29]'),\n",
       "  Text(29, 0, '(29, 30]'),\n",
       "  Text(30, 0, '(30, 31]'),\n",
       "  Text(31, 0, '(31, 32]'),\n",
       "  Text(32, 0, '(32, 33]'),\n",
       "  Text(33, 0, '(33, 34]'),\n",
       "  Text(34, 0, '(34, 35]'),\n",
       "  Text(35, 0, '(35, 36]'),\n",
       "  Text(36, 0, '(36, 37]'),\n",
       "  Text(37, 0, '(37, 38]'),\n",
       "  Text(38, 0, '(38, 39]'),\n",
       "  Text(39, 0, '(39, 40]'),\n",
       "  Text(40, 0, '(40, 41]'),\n",
       "  Text(41, 0, '(41, 42]'),\n",
       "  Text(42, 0, '(42, 43]'),\n",
       "  Text(43, 0, '(43, 44]'),\n",
       "  Text(44, 0, '(44, 45]'),\n",
       "  Text(45, 0, '(45, 46]'),\n",
       "  Text(46, 0, '(46, 47]'),\n",
       "  Text(47, 0, '(47, 48]'),\n",
       "  Text(48, 0, '(48, 49]'),\n",
       "  Text(49, 0, '(49, 50]')])"
      ]
     },
     "execution_count": 629,
     "metadata": {},
     "output_type": "execute_result"
    },
    {
     "data": {
      "image/png": "[encoded data removed]",
      "text/plain": [
       "<Figure size 640x480 with 1 Axes>"
      ]
     },
     "metadata": {},
     "output_type": "display_data"
    }
   ],
   "source": [
    "# Quick Visualization of likelyhood of rejection\n",
    "sns.barplot(x=Clean_df.index, y=Clean_df['% Declined'])\n",
    "plt.tick_params(axis='both', which='major', labelsize=5)\n",
    "plt.xticks(rotation = -45)"
   ]
  },
  {
   "cell_type": "markdown",
   "metadata": {},
   "source": [
    "The data is very \"bumpy\" due to our low samples per interval and <br/>\n",
    "the present interval range gives us a sensitivity of 1$ which is not great either.<br/>\n",
    "Therefore we would benefit greatly from generateing extra points of data. <br/>\n",
    "Given that our outlier-less boxplot describes a normal distribution <br/>\n",
    "of both the Declined and Accepted rides we can extract the charactersitics <br/>\n",
    "of their respective distributions and generate a new one with far greater <br/>\n",
    "number of samples."
   ]
  },
  {
   "cell_type": "markdown",
   "metadata": {},
   "source": [
    "**Data Generation**"
   ]
  },
  {
   "cell_type": "code",
   "execution_count": 630,
   "metadata": {},
   "outputs": [
    {
     "data": {
      "text/plain": [
       "<AxesSubplot: ylabel='Count'>"
      ]
     },
     "execution_count": 630,
     "metadata": {},
     "output_type": "execute_result"
    },
    {
     "data": {
      "image/png": "[encoded data removed]",
      "text/plain": [
       "<Figure size 640x480 with 1 Axes>"
      ]
     },
     "metadata": {},
     "output_type": "display_data"
    }
   ],
   "source": [
    "# Declined Data\n",
    "from numpy.random import normal\n",
    "mean = data_clean[data_clean['ACCEPTED']==0]['PAY'].mean()\n",
    "std = data_clean[data_clean['ACCEPTED']==0]['PAY'].std()\n",
    "Dec_Pay = normal(loc=mean, scale=std, size=100000000)\n",
    "sns.histplot(Dec_Pay)"
   ]
  },
  {
   "cell_type": "code",
   "execution_count": 631,
   "metadata": {},
   "outputs": [
    {
     "data": {
      "text/plain": [
       "<AxesSubplot: ylabel='Count'>"
      ]
     },
     "execution_count": 631,
     "metadata": {},
     "output_type": "execute_result"
    },
    {
     "data": {
      "image/png": "[encoded data removed]",
      "text/plain": [
       "<Figure size 640x480 with 1 Axes>"
      ]
     },
     "metadata": {},
     "output_type": "display_data"
    }
   ],
   "source": [
    "# Accepted Data\n",
    "from numpy.random import normal\n",
    "mean = data_clean[data_clean['ACCEPTED']==1]['PAY'].mean()\n",
    "std = data_clean[data_clean['ACCEPTED']==1]['PAY'].std()\n",
    "Ac_Pay = normal(loc=mean, scale=std, size=100000000)\n",
    "sns.histplot(Ac_Pay)"
   ]
  },
  {
   "cell_type": "code",
   "execution_count": 632,
   "metadata": {},
   "outputs": [
    {
     "data": {
      "text/plain": [
       "99477518"
      ]
     },
     "execution_count": 632,
     "metadata": {},
     "output_type": "execute_result"
    }
   ],
   "source": [
    "# Getting rid of values under 0\n",
    "Ac_Pay = Ac_Pay[Ac_Pay >= 0]\n",
    "len(Ac_Pay)\n",
    "Dec_Pay = Dec_Pay[Dec_Pay >= 0]\n",
    "len(Dec_Pay)\n",
    "\n",
    "# Ac_Pay length =  100.000.000\n",
    "# Dec_Pay length =  99.477.518"
   ]
  },
  {
   "cell_type": "code",
   "execution_count": 635,
   "metadata": {},
   "outputs": [],
   "source": [
    "Intervals = []\n",
    "start = 0\n",
    "for i in range(Min, Max*100):                          \n",
    "    Intervals.append(start)\n",
    "    start = start + 0.01"
   ]
  },
  {
   "cell_type": "code",
   "execution_count": 648,
   "metadata": {},
   "outputs": [],
   "source": [
    "# Establishing Interval Range\n",
    "Max = int(round(Ac_Pay.max(), 0))\n",
    "Min = int(round(Dec_Pay.min(), 0))\n",
    "# Creating intervals with 0.01 width\n",
    "Intervals = []\n",
    "start = 0\n",
    "for i in range(Min, Max*100):                          \n",
    "    Intervals.append(start)\n",
    "    start = start + 0.01\n",
    "Intervals = np.round(Intervals[:], 2)\n",
    "\n",
    "\n",
    "Accepted = pd.DataFrame(Ac_Pay)\n",
    "Declined = pd.DataFrame(Dec_Pay)\n",
    "\n",
    "Accepted.rename(columns={0:'PAY'}, inplace=True)\n",
    "Declined.rename(columns={0:'PAY'}, inplace=True)\n",
    "\n",
    "Accepted.loc[:,'Counter'] = 1\n",
    "Declined.loc[:,'Counter'] = 1\n",
    "\n",
    "C_Accepted = Accepted.groupby(pd.cut(Accepted['PAY'], Intervals)).sum()\n",
    "C_Declined = Declined.groupby(pd.cut(Declined['PAY'], Intervals)).sum()\n"
   ]
  },
  {
   "cell_type": "code",
   "execution_count": 649,
   "metadata": {},
   "outputs": [
    {
     "data": {
      "text/plain": [
       "<AxesSubplot: xlabel='PAY', ylabel='% Declined'>"
      ]
     },
     "execution_count": 649,
     "metadata": {},
     "output_type": "execute_result"
    },
    {
     "data": {
      "image/png": "[encoded data removed]",
      "text/plain": [
       "<Figure size 640x480 with 1 Axes>"
      ]
     },
     "metadata": {},
     "output_type": "display_data"
    }
   ],
   "source": [
    "Percent_df = C_Accepted.drop('PAY', axis=1).rename(columns={\"Counter\":\"Accepted\"})\n",
    "Percent_df['Declined'] = C_Declined['Counter']\n",
    "\n",
    "\n",
    "Percent_df['% Declined'] = round(Percent_df['Declined'] * 100 / (Percent_df['Accepted'] + Percent_df['Declined']), 2)\n",
    "\n",
    "Percent_df = Percent_df.dropna()\n",
    "\n",
    "sns.barplot(Percent_df, x=Percent_df.index, y=Percent_df['% Declined'])\n",
    "\n",
    "# Our result is an inverse sigmoid function as shown below"
   ]
  },
  {
   "cell_type": "code",
   "execution_count": 650,
   "metadata": {},
   "outputs": [
    {
     "data": {
      "text/html": [
       "<div>\n",
       "<style scoped>\n",
       "    .dataframe tbody tr th:only-of-type {\n",
       "        vertical-align: middle;\n",
       "    }\n",
       "\n",
       "    .dataframe tbody tr th {\n",
       "        vertical-align: top;\n",
       "    }\n",
       "\n",
       "    .dataframe thead th {\n",
       "        text-align: right;\n",
       "    }\n",
       "</style>\n",
       "<table border=\"1\" class=\"dataframe\">\n",
       "  <thead>\n",
       "    <tr style=\"text-align: right;\">\n",
       "      <th></th>\n",
       "      <th>Accepted</th>\n",
       "      <th>Declined</th>\n",
       "      <th>% Declined</th>\n",
       "    </tr>\n",
       "    <tr>\n",
       "      <th>PAY</th>\n",
       "      <th></th>\n",
       "      <th></th>\n",
       "      <th></th>\n",
       "    </tr>\n",
       "  </thead>\n",
       "  <tbody>\n",
       "    <tr>\n",
       "      <th>(0.0, 0.01]</th>\n",
       "      <td>1</td>\n",
       "      <td>2112</td>\n",
       "      <td>99.95</td>\n",
       "    </tr>\n",
       "    <tr>\n",
       "      <th>(0.01, 0.02]</th>\n",
       "      <td>6</td>\n",
       "      <td>2162</td>\n",
       "      <td>99.72</td>\n",
       "    </tr>\n",
       "    <tr>\n",
       "      <th>(0.02, 0.03]</th>\n",
       "      <td>1</td>\n",
       "      <td>2141</td>\n",
       "      <td>99.95</td>\n",
       "    </tr>\n",
       "    <tr>\n",
       "      <th>(0.03, 0.04]</th>\n",
       "      <td>4</td>\n",
       "      <td>2079</td>\n",
       "      <td>99.81</td>\n",
       "    </tr>\n",
       "    <tr>\n",
       "      <th>(0.04, 0.05]</th>\n",
       "      <td>2</td>\n",
       "      <td>2067</td>\n",
       "      <td>99.90</td>\n",
       "    </tr>\n",
       "    <tr>\n",
       "      <th>(0.05, 0.06]</th>\n",
       "      <td>2</td>\n",
       "      <td>2116</td>\n",
       "      <td>99.91</td>\n",
       "    </tr>\n",
       "    <tr>\n",
       "      <th>(0.06, 0.07]</th>\n",
       "      <td>2</td>\n",
       "      <td>2148</td>\n",
       "      <td>99.91</td>\n",
       "    </tr>\n",
       "    <tr>\n",
       "      <th>(0.07, 0.08]</th>\n",
       "      <td>3</td>\n",
       "      <td>2082</td>\n",
       "      <td>99.86</td>\n",
       "    </tr>\n",
       "    <tr>\n",
       "      <th>(0.08, 0.09]</th>\n",
       "      <td>3</td>\n",
       "      <td>2208</td>\n",
       "      <td>99.86</td>\n",
       "    </tr>\n",
       "    <tr>\n",
       "      <th>(0.09, 0.1]</th>\n",
       "      <td>2</td>\n",
       "      <td>2156</td>\n",
       "      <td>99.91</td>\n",
       "    </tr>\n",
       "  </tbody>\n",
       "</table>\n",
       "</div>"
      ],
      "text/plain": [
       "              Accepted  Declined  % Declined\n",
       "PAY                                         \n",
       "(0.0, 0.01]          1      2112       99.95\n",
       "(0.01, 0.02]         6      2162       99.72\n",
       "(0.02, 0.03]         1      2141       99.95\n",
       "(0.03, 0.04]         4      2079       99.81\n",
       "(0.04, 0.05]         2      2067       99.90\n",
       "(0.05, 0.06]         2      2116       99.91\n",
       "(0.06, 0.07]         2      2148       99.91\n",
       "(0.07, 0.08]         3      2082       99.86\n",
       "(0.08, 0.09]         3      2208       99.86\n",
       "(0.09, 0.1]          2      2156       99.91"
      ]
     },
     "execution_count": 650,
     "metadata": {},
     "output_type": "execute_result"
    }
   ],
   "source": [
    "Percent_df.head(10)"
   ]
  },
  {
   "cell_type": "code",
   "execution_count": 651,
   "metadata": {},
   "outputs": [
    {
     "data": {
      "text/plain": [
       "99.9"
      ]
     },
     "execution_count": 651,
     "metadata": {},
     "output_type": "execute_result"
    }
   ],
   "source": [
    "Percent_df.loc[0.05]['% Declined']"
   ]
  },
  {
   "cell_type": "markdown",
   "metadata": {},
   "source": [
    "**Rejection function**"
   ]
  },
  {
   "cell_type": "code",
   "execution_count": 652,
   "metadata": {},
   "outputs": [],
   "source": [
    "def Rejection_Rate(x):\n",
    "    Percent = Percent_df.loc[x]['% Declined']/100\n",
    "    return Percent"
   ]
  },
  {
   "cell_type": "code",
   "execution_count": 653,
   "metadata": {},
   "outputs": [],
   "source": [
    "def Acceptance_Rate(x):\n",
    "    Percent = 1 - Percent_df.loc[x]['% Declined']/100\n",
    "    return Percent"
   ]
  },
  {
   "cell_type": "code",
   "execution_count": 654,
   "metadata": {},
   "outputs": [
    {
     "data": {
      "text/plain": [
       "22.52"
      ]
     },
     "execution_count": 654,
     "metadata": {},
     "output_type": "execute_result"
    }
   ],
   "source": [
    "100 * Rejection_Rate(30)"
   ]
  },
  {
   "cell_type": "code",
   "execution_count": 655,
   "metadata": {},
   "outputs": [
    {
     "data": {
      "text/plain": [
       "[2055.125,\n",
       " 2622.540000000001,\n",
       " 2913.2649999999994,\n",
       " 3037.575,\n",
       " 3226.045,\n",
       " 3410.505000000001,\n",
       " 3504.7400000000007,\n",
       " 3611.005000000001,\n",
       " 3865.6399999999994,\n",
       " 4012.005000000001,\n",
       " 4028.045]"
      ]
     },
     "execution_count": 655,
     "metadata": {},
     "output_type": "execute_result"
    }
   ],
   "source": [
    "import numpy as np\n",
    "from scipy.stats import poisson\n",
    "import itertools\n",
    "\n",
    "# Initial Parameter\n",
    "x = 20                                                                               # Example of amount payed to drivers\n",
    "lamb = [1]                                                                           # Initial lambda value for our poisson distributions\n",
    "Ri_Retention = [1000]                                                                # Initial number of riders for first month\n",
    "Max_Riders = 10000                                                                   # Max. number of possible customers\n",
    "\n",
    "Exhausted_Riders = 0                                                                 # Exhausted Rider counter set at 0\n",
    "Profit = []                                                                          # Profit per itteration (month)\n",
    "\n",
    "# Poisson Distribution of every previous Lambda\n",
    "for month in range(0, 12):\n",
    "\n",
    "# Halting if Riders are exhausted\n",
    "    if Max_Riders <= Exhausted_Riders:\n",
    "        break\n",
    "\n",
    "    Total_LambDist = []                                                                  # List of lists containing all the distributions of each given lambda\n",
    "    for ele in range(0, len(lamb)):\n",
    "        Total_LambDist.append(poisson.rvs(mu=lamb[ele], size=int(round(Ri_Retention[ele],0))))\n",
    "\n",
    "    Total_LambDist = [item for sublist in Total_LambDist for item in sublist]            # Our complete new distribution\n",
    "    Unique_Values = list(set(Total_LambDist))                                            # Unique Number of Requests (0 Requests, 1 Request, 2 Requests...) \n",
    "\n",
    "# Number of Riders per Number of Requests\n",
    "    NRi_NRe = []                                                                         # Initializing list which will contain the amount of riders per number of requests\n",
    "    for i in range(0, len(Unique_Values)):                                               # Declaring for loop to iterate over every element of our Unique Values\n",
    "        NRi_NRe.append(np.count_nonzero(Total_LambDist == Unique_Values[i]))             # Appending total amount of every unique number of requests\n",
    "\n",
    "# Attrition Rate per Number of RidersxNumber of Requests\n",
    "    Attrition = []                                                       # Initializing a second list which will contain NRi_NRe(ele)*Rejection_Rate^Number of request\n",
    "    for ele in NRi_NRe:                                                  # Declaring for loop to iterate over every element of total amount of unique requests\n",
    "        Attrition.append(ele*Rejection_Rate(x)**NRi_NRe.index(ele))      # Appending attrition rate defined as total amount of unique requests * rejection rate^number of requests performed\n",
    "\n",
    "# Calculating benefit\n",
    "    Earning = 30 * sum(Total_LambDist)*Acceptance_Rate(x)                # Total earnings per itteration\n",
    "    Cost = x * sum(Total_LambDist)*Acceptance_Rate(x)                    # Total cost per itteration\n",
    "    Benefit = Earning - Cost                                             # Total benefits per itteration\n",
    "    Profit.append(Benefit)\n",
    "\n",
    "# Setting up variables for next loop\n",
    "    Ri_Retention = np.subtract(NRi_NRe, Attrition)[1:]                   # New Ri_Retention values\n",
    "    Ri_Retention[0] = Ri_Retention[0] + 1000                             # New Riders Addad\n",
    "    lamb = Unique_Values[1:]                                             # New lambda values\n",
    "    Exhausted_Riders = Exhausted_Riders + sum(Attrition)                 # New Exhausted Riders\n",
    "Profit\n",
    "\n",
    "\n"
   ]
  },
  {
   "cell_type": "code",
   "execution_count": 656,
   "metadata": {},
   "outputs": [],
   "source": [
    "# Creating a function based on the previously described loop\n",
    "def profit(x):\n",
    "\n",
    "    import numpy as np\n",
    "    from scipy.stats import poisson\n",
    "    import itertools\n",
    "\n",
    "    # Initial Parameters\n",
    "    lamb = [1]                                                                           # Initial lambda value for our poisson distributions\n",
    "    Ri_Retention = [1000]                                                                # Initial number of riders for first month\n",
    "    Max_Riders = 10000                                                                   # Max. number of possible customers\n",
    "\n",
    "    Exhausted_Riders = 0                                                                 # Exhausted Rider counter set at 0\n",
    "    Profit = []                                                                          # Profit per itteration (month)\n",
    "\n",
    "    # Poisson Distribution of every previous Lambda\n",
    "    for month in range(0, 12):\n",
    "\n",
    "    # Halting if Riders are exhausted\n",
    "        if Max_Riders <= Exhausted_Riders:\n",
    "            break\n",
    "\n",
    "        Total_LambDist = []                                                                  # List of lists containing all the distributions of each given lambda\n",
    "        for ele in range(0, len(lamb)):\n",
    "            Total_LambDist.append(poisson.rvs(mu=lamb[ele], size=int(round(Ri_Retention[ele],0))))\n",
    "\n",
    "        Total_LambDist = [item for sublist in Total_LambDist for item in sublist]            # Our complete new distribution\n",
    "        Unique_Values = list(set(Total_LambDist))                                            # Unique Number of Requests (0 Requests, 1 Request, 2 Requests...) \n",
    "\n",
    "    # Number of Riders per Number of Requests\n",
    "        NRi_NRe = []                                                                         # Initializing list which will contain the amount of riders per number of requests\n",
    "        for i in range(0, len(Unique_Values)):                                               # Declaring for loop to iterate over every element of our Unique Values\n",
    "            NRi_NRe.append(np.count_nonzero(Total_LambDist == Unique_Values[i]))             # Appending total amount of every unique number of requests\n",
    "\n",
    "    # Attrition Rate per Number of RidersxNumber of Requests\n",
    "        Attrition = []                                                       # Initializing a second list which will contain NRi_NRe(ele)*Rejection_Rate^Number of request\n",
    "        for ele in NRi_NRe:                                                  # Declaring for loop to iterate over every element of total amount of unique requests\n",
    "            Attrition.append(ele*Rejection_Rate(x)**NRi_NRe.index(ele))      # Appending attrition rate defined as total amount of unique requests * rejection rate^number of requests performed\n",
    "\n",
    "    # Calculating benefit\n",
    "        Earning = 30 * sum(Total_LambDist)*Acceptance_Rate(x)                # Total earnings per itteration\n",
    "        Cost = x * sum(Total_LambDist)*Acceptance_Rate(x)                    # Total cost per itteration\n",
    "        Benefit = Earning - Cost                                             # Total benefits per itteration\n",
    "        Profit.append(Benefit)\n",
    "\n",
    "    # Setting up variables for next loop\n",
    "        Ri_Retention = np.subtract(NRi_NRe, Attrition)[1:]                   # New Ri_Retention values\n",
    "        Ri_Retention[0] = Ri_Retention[0] + 1000                             # New Riders Addad\n",
    "        lamb = Unique_Values[1:]                                             # New lambda values\n",
    "        Exhausted_Riders = Exhausted_Riders + sum(Attrition)                 # New Exhausted Riders\n",
    "    return sum(Profit)\n",
    "\n",
    "\n"
   ]
  },
  {
   "cell_type": "code",
   "execution_count": 670,
   "metadata": {},
   "outputs": [
    {
     "name": "stderr",
     "output_type": "stream",
     "text": [
      "100%|██████████| 3000/3000 [02:27<00:00, 20.39it/s]\n"
     ]
    }
   ],
   "source": [
    "from tqdm import tqdm\n",
    "# Itterating our function over every price interval\n",
    "List_Profit = []\n",
    "\n",
    "\n",
    "# We can limit the itterations from 0 up until 30 since its the break-even point\n",
    "for i in tqdm(Intervals[np.where(Intervals == 0.01)[0][0]:np.where(Intervals == 30.01)[0][0]]):\n",
    "    List_Profit.append(profit(i))\n",
    "\n",
    "\n"
   ]
  },
  {
   "cell_type": "code",
   "execution_count": 671,
   "metadata": {},
   "outputs": [
    {
     "data": {
      "text/plain": [
       "(array([   0,  150,  300,  450,  600,  750,  900, 1050, 1200, 1350, 1500,\n",
       "        1650, 1800, 1950, 2100, 2250, 2400, 2550, 2700, 2850]),\n",
       " [Text(0, 0, '0.01'),\n",
       "  Text(150, 0, '1.51'),\n",
       "  Text(300, 0, '3.01'),\n",
       "  Text(450, 0, '4.51'),\n",
       "  Text(600, 0, '6.01'),\n",
       "  Text(750, 0, '7.51'),\n",
       "  Text(900, 0, '9.01'),\n",
       "  Text(1050, 0, '10.51'),\n",
       "  Text(1200, 0, '12.01'),\n",
       "  Text(1350, 0, '13.51'),\n",
       "  Text(1500, 0, '15.01'),\n",
       "  Text(1650, 0, '16.51'),\n",
       "  Text(1800, 0, '18.01'),\n",
       "  Text(1950, 0, '19.51'),\n",
       "  Text(2100, 0, '21.01'),\n",
       "  Text(2250, 0, '22.51'),\n",
       "  Text(2400, 0, '24.01'),\n",
       "  Text(2550, 0, '25.51'),\n",
       "  Text(2700, 0, '27.01'),\n",
       "  Text(2850, 0, '28.51')])"
      ]
     },
     "execution_count": 671,
     "metadata": {},
     "output_type": "execute_result"
    },
    {
     "data": {
      "image/png": "[encoded data removed]",
      "text/plain": [
       "<Figure size 640x480 with 1 Axes>"
      ]
     },
     "metadata": {},
     "output_type": "display_data"
    }
   ],
   "source": [
    "Profit_df = pd.DataFrame(List_Profit)\n",
    "Profit_df = Profit_df.set_index([Intervals[1:3001]])\n",
    "Profit_df.columns = ['Profit']\n",
    "Profit_df\n",
    "sns.barplot(Profit_df, x=Profit_df.index, y=Profit_df['Profit'])\n",
    "\n",
    "plt.locator_params(axis='x', nbins=20)\n",
    "plt.xticks(rotation = -90)"
   ]
  },
  {
   "cell_type": "markdown",
   "metadata": {},
   "source": [
    "Once we have taken a glance at the profit data we can futher itterate over the <br/>\n",
    "narrower interval band in order to generate a greater sample of our interested <br/>\n",
    "intervals and smooth the data through univariate means (mean|median) <br/>\n"
   ]
  },
  {
   "cell_type": "code",
   "execution_count": 672,
   "metadata": {},
   "outputs": [
    {
     "name": "stderr",
     "output_type": "stream",
     "text": [
      "100%|██████████| 450/450 [00:38<00:00, 11.80it/s]\n"
     ]
    }
   ],
   "source": [
    "# Selecting only the interval [24.01, 28.51] and itterating 1000 times\n",
    "from tqdm import tqdm\n",
    "# Itterating our function over every price interval\n",
    "List_Profit_Interval = []\n",
    "\n",
    "\n",
    "# We can limit the itterations from 0 up until 30 since its the break-even point\n",
    "for i in tqdm(Intervals[np.where(Intervals == 24.01)[0][0]:np.where(Intervals == 28.51)[0][0]]):\n",
    "    List_Profit_Interval.append(profit(i))\n"
   ]
  },
  {
   "cell_type": "code",
   "execution_count": 720,
   "metadata": {},
   "outputs": [
    {
     "ename": "AttributeError",
     "evalue": "'DataFrame' object has no attribute 'bin'",
     "output_type": "error",
     "traceback": [
      "\u001b[1;31m---------------------------------------------------------------------------\u001b[0m",
      "\u001b[1;31mAttributeError\u001b[0m                            Traceback (most recent call last)",
      "Cell \u001b[1;32mIn [720], line 10\u001b[0m\n\u001b[0;32m      8\u001b[0m sns\u001b[39m.\u001b[39mbarplot(x\u001b[39m=\u001b[39mProfit_df_Interval\u001b[39m.\u001b[39mindex, y\u001b[39m=\u001b[39mProfit_df_Interval[\u001b[39m'\u001b[39m\u001b[39mProfit\u001b[39m\u001b[39m'\u001b[39m])  \u001b[39m# quizas es algo con la libreria de Seaborn (SnS) porque se da este mismo error\u001b[39;00m\n\u001b[0;32m      9\u001b[0m \u001b[39m# en todas las graficas pensaba que era tan solo para que se viese mejor el gradiante de color, pero en la grafica de abajo no tiene sentido ninguno\u001b[39;00m\n\u001b[1;32m---> 10\u001b[0m bins\u001b[39m=\u001b[39mnp\u001b[39m.\u001b[39marange(Profit_df_Interval\u001b[39m.\u001b[39;49mbin(), Profit_df_Interval\u001b[39m.\u001b[39mmax()\u001b[39m+\u001b[39m\u001b[39m1\u001b[39m)\n\u001b[0;32m     11\u001b[0m \u001b[39m# Dale al over, lo voy mirando mientras que jugais\u001b[39;00m\n\u001b[0;32m     12\u001b[0m \u001b[39m# La cosa es que no hay ningun valor NaN ni Null\u001b[39;00m\n\u001b[0;32m     15\u001b[0m plt\u001b[39m.\u001b[39mlocator_params(axis\u001b[39m=\u001b[39m\u001b[39m'\u001b[39m\u001b[39mx\u001b[39m\u001b[39m'\u001b[39m, nbins\u001b[39m=\u001b[39m\u001b[39m20\u001b[39m) \u001b[39m# Est\u001b[39;00m\n",
      "File \u001b[1;32m~\\AppData\\Local\\Packages\\PythonSoftwareFoundation.Python.3.10_qbz5n2kfra8p0\\LocalCache\\local-packages\\Python310\\site-packages\\pandas\\core\\generic.py:5902\u001b[0m, in \u001b[0;36mNDFrame.__getattr__\u001b[1;34m(self, name)\u001b[0m\n\u001b[0;32m   5895\u001b[0m \u001b[39mif\u001b[39;00m (\n\u001b[0;32m   5896\u001b[0m     name \u001b[39mnot\u001b[39;00m \u001b[39min\u001b[39;00m \u001b[39mself\u001b[39m\u001b[39m.\u001b[39m_internal_names_set\n\u001b[0;32m   5897\u001b[0m     \u001b[39mand\u001b[39;00m name \u001b[39mnot\u001b[39;00m \u001b[39min\u001b[39;00m \u001b[39mself\u001b[39m\u001b[39m.\u001b[39m_metadata\n\u001b[0;32m   5898\u001b[0m     \u001b[39mand\u001b[39;00m name \u001b[39mnot\u001b[39;00m \u001b[39min\u001b[39;00m \u001b[39mself\u001b[39m\u001b[39m.\u001b[39m_accessors\n\u001b[0;32m   5899\u001b[0m     \u001b[39mand\u001b[39;00m \u001b[39mself\u001b[39m\u001b[39m.\u001b[39m_info_axis\u001b[39m.\u001b[39m_can_hold_identifiers_and_holds_name(name)\n\u001b[0;32m   5900\u001b[0m ):\n\u001b[0;32m   5901\u001b[0m     \u001b[39mreturn\u001b[39;00m \u001b[39mself\u001b[39m[name]\n\u001b[1;32m-> 5902\u001b[0m \u001b[39mreturn\u001b[39;00m \u001b[39mobject\u001b[39;49m\u001b[39m.\u001b[39;49m\u001b[39m__getattribute__\u001b[39;49m(\u001b[39mself\u001b[39;49m, name)\n",
      "\u001b[1;31mAttributeError\u001b[0m: 'DataFrame' object has no attribute 'bin'"
     ]
    },
    {
     "data": {
      "image/png": "[encoded data removed]",
      "text/plain": [
       "<Figure size 640x480 with 1 Axes>"
      ]
     },
     "metadata": {},
     "output_type": "display_data"
    }
   ],
   "source": [
    "Profit_df_Interval = pd.DataFrame(List_Profit_Interval)\n",
    "Profit_df_Interval = Profit_df_Interval.set_index([Intervals[np.where(Intervals == 24.01)[0][0]:np.where(Intervals == 28.51)[0][0]]]) \n",
    "Profit_df_Interval.columns = ['Profit']\n",
    "Profit_df_Interval\n",
    "\n",
    "#bins=np.arange(Profit_df_Interval.bin(), Profit_df_Interval.max()+1)\n",
    "\n",
    "sns.barplot(x=Profit_df_Interval.index, y=Profit_df_Interval['Profit'])  # quizas es algo con la libreria de Seaborn (SnS) porque se da este mismo error\n",
    "# en todas las graficas pensaba que era tan solo para que se viese mejor el gradiante de color, pero en la grafica de abajo no tiene sentido ninguno\n",
    "bins=np.arange(Profit_df_Interval.bin(), Profit_df_Interval.max()+1)\n",
    "# Dale al over, lo voy mirando mientras que jugais\n",
    "# La cosa es que no hay ningun valor NaN ni Null\n",
    "\n",
    "\n",
    "plt.locator_params(axis='x', nbins=20) # Est\n",
    "plt.xticks(rotation = -90)"
   ]
  },
  {
   "cell_type": "code",
   "execution_count": null,
   "metadata": {},
   "outputs": [],
   "source": [
    "# no no esta mejor, creo que es eso tiene que ser cosa de los bins\n",
    "# Ahora esta representado todo solo que las separaciones se debera a los bins\n",
    "# Antes quie"
   ]
  },
  {
   "cell_type": "code",
   "execution_count": 715,
   "metadata": {},
   "outputs": [
    {
     "data": {
      "text/html": [
       "<div>\n",
       "<style scoped>\n",
       "    .dataframe tbody tr th:only-of-type {\n",
       "        vertical-align: middle;\n",
       "    }\n",
       "\n",
       "    .dataframe tbody tr th {\n",
       "        vertical-align: top;\n",
       "    }\n",
       "\n",
       "    .dataframe thead th {\n",
       "        text-align: right;\n",
       "    }\n",
       "</style>\n",
       "<table border=\"1\" class=\"dataframe\">\n",
       "  <thead>\n",
       "    <tr style=\"text-align: right;\">\n",
       "      <th></th>\n",
       "      <th>Profit</th>\n",
       "    </tr>\n",
       "  </thead>\n",
       "  <tbody>\n",
       "    <tr>\n",
       "      <th>24.01</th>\n",
       "      <td>87243.505410</td>\n",
       "    </tr>\n",
       "    <tr>\n",
       "      <th>24.02</th>\n",
       "      <td>77809.428996</td>\n",
       "    </tr>\n",
       "    <tr>\n",
       "      <th>24.03</th>\n",
       "      <td>81866.434482</td>\n",
       "    </tr>\n",
       "    <tr>\n",
       "      <th>24.04</th>\n",
       "      <td>82986.436848</td>\n",
       "    </tr>\n",
       "    <tr>\n",
       "      <th>24.05</th>\n",
       "      <td>85332.359350</td>\n",
       "    </tr>\n",
       "    <tr>\n",
       "      <th>...</th>\n",
       "      <td>...</td>\n",
       "    </tr>\n",
       "    <tr>\n",
       "      <th>28.46</th>\n",
       "      <td>64559.785752</td>\n",
       "    </tr>\n",
       "    <tr>\n",
       "      <th>28.47</th>\n",
       "      <td>64438.050690</td>\n",
       "    </tr>\n",
       "    <tr>\n",
       "      <th>28.48</th>\n",
       "      <td>63642.953584</td>\n",
       "    </tr>\n",
       "    <tr>\n",
       "      <th>28.49</th>\n",
       "      <td>63864.320520</td>\n",
       "    </tr>\n",
       "    <tr>\n",
       "      <th>28.50</th>\n",
       "      <td>61699.231200</td>\n",
       "    </tr>\n",
       "  </tbody>\n",
       "</table>\n",
       "<p>450 rows × 1 columns</p>\n",
       "</div>"
      ],
      "text/plain": [
       "             Profit\n",
       "24.01  87243.505410\n",
       "24.02  77809.428996\n",
       "24.03  81866.434482\n",
       "24.04  82986.436848\n",
       "24.05  85332.359350\n",
       "...             ...\n",
       "28.46  64559.785752\n",
       "28.47  64438.050690\n",
       "28.48  63642.953584\n",
       "28.49  63864.320520\n",
       "28.50  61699.231200\n",
       "\n",
       "[450 rows x 1 columns]"
      ]
     },
     "execution_count": 715,
     "metadata": {},
     "output_type": "execute_result"
    }
   ],
   "source": [
    "Profit_df_Interval.set_index([Intervals[np.where(Intervals == 24.01)[0][0]:np.where(Intervals == 28.51)[0][0]]]) "
   ]
  },
  {
   "cell_type": "code",
   "execution_count": 712,
   "metadata": {},
   "outputs": [
    {
     "data": {
      "text/plain": [
       "98670.39468"
      ]
     },
     "execution_count": 712,
     "metadata": {},
     "output_type": "execute_result"
    }
   ],
   "source": [
    "Profit_df_Interval['Profit'][24.7] # aqui puedes ver que hay datos, pese a que no estan representados"
   ]
  },
  {
   "cell_type": "code",
   "execution_count": 706,
   "metadata": {},
   "outputs": [
    {
     "ename": "KeyError",
     "evalue": "'Profit'",
     "output_type": "error",
     "traceback": [
      "\u001b[1;31m---------------------------------------------------------------------------\u001b[0m",
      "\u001b[1;31mKeyError\u001b[0m                                  Traceback (most recent call last)",
      "Cell \u001b[1;32mIn [706], line 1\u001b[0m\n\u001b[1;32m----> 1\u001b[0m Profit_df_Interval[\u001b[39m'\u001b[39;49m\u001b[39mProfit\u001b[39;49m\u001b[39m'\u001b[39;49m][\u001b[39m25\u001b[39m]\n",
      "File \u001b[1;32m~\\AppData\\Local\\Packages\\PythonSoftwareFoundation.Python.3.10_qbz5n2kfra8p0\\LocalCache\\local-packages\\Python310\\site-packages\\pandas\\core\\frame.py:3804\u001b[0m, in \u001b[0;36mDataFrame.__getitem__\u001b[1;34m(self, key)\u001b[0m\n\u001b[0;32m   3802\u001b[0m \u001b[39mif\u001b[39;00m \u001b[39mself\u001b[39m\u001b[39m.\u001b[39mcolumns\u001b[39m.\u001b[39mnlevels \u001b[39m>\u001b[39m \u001b[39m1\u001b[39m:\n\u001b[0;32m   3803\u001b[0m     \u001b[39mreturn\u001b[39;00m \u001b[39mself\u001b[39m\u001b[39m.\u001b[39m_getitem_multilevel(key)\n\u001b[1;32m-> 3804\u001b[0m indexer \u001b[39m=\u001b[39m \u001b[39mself\u001b[39;49m\u001b[39m.\u001b[39;49mcolumns\u001b[39m.\u001b[39;49mget_loc(key)\n\u001b[0;32m   3805\u001b[0m \u001b[39mif\u001b[39;00m is_integer(indexer):\n\u001b[0;32m   3806\u001b[0m     indexer \u001b[39m=\u001b[39m [indexer]\n",
      "File \u001b[1;32m~\\AppData\\Local\\Packages\\PythonSoftwareFoundation.Python.3.10_qbz5n2kfra8p0\\LocalCache\\local-packages\\Python310\\site-packages\\pandas\\core\\indexes\\range.py:395\u001b[0m, in \u001b[0;36mRangeIndex.get_loc\u001b[1;34m(self, key, method, tolerance)\u001b[0m\n\u001b[0;32m    393\u001b[0m             \u001b[39mraise\u001b[39;00m \u001b[39mKeyError\u001b[39;00m(key) \u001b[39mfrom\u001b[39;00m \u001b[39merr\u001b[39;00m\n\u001b[0;32m    394\u001b[0m     \u001b[39mself\u001b[39m\u001b[39m.\u001b[39m_check_indexing_error(key)\n\u001b[1;32m--> 395\u001b[0m     \u001b[39mraise\u001b[39;00m \u001b[39mKeyError\u001b[39;00m(key)\n\u001b[0;32m    396\u001b[0m \u001b[39mreturn\u001b[39;00m \u001b[39msuper\u001b[39m()\u001b[39m.\u001b[39mget_loc(key, method\u001b[39m=\u001b[39mmethod, tolerance\u001b[39m=\u001b[39mtolerance)\n",
      "\u001b[1;31mKeyError\u001b[0m: 'Profit'"
     ]
    }
   ],
   "source": [
    "Profit_df_Interval['Profit'][25]"
   ]
  }
 ],
 "metadata": {
  "kernelspec": {
   "display_name": "Python 3.10.8 64-bit (microsoft store)",
   "language": "python",
   "name": "python3"
  },
  "language_info": {
   "codemirror_mode": {
    "name": "ipython",
    "version": 3
   },
   "file_extension": ".py",
   "mimetype": "text/x-python",
   "name": "python",
   "nbconvert_exporter": "python",
   "pygments_lexer": "ipython3",
   "version": "3.10.8"
  },
  "orig_nbformat": 4,
  "vscode": {
   "interpreter": {
    "hash": "58916f457dcb34b9456eccbbe92e4d02cea8419b04911ae413e3e2240c7b33b6"
   }
  }
 },
 "nbformat": 4,
 "nbformat_minor": 2
}
